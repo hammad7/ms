{
  "nbformat": 4,
  "nbformat_minor": 0,
  "metadata": {
    "colab": {
      "name": "**TicTacToe_Agent.ipynb",
      "provenance": [],
      "collapsed_sections": []
    },
    "kernelspec": {
      "display_name": "Python 3",
      "language": "python",
      "name": "python3"
    }
  },
  "cells": [
    {
      "cell_type": "markdown",
      "metadata": {
        "id": "rznSDgbvGggG"
      },
      "source": [
        "## Tic-Tac-Toe Agent\n",
        "​\n",
        "In this notebook, we build an RL agent (using Q-learning) that learns to play Numerical Tic-Tac-Toe with odd numbers. The environment is playing randomly with the agent, i.e. its strategy is to put an even number randomly in an empty cell. The following is the layout of the notebook:\n",
        "\n",
        "\n",
        "*   Defining epsilon-greedy strategy\n",
        "*   Tracking state-action pairs for convergence\n",
        "*   Define hyperparameters for the Q-learning algorithm\n",
        "*   Generating episode and applying Q-update equation\n",
        "*   Checking convergence in Q-values"
      ]
    },
    {
      "cell_type": "markdown",
      "metadata": {
        "id": "8eDb8PxBGggH"
      },
      "source": [
        "#### Importing libraries\n",
        "Write the code to import Tic-Tac-Toe class from the environment file"
      ]
    },
    {
      "cell_type": "code",
      "metadata": {
        "id": "6SFNYceFGggJ"
      },
      "source": [
        "from TC_Env import TicTacToe\n",
        "import collections\n",
        "import numpy as np\n",
        "import random\n",
        "import pickle\n",
        "import time\n",
        "from tqdm import tqdm\n",
        "from matplotlib import pyplot as plt"
      ],
      "execution_count": null,
      "outputs": []
    },
    {
      "cell_type": "code",
      "metadata": {
        "id": "e7JQlbHZel64"
      },
      "source": [
        "### vim TC_Env.py in non-pro colab\n",
        "# !pip install kora\n",
        "# from kora import console\n",
        "# console.start()"
      ],
      "execution_count": null,
      "outputs": []
    },
    {
      "cell_type": "code",
      "metadata": {
        "id": "yOe1EluchB8N"
      },
      "source": [
        "env = TicTacToe()"
      ],
      "execution_count": null,
      "outputs": []
    },
    {
      "cell_type": "code",
      "metadata": {
        "id": "wYLQyopEG8nz"
      },
      "source": [
        "# Function to convert state array into a string to store it as keys in the dictionary\n",
        "# states in Q-dictionary will be of form: x-4-5-3-8-x-x-x-x\n",
        "#   x | 4 | 5\n",
        "#   ----------\n",
        "#   3 | 8 | x\n",
        "#   ----------\n",
        "#   x | x | x\n",
        "\n",
        "def Q_state(state):\n",
        "\n",
        "    return ('-'.join(str(e) for e in state)).replace('nan','x')"
      ],
      "execution_count": null,
      "outputs": []
    },
    {
      "cell_type": "code",
      "metadata": {
        "colab": {
          "base_uri": "https://localhost:8080/",
          "height": 35
        },
        "id": "s6m3OgrshIzm",
        "outputId": "ed89c899-887a-4f6d-bbe9-3d026ad7cb5f"
      },
      "source": [
        "Q_state(env.state)"
      ],
      "execution_count": null,
      "outputs": [
        {
          "output_type": "execute_result",
          "data": {
            "application/vnd.google.colaboratory.intrinsic+json": {
              "type": "string"
            },
            "text/plain": [
              "'x-x-x-x-x-x-x-x-x'"
            ]
          },
          "metadata": {},
          "execution_count": 5
        }
      ]
    },
    {
      "cell_type": "code",
      "metadata": {
        "id": "ZebMOoiVHBBr"
      },
      "source": [
        "# Defining a function which will return valid (all possible actions) actions corresponding to a state\n",
        "# Important to avoid errors during deployment.\n",
        "\n",
        "def valid_actions(state):\n",
        "\n",
        "    valid_Actions = []\n",
        "    \n",
        "    valid_Actions = [i for i in env.action_space(state)[0]] # call environment as env\n",
        "    return valid_Actions"
      ],
      "execution_count": null,
      "outputs": []
    },
    {
      "cell_type": "code",
      "metadata": {
        "colab": {
          "base_uri": "https://localhost:8080/"
        },
        "id": "X1IvefxShRvl",
        "outputId": "7093c7bd-d5da-4e0a-ab02-077f2b196cb7"
      },
      "source": [
        "valid_actions(env.state)"
      ],
      "execution_count": null,
      "outputs": [
        {
          "output_type": "execute_result",
          "data": {
            "text/plain": [
              "[(0, 1),\n",
              " (0, 3),\n",
              " (0, 5),\n",
              " (0, 7),\n",
              " (0, 9),\n",
              " (1, 1),\n",
              " (1, 3),\n",
              " (1, 5),\n",
              " (1, 7),\n",
              " (1, 9),\n",
              " (2, 1),\n",
              " (2, 3),\n",
              " (2, 5),\n",
              " (2, 7),\n",
              " (2, 9),\n",
              " (3, 1),\n",
              " (3, 3),\n",
              " (3, 5),\n",
              " (3, 7),\n",
              " (3, 9),\n",
              " (4, 1),\n",
              " (4, 3),\n",
              " (4, 5),\n",
              " (4, 7),\n",
              " (4, 9),\n",
              " (5, 1),\n",
              " (5, 3),\n",
              " (5, 5),\n",
              " (5, 7),\n",
              " (5, 9),\n",
              " (6, 1),\n",
              " (6, 3),\n",
              " (6, 5),\n",
              " (6, 7),\n",
              " (6, 9),\n",
              " (7, 1),\n",
              " (7, 3),\n",
              " (7, 5),\n",
              " (7, 7),\n",
              " (7, 9),\n",
              " (8, 1),\n",
              " (8, 3),\n",
              " (8, 5),\n",
              " (8, 7),\n",
              " (8, 9)]"
            ]
          },
          "metadata": {},
          "execution_count": 7
        }
      ]
    },
    {
      "cell_type": "code",
      "metadata": {
        "id": "IRciPUkYHDWf"
      },
      "source": [
        "# Defining a function which will add new Q-values to the Q-dictionary. \n",
        "def add_to_dict(state):\n",
        "    state_key = Q_state(state)\n",
        "    if state_key not in Q_dict.keys():\n",
        "        valid_act = valid_actions(state)\n",
        "        for action in valid_act:\n",
        "            Q_dict[state_key][action]=0\n"
      ],
      "execution_count": null,
      "outputs": []
    },
    {
      "cell_type": "markdown",
      "metadata": {
        "id": "fNNi_EfHGggM"
      },
      "source": [
        "#### Epsilon-greedy strategy "
      ]
    },
    {
      "cell_type": "code",
      "metadata": {
        "id": "m0lMfqiJGggN"
      },
      "source": [
        "# Defining epsilon-greedy policy. You can choose any function epsilon-decay strategy\n",
        "def epsilon_greedy(state, time):\n",
        "    epsilon = min_epsilon + (max_epsilon - min_epsilon) * np.exp(-decay_rate*time)\n",
        "    # print(epsilon)\n",
        "    z = np.random.random()\n",
        "        \n",
        "    if z > epsilon:  #Exploit: this gets the action corresponding to max q-value of current state\n",
        "        state1 = Q_state(state)\n",
        "        action = max(Q_dict[state1],key=Q_dict[state1].get)   \n",
        "    else:  #Explore: randomly choosing and action\n",
        "        possible_action = [i for i in env.action_space(state)[0]]        \n",
        "        action = possible_action[np.random.choice(range(len(possible_action)))]    \n",
        "    \n",
        "    return action\n",
        "\n",
        "\n"
      ],
      "execution_count": null,
      "outputs": []
    },
    {
      "cell_type": "markdown",
      "metadata": {
        "id": "H2kyQHOMGggR"
      },
      "source": [
        "#### Tracking the state-action pairs for checking convergence "
      ]
    },
    {
      "cell_type": "code",
      "metadata": {
        "id": "qcxZ29vdGggS"
      },
      "source": [
        "# Initialise Q_dictionary as 'Q_dict' and States_tracked as 'States_track' (for convergence)\n",
        "Q_dict = collections.defaultdict(dict)\n",
        "States_track = collections.defaultdict(dict)"
      ],
      "execution_count": null,
      "outputs": []
    },
    {
      "cell_type": "code",
      "metadata": {
        "id": "vs73iv8fHOxV"
      },
      "source": [
        "# Initialise states to be tracked\n",
        "def initialise_tracking_states():\n",
        "    ## sample 4 \n",
        "    Sample_Qvalues = [('x-x-x-x-x-x-x-x-x',(4,9)),('8-x-x-x-9-x-5-x-4',(2,1)),\n",
        "                       ('x-3-x-x-5-x-4-x-8',(7,7)),('3-x-x-x-6-x-7-x-8',(3,5))]    \n",
        "    for q_values in Sample_Qvalues:\n",
        "        state = q_values[0]\n",
        "        action = q_values[1]\n",
        "        States_track[state][action] = []\n",
        "  \n",
        "  \n",
        "  \n",
        "  "
      ],
      "execution_count": null,
      "outputs": []
    },
    {
      "cell_type": "code",
      "metadata": {
        "id": "dAbwJDMVHpwl"
      },
      "source": [
        "#Defining a function to save the Q-dictionary as a pickle file\n",
        "\n",
        "def save_obj(obj, name ):\n",
        "    with open(name + '.pkl', 'wb') as f:\n",
        "        pickle.dump(obj, f, pickle.HIGHEST_PROTOCOL)"
      ],
      "execution_count": null,
      "outputs": []
    },
    {
      "cell_type": "code",
      "metadata": {
        "id": "6Pyj7nMVHsBi"
      },
      "source": [
        "def save_tracking_states():\n",
        "    for state in States_track.keys():\n",
        "        for action in States_track[state].keys():\n",
        "            if state in Q_dict and action in Q_dict[state]:\n",
        "                States_track[state][action].append(Q_dict[state][action])"
      ],
      "execution_count": null,
      "outputs": []
    },
    {
      "cell_type": "code",
      "metadata": {
        "id": "B_8xSluUHvew"
      },
      "source": [
        "initialise_tracking_states()"
      ],
      "execution_count": null,
      "outputs": []
    },
    {
      "cell_type": "code",
      "metadata": {
        "colab": {
          "base_uri": "https://localhost:8080/"
        },
        "id": "H36-n1x9jout",
        "outputId": "dcb2188a-ef90-45ef-d4d7-fa5d36ce1e62"
      },
      "source": [
        "States_track"
      ],
      "execution_count": null,
      "outputs": [
        {
          "output_type": "execute_result",
          "data": {
            "text/plain": [
              "defaultdict(dict,\n",
              "            {'3-x-x-x-6-x-7-x-8': {(3, 5): []},\n",
              "             '8-x-x-x-9-x-5-x-4': {(2, 1): []},\n",
              "             'x-3-x-x-5-x-4-x-8': {(7, 7): []},\n",
              "             'x-x-x-x-x-x-x-x-x': {(4, 9): []}})"
            ]
          },
          "metadata": {},
          "execution_count": 15
        }
      ]
    },
    {
      "cell_type": "markdown",
      "metadata": {
        "id": "-iPt--E9GggV"
      },
      "source": [
        "#### Define hyperparameters  "
      ]
    },
    {
      "cell_type": "code",
      "metadata": {
        "id": "G0_f5czFGggW"
      },
      "source": [
        "EPISODES = 20000000\n",
        "LR = 0.7                   # learning rate\n",
        "GAMMA = 0.7                # discount factor\n",
        "\n",
        "max_epsilon = 1.0\n",
        "min_epsilon = 0.0001\n",
        "decay_rate = 0.00003        # epsilon decay rate\n",
        "threshold = 100000       # no of episodes after which states_tracked will be saved\n",
        "v_threshold = 30000       # no of episodes after which verbose rewards and largest diff in q value\n",
        "policy_threshold = 100000   # no of episodes after which Q dictionary/table will be saved\n",
        "initialise_tracking_states()"
      ],
      "execution_count": null,
      "outputs": []
    },
    {
      "cell_type": "code",
      "metadata": {
        "colab": {
          "base_uri": "https://localhost:8080/",
          "height": 278
        },
        "id": "VxPn1y6JCSWn",
        "outputId": "5b1b5d0f-1b4f-4b4b-adb5-5c95cf01a473"
      },
      "source": [
        "## analyse how many explore/exploit\n",
        "time_x = np.arange(0,EPISODES)\n",
        "epsilon = []\n",
        "for time_i in range(0,EPISODES):\n",
        "    epsilon.append(min_epsilon + (max_epsilon - min_epsilon) * np.exp(-decay_rate*time_i))\n",
        "\n",
        "plt.plot(time_x, epsilon)\n",
        "plt.show()\n"
      ],
      "execution_count": null,
      "outputs": [
        {
          "output_type": "display_data",
          "data": {
            "image/png": "[encoded data removed]",
            "text/plain": [
              "<Figure size 432x288 with 1 Axes>"
            ]
          },
          "metadata": {
            "needs_background": "light"
          }
        }
      ]
    },
    {
      "cell_type": "markdown",
      "metadata": {
        "id": "Md6twJ7wGggh"
      },
      "source": [
        "### Q-update loop "
      ]
    },
    {
      "cell_type": "code",
      "metadata": {
        "colab": {
          "base_uri": "https://localhost:8080/"
        },
        "id": "ldCgQuDNGggj",
        "outputId": "ada9d742-9cfb-426f-a7ee-85755e842cfc"
      },
      "source": [
        "start_time = time.time()\n",
        "total_reward_convergence = []\n",
        "deltas = []\n",
        "env = TicTacToe() # call the environment\n",
        "for episode in tqdm(range(EPISODES)):\n",
        "    env.reset()\n",
        "    curr_state = env.state    \n",
        "    done = False  \n",
        "    add_to_dict(curr_state)  # adding the current state to dictionary\n",
        "    total_reward = 0 #tracking\n",
        "    biggest_change = 0 #tracking\n",
        "    while done != True:  \n",
        "        curr_state_str = Q_state(curr_state)\n",
        "        # applying epislon method, to decide action; epsilon ->  0 means action take greed actions\n",
        "        curr_action = epsilon_greedy(curr_state, episode)   \n",
        "        next_state, reward, done = env.step(curr_state, curr_action) # take agent action, getting reward\n",
        "        next_state_key = Q_state(next_state)\n",
        "        add_to_dict(next_state)\n",
        "        total_reward += reward #tracking\n",
        "        old_q = Q_dict[curr_state_str][curr_action] #tracking\n",
        "        # Updating rules\n",
        "        if done != True:\n",
        "            max_next = max(Q_dict[next_state_key],key=Q_dict[next_state_key].get)  \n",
        "                #this gets the action corresponding to max q-value of next state\n",
        "            Q_dict[curr_state_str][curr_action] += LR * ((reward + (GAMMA*(Q_dict[next_state_key][max_next])))\n",
        "                                                      - Q_dict[curr_state_str][curr_action] ) \n",
        "        else:\n",
        "          # if the next state is a terminal state, then the Q-values from that state are 0.\n",
        "            Q_dict[curr_state_str][curr_action] += LR * ((reward - Q_dict[curr_state_str][curr_action]))\n",
        "        \n",
        "        biggest_change = max(biggest_change, np.abs(Q_dict[curr_state_str][curr_action] - old_q))\n",
        "        # navigating to next state\n",
        "        curr_state = next_state\n",
        "\n",
        "    total_reward_convergence.append(total_reward)\n",
        "    deltas.append(biggest_change)\n",
        "    # states tracking   \n",
        "    if ((episode+1)%threshold)==0:\n",
        "        save_tracking_states()\n",
        "        save_obj(States_track,'States_tracking')\n",
        "    if ((episode+1)%v_threshold)==0:\n",
        "        print(\"avg\",np.mean(total_reward_convergence[:-v_threshold]),np.mean(deltas[:-v_threshold]))\n",
        "\n",
        "    # save Policy_Q_dict\n",
        "    if ((episode+1)% policy_threshold) == 0:  #every policy_thresholdth episodes, the Q-dict will be saved\n",
        "        save_obj(Q_dict,'Policy_Q_dict')  \n",
        "        \n",
        "\n",
        "elapsed_time = time.time() - start_time\n",
        "save_obj(States_track,'States_tracked')   \n",
        "save_obj(Q_dict,'Policy')\n",
        "save_obj(total_reward_convergence,'Rewards')   \n",
        "save_obj(deltas,'Deltas')   \n"
      ],
      "execution_count": null,
      "outputs": [
        {
          "output_type": "stream",
          "name": "stderr",
          "text": [
            "  0%|          | 29929/15000000 [00:27<3:17:15, 1264.87it/s]/usr/local/lib/python3.7/dist-packages/numpy/core/fromnumeric.py:3373: RuntimeWarning: Mean of empty slice.\n",
            "  out=out, **kwargs)\n",
            "/usr/local/lib/python3.7/dist-packages/numpy/core/_methods.py:170: RuntimeWarning: invalid value encountered in double_scalars\n",
            "  ret = ret.dtype.type(ret / rcount)\n",
            "  0%|          | 30181/15000000 [00:27<3:24:13, 1221.72it/s]"
          ]
        },
        {
          "output_type": "stream",
          "name": "stdout",
          "text": [
            "avg nan nan\n"
          ]
        },
        {
          "output_type": "stream",
          "name": "stderr",
          "text": [
            "  0%|          | 60272/15000000 [00:49<3:27:41, 1198.85it/s]"
          ]
        },
        {
          "output_type": "stream",
          "name": "stdout",
          "text": [
            "avg -3.6123666666666665 4.093943593012954\n"
          ]
        },
        {
          "output_type": "stream",
          "name": "stderr",
          "text": [
            "  1%|          | 90254/15000000 [01:11<2:53:25, 1432.81it/s]"
          ]
        },
        {
          "output_type": "stream",
          "name": "stdout",
          "text": [
            "avg -3.56425 4.060679680936184\n"
          ]
        },
        {
          "output_type": "stream",
          "name": "stderr",
          "text": [
            "  1%|          | 120256/15000000 [01:30<2:21:24, 1753.79it/s]"
          ]
        },
        {
          "output_type": "stream",
          "name": "stdout",
          "text": [
            "avg -3.4241888888888887 4.046161444103638\n"
          ]
        },
        {
          "output_type": "stream",
          "name": "stderr",
          "text": [
            "  1%|          | 150244/15000000 [01:47<2:45:22, 1496.56it/s]"
          ]
        },
        {
          "output_type": "stream",
          "name": "stdout",
          "text": [
            "avg -3.221325 4.038783876930173\n"
          ]
        },
        {
          "output_type": "stream",
          "name": "stderr",
          "text": [
            "  1%|          | 180205/15000000 [02:05<2:28:41, 1661.05it/s]"
          ]
        },
        {
          "output_type": "stream",
          "name": "stdout",
          "text": [
            "avg -2.976053333333333 4.027284056094727\n"
          ]
        },
        {
          "output_type": "stream",
          "name": "stderr",
          "text": [
            "  1%|▏         | 210339/15000000 [02:23<2:14:28, 1833.03it/s]"
          ]
        },
        {
          "output_type": "stream",
          "name": "stdout",
          "text": [
            "avg -2.7615166666666666 4.011366977303346\n"
          ]
        },
        {
          "output_type": "stream",
          "name": "stderr",
          "text": [
            "  2%|▏         | 240193/15000000 [02:38<2:33:31, 1602.38it/s]"
          ]
        },
        {
          "output_type": "stream",
          "name": "stdout",
          "text": [
            "avg -2.4872428571428573 3.993711704877625\n"
          ]
        },
        {
          "output_type": "stream",
          "name": "stderr",
          "text": [
            "  2%|▏         | 270285/15000000 [02:53<2:08:11, 1914.97it/s]"
          ]
        },
        {
          "output_type": "stream",
          "name": "stdout",
          "text": [
            "avg -2.2546708333333334 3.980483660446156\n"
          ]
        },
        {
          "output_type": "stream",
          "name": "stderr",
          "text": [
            "  2%|▏         | 299969/15000000 [03:07<1:55:51, 2114.56it/s]"
          ]
        },
        {
          "output_type": "stream",
          "name": "stdout",
          "text": [
            "avg -2.0122444444444443 3.9607474548075943\n"
          ]
        },
        {
          "output_type": "stream",
          "name": "stderr",
          "text": [
            "  2%|▏         | 330324/15000000 [03:23<2:01:38, 2010.00it/s]"
          ]
        },
        {
          "output_type": "stream",
          "name": "stdout",
          "text": [
            "avg -1.70161 3.918960546478647\n"
          ]
        },
        {
          "output_type": "stream",
          "name": "stderr",
          "text": [
            "  2%|▏         | 360208/15000000 [03:36<2:12:34, 1840.46it/s]"
          ]
        },
        {
          "output_type": "stream",
          "name": "stdout",
          "text": [
            "avg -1.3942424242424243 3.8880362141658864\n"
          ]
        },
        {
          "output_type": "stream",
          "name": "stderr",
          "text": [
            "  3%|▎         | 390462/15000000 [03:50<2:07:05, 1915.95it/s]"
          ]
        },
        {
          "output_type": "stream",
          "name": "stdout",
          "text": [
            "avg -1.0256472222222222 3.832879798486863\n"
          ]
        },
        {
          "output_type": "stream",
          "name": "stderr",
          "text": [
            "  3%|▎         | 420299/15000000 [04:05<2:24:37, 1680.19it/s]"
          ]
        },
        {
          "output_type": "stream",
          "name": "stdout",
          "text": [
            "avg -0.832748717948718 3.808311854478164\n"
          ]
        },
        {
          "output_type": "stream",
          "name": "stderr",
          "text": [
            "  3%|▎         | 450331/15000000 [04:18<2:09:38, 1870.55it/s]"
          ]
        },
        {
          "output_type": "stream",
          "name": "stdout",
          "text": [
            "avg -0.6429690476190476 3.7826106582124996\n"
          ]
        },
        {
          "output_type": "stream",
          "name": "stderr",
          "text": [
            "  3%|▎         | 480255/15000000 [04:31<2:00:09, 2013.84it/s]"
          ]
        },
        {
          "output_type": "stream",
          "name": "stdout",
          "text": [
            "avg -0.4716 3.751895767397989\n"
          ]
        },
        {
          "output_type": "stream",
          "name": "stderr",
          "text": [
            "  3%|▎         | 510518/15000000 [04:47<1:55:22, 2093.19it/s]"
          ]
        },
        {
          "output_type": "stream",
          "name": "stdout",
          "text": [
            "avg -0.39225 3.7450969830185663\n"
          ]
        },
        {
          "output_type": "stream",
          "name": "stderr",
          "text": [
            "  4%|▎         | 540298/15000000 [04:59<1:59:41, 2013.46it/s]"
          ]
        },
        {
          "output_type": "stream",
          "name": "stdout",
          "text": [
            "avg -0.268443137254902 3.7334255573108464\n"
          ]
        },
        {
          "output_type": "stream",
          "name": "stderr",
          "text": [
            "  4%|▍         | 570376/15000000 [05:11<1:59:13, 2017.26it/s]"
          ]
        },
        {
          "output_type": "stream",
          "name": "stdout",
          "text": [
            "avg -0.10494074074074074 3.7072668441459973\n"
          ]
        },
        {
          "output_type": "stream",
          "name": "stderr",
          "text": [
            "  4%|▍         | 599903/15000000 [05:24<1:38:43, 2430.92it/s]"
          ]
        },
        {
          "output_type": "stream",
          "name": "stdout",
          "text": [
            "avg 0.027066666666666666 3.6865788115518723\n"
          ]
        },
        {
          "output_type": "stream",
          "name": "stderr",
          "text": [
            "  4%|▍         | 630241/15000000 [05:39<2:18:11, 1733.12it/s]"
          ]
        },
        {
          "output_type": "stream",
          "name": "stdout",
          "text": [
            "avg 0.082765 3.676144280122464\n"
          ]
        },
        {
          "output_type": "stream",
          "name": "stderr",
          "text": [
            "  4%|▍         | 660288/15000000 [05:53<2:07:38, 1872.27it/s]"
          ]
        },
        {
          "output_type": "stream",
          "name": "stdout",
          "text": [
            "avg 0.163684126984127 3.665515596816112\n"
          ]
        },
        {
          "output_type": "stream",
          "name": "stderr",
          "text": [
            "  5%|▍         | 690316/15000000 [06:06<3:29:41, 1137.33it/s]"
          ]
        },
        {
          "output_type": "stream",
          "name": "stdout",
          "text": [
            "avg 0.18904848484848485 3.669660343467433\n"
          ]
        },
        {
          "output_type": "stream",
          "name": "stderr",
          "text": [
            "  5%|▍         | 720455/15000000 [06:21<2:17:40, 1728.74it/s]"
          ]
        },
        {
          "output_type": "stream",
          "name": "stdout",
          "text": [
            "avg 0.26691884057971016 3.6606839221899694\n"
          ]
        },
        {
          "output_type": "stream",
          "name": "stderr",
          "text": [
            "  5%|▌         | 750346/15000000 [06:34<2:37:27, 1508.33it/s]"
          ]
        },
        {
          "output_type": "stream",
          "name": "stdout",
          "text": [
            "avg 0.3357736111111111 3.652726698863334\n"
          ]
        },
        {
          "output_type": "stream",
          "name": "stderr",
          "text": [
            "  5%|▌         | 780469/15000000 [06:47<2:21:34, 1673.93it/s]"
          ]
        },
        {
          "output_type": "stream",
          "name": "stdout",
          "text": [
            "avg 0.39892266666666665 3.642488035214751\n"
          ]
        },
        {
          "output_type": "stream",
          "name": "stderr",
          "text": [
            "  5%|▌         | 810262/15000000 [07:03<2:29:21, 1583.46it/s]"
          ]
        },
        {
          "output_type": "stream",
          "name": "stdout",
          "text": [
            "avg 0.43344615384615387 3.642349608846131\n"
          ]
        },
        {
          "output_type": "stream",
          "name": "stderr",
          "text": [
            "  6%|▌         | 840322/15000000 [07:17<2:10:41, 1805.63it/s]"
          ]
        },
        {
          "output_type": "stream",
          "name": "stdout",
          "text": [
            "avg 0.4815530864197531 3.640898479727915\n"
          ]
        },
        {
          "output_type": "stream",
          "name": "stderr",
          "text": [
            "  6%|▌         | 870406/15000000 [07:30<2:28:13, 1588.76it/s]"
          ]
        },
        {
          "output_type": "stream",
          "name": "stdout",
          "text": [
            "avg 0.5143809523809524 3.640981653162081\n"
          ]
        },
        {
          "output_type": "stream",
          "name": "stderr",
          "text": [
            "  6%|▌         | 899841/15000000 [07:43<1:44:51, 2241.06it/s]"
          ]
        },
        {
          "output_type": "stream",
          "name": "stdout",
          "text": [
            "avg 0.5489781609195402 3.635892046513819\n"
          ]
        },
        {
          "output_type": "stream",
          "name": "stderr",
          "text": [
            "  6%|▌         | 930412/15000000 [08:00<2:22:31, 1645.28it/s]"
          ]
        },
        {
          "output_type": "stream",
          "name": "stdout",
          "text": [
            "avg 0.5789622222222223 3.6333512585407646\n"
          ]
        },
        {
          "output_type": "stream",
          "name": "stderr",
          "text": [
            "  6%|▋         | 960383/15000000 [08:13<2:29:53, 1561.03it/s]"
          ]
        },
        {
          "output_type": "stream",
          "name": "stdout",
          "text": [
            "avg 0.6022612903225807 3.6334806433591487\n"
          ]
        },
        {
          "output_type": "stream",
          "name": "stderr",
          "text": [
            "  7%|▋         | 990261/15000000 [08:27<2:49:37, 1376.49it/s]"
          ]
        },
        {
          "output_type": "stream",
          "name": "stdout",
          "text": [
            "avg 0.6275864583333334 3.6258882667845937\n"
          ]
        },
        {
          "output_type": "stream",
          "name": "stderr",
          "text": [
            "  7%|▋         | 1020444/15000000 [08:43<2:16:35, 1705.84it/s]"
          ]
        },
        {
          "output_type": "stream",
          "name": "stdout",
          "text": [
            "avg 0.626740404040404 3.622684466112008\n"
          ]
        },
        {
          "output_type": "stream",
          "name": "stderr",
          "text": [
            "  7%|▋         | 1050359/15000000 [08:55<2:12:23, 1756.18it/s]"
          ]
        },
        {
          "output_type": "stream",
          "name": "stdout",
          "text": [
            "avg 0.6619019607843137 3.614306189654422\n"
          ]
        },
        {
          "output_type": "stream",
          "name": "stderr",
          "text": [
            "  7%|▋         | 1080220/15000000 [09:07<2:35:01, 1496.53it/s]"
          ]
        },
        {
          "output_type": "stream",
          "name": "stdout",
          "text": [
            "avg 0.7351371428571428 3.59902967414449\n"
          ]
        },
        {
          "output_type": "stream",
          "name": "stderr",
          "text": [
            "  7%|▋         | 1110286/15000000 [09:23<2:29:18, 1550.39it/s]"
          ]
        },
        {
          "output_type": "stream",
          "name": "stdout",
          "text": [
            "avg 0.80445 3.584967158030804\n"
          ]
        },
        {
          "output_type": "stream",
          "name": "stderr",
          "text": [
            "  8%|▊         | 1140354/15000000 [09:35<2:15:36, 1703.43it/s]"
          ]
        },
        {
          "output_type": "stream",
          "name": "stdout",
          "text": [
            "avg 0.8693918918918919 3.57254614721864\n"
          ]
        },
        {
          "output_type": "stream",
          "name": "stderr",
          "text": [
            "  8%|▊         | 1170503/15000000 [09:47<2:25:20, 1585.82it/s]"
          ]
        },
        {
          "output_type": "stream",
          "name": "stdout",
          "text": [
            "avg 0.9364649122807017 3.5577802575271966\n"
          ]
        },
        {
          "output_type": "stream",
          "name": "stderr",
          "text": [
            "  8%|▊         | 1199796/15000000 [09:59<1:27:37, 2625.04it/s]"
          ]
        },
        {
          "output_type": "stream",
          "name": "stdout",
          "text": [
            "avg 0.986148717948718 3.5469603963082634\n"
          ]
        },
        {
          "output_type": "stream",
          "name": "stderr",
          "text": [
            "  8%|▊         | 1230453/15000000 [10:15<2:30:58, 1520.00it/s]"
          ]
        },
        {
          "output_type": "stream",
          "name": "stdout",
          "text": [
            "avg 1.0369925 3.536484343992871\n"
          ]
        },
        {
          "output_type": "stream",
          "name": "stderr",
          "text": [
            "  8%|▊         | 1260547/15000000 [10:27<2:12:34, 1727.25it/s]"
          ]
        },
        {
          "output_type": "stream",
          "name": "stdout",
          "text": [
            "avg 1.086460975609756 3.5273300950945043\n"
          ]
        },
        {
          "output_type": "stream",
          "name": "stderr",
          "text": [
            "  9%|▊         | 1290409/15000000 [10:38<2:08:30, 1778.12it/s]"
          ]
        },
        {
          "output_type": "stream",
          "name": "stdout",
          "text": [
            "avg 1.1439079365079365 3.515024426848883\n"
          ]
        },
        {
          "output_type": "stream",
          "name": "stderr",
          "text": [
            "  9%|▉         | 1320360/15000000 [10:53<2:23:34, 1587.96it/s]"
          ]
        },
        {
          "output_type": "stream",
          "name": "stdout",
          "text": [
            "avg 1.2191023255813953 3.4932434402653665\n"
          ]
        },
        {
          "output_type": "stream",
          "name": "stderr",
          "text": [
            "  9%|▉         | 1350569/15000000 [11:04<1:51:20, 2043.07it/s]"
          ]
        },
        {
          "output_type": "stream",
          "name": "stdout",
          "text": [
            "avg 1.3060462121212122 3.4663880651075254\n"
          ]
        },
        {
          "output_type": "stream",
          "name": "stderr",
          "text": [
            "  9%|▉         | 1380307/15000000 [11:15<2:30:51, 1504.73it/s]"
          ]
        },
        {
          "output_type": "stream",
          "name": "stdout",
          "text": [
            "avg 1.384637037037037 3.4422812217908665\n"
          ]
        },
        {
          "output_type": "stream",
          "name": "stderr",
          "text": [
            "  9%|▉         | 1410452/15000000 [11:32<2:31:36, 1493.92it/s]"
          ]
        },
        {
          "output_type": "stream",
          "name": "stdout",
          "text": [
            "avg 1.4540898550724637 3.422562297900137\n"
          ]
        },
        {
          "output_type": "stream",
          "name": "stderr",
          "text": [
            " 10%|▉         | 1440508/15000000 [11:44<2:39:27, 1417.24it/s]"
          ]
        },
        {
          "output_type": "stream",
          "name": "stdout",
          "text": [
            "avg 1.500818439716312 3.4122517379346013\n"
          ]
        },
        {
          "output_type": "stream",
          "name": "stderr",
          "text": [
            " 10%|▉         | 1470410/15000000 [11:56<2:09:43, 1738.24it/s]"
          ]
        },
        {
          "output_type": "stream",
          "name": "stdout",
          "text": [
            "avg 1.5212326388888888 3.4083307221720744\n"
          ]
        },
        {
          "output_type": "stream",
          "name": "stderr",
          "text": [
            " 10%|▉         | 1499897/15000000 [12:06<1:14:57, 3001.83it/s]"
          ]
        },
        {
          "output_type": "stream",
          "name": "stdout",
          "text": [
            "avg 1.581495918367347 3.391077544275032\n"
          ]
        },
        {
          "output_type": "stream",
          "name": "stderr",
          "text": [
            " 10%|█         | 1530503/15000000 [12:24<2:34:30, 1452.90it/s]"
          ]
        },
        {
          "output_type": "stream",
          "name": "stdout",
          "text": [
            "avg 1.6441693333333334 3.3733190094755168\n"
          ]
        },
        {
          "output_type": "stream",
          "name": "stderr",
          "text": [
            " 10%|█         | 1560554/15000000 [12:35<2:21:59, 1577.45it/s]"
          ]
        },
        {
          "output_type": "stream",
          "name": "stdout",
          "text": [
            "avg 1.6661359477124182 3.367026292217514\n"
          ]
        },
        {
          "output_type": "stream",
          "name": "stderr",
          "text": [
            " 11%|█         | 1590254/15000000 [12:46<2:58:42, 1250.64it/s]"
          ]
        },
        {
          "output_type": "stream",
          "name": "stdout",
          "text": [
            "avg 1.7134641025641026 3.356155100616779\n"
          ]
        },
        {
          "output_type": "stream",
          "name": "stderr",
          "text": [
            " 11%|█         | 1620382/15000000 [13:03<2:24:08, 1547.05it/s]"
          ]
        },
        {
          "output_type": "stream",
          "name": "stdout",
          "text": [
            "avg 1.7556427672955974 3.346481165386919\n"
          ]
        },
        {
          "output_type": "stream",
          "name": "stderr",
          "text": [
            " 11%|█         | 1650565/15000000 [13:14<2:29:28, 1488.50it/s]"
          ]
        },
        {
          "output_type": "stream",
          "name": "stdout",
          "text": [
            "avg 1.7922351851851852 3.3373261095450792\n"
          ]
        },
        {
          "output_type": "stream",
          "name": "stderr",
          "text": [
            " 11%|█         | 1680393/15000000 [13:24<2:26:16, 1517.71it/s]"
          ]
        },
        {
          "output_type": "stream",
          "name": "stdout",
          "text": [
            "avg 1.8546242424242425 3.3171777299900183\n"
          ]
        },
        {
          "output_type": "stream",
          "name": "stderr",
          "text": [
            " 11%|█▏        | 1710366/15000000 [13:40<2:35:42, 1422.52it/s]"
          ]
        },
        {
          "output_type": "stream",
          "name": "stdout",
          "text": [
            "avg 1.9248363095238095 3.2935648337106618\n"
          ]
        },
        {
          "output_type": "stream",
          "name": "stderr",
          "text": [
            " 12%|█▏        | 1740511/15000000 [13:50<2:09:50, 1701.91it/s]"
          ]
        },
        {
          "output_type": "stream",
          "name": "stdout",
          "text": [
            "avg 1.978477192982456 3.2769068429115866\n"
          ]
        },
        {
          "output_type": "stream",
          "name": "stderr",
          "text": [
            " 12%|█▏        | 1770404/15000000 [13:59<2:10:29, 1689.77it/s]"
          ]
        },
        {
          "output_type": "stream",
          "name": "stdout",
          "text": [
            "avg 2.0611103448275863 3.244906074830274\n"
          ]
        },
        {
          "output_type": "stream",
          "name": "stderr",
          "text": [
            " 12%|█▏        | 1799901/15000000 [14:08<1:06:42, 3298.21it/s]"
          ]
        },
        {
          "output_type": "stream",
          "name": "stdout",
          "text": [
            "avg 2.150017514124294 3.2084571091901144\n"
          ]
        },
        {
          "output_type": "stream",
          "name": "stderr",
          "text": [
            " 12%|█▏        | 1830525/15000000 [14:22<2:08:13, 1711.83it/s]"
          ]
        },
        {
          "output_type": "stream",
          "name": "stdout",
          "text": [
            "avg 2.2389205555555556 3.170913773434291\n"
          ]
        },
        {
          "output_type": "stream",
          "name": "stderr",
          "text": [
            " 12%|█▏        | 1860469/15000000 [14:32<2:04:26, 1759.76it/s]"
          ]
        },
        {
          "output_type": "stream",
          "name": "stdout",
          "text": [
            "avg 2.3248147540983606 3.1346744084386255\n"
          ]
        },
        {
          "output_type": "stream",
          "name": "stderr",
          "text": [
            " 13%|█▎        | 1890552/15000000 [14:41<2:06:29, 1727.33it/s]"
          ]
        },
        {
          "output_type": "stream",
          "name": "stdout",
          "text": [
            "avg 2.4091118279569894 3.0984942078271533\n"
          ]
        },
        {
          "output_type": "stream",
          "name": "stderr",
          "text": [
            " 13%|█▎        | 1920405/15000000 [14:55<2:08:45, 1693.01it/s]"
          ]
        },
        {
          "output_type": "stream",
          "name": "stdout",
          "text": [
            "avg 2.489157671957672 3.0644215429914197\n"
          ]
        },
        {
          "output_type": "stream",
          "name": "stderr",
          "text": [
            " 13%|█▎        | 1950450/15000000 [15:04<2:05:15, 1736.33it/s]"
          ]
        },
        {
          "output_type": "stream",
          "name": "stdout",
          "text": [
            "avg 2.5690203125 3.0297809195608685\n"
          ]
        },
        {
          "output_type": "stream",
          "name": "stderr",
          "text": [
            " 13%|█▎        | 1980496/15000000 [15:13<2:11:30, 1649.95it/s]"
          ]
        },
        {
          "output_type": "stream",
          "name": "stdout",
          "text": [
            "avg 2.647031282051282 2.9957896351630655\n"
          ]
        },
        {
          "output_type": "stream",
          "name": "stderr",
          "text": [
            " 13%|█▎        | 2010471/15000000 [15:27<2:11:43, 1643.50it/s]"
          ]
        },
        {
          "output_type": "stream",
          "name": "stdout",
          "text": [
            "avg 2.7228085858585858 2.962610958401623\n"
          ]
        },
        {
          "output_type": "stream",
          "name": "stderr",
          "text": [
            " 14%|█▎        | 2040635/15000000 [15:37<2:04:14, 1738.39it/s]"
          ]
        },
        {
          "output_type": "stream",
          "name": "stdout",
          "text": [
            "avg 2.7964452736318406 2.930382484246834\n"
          ]
        },
        {
          "output_type": "stream",
          "name": "stderr",
          "text": [
            " 14%|█▍        | 2070395/15000000 [15:46<2:06:25, 1704.46it/s]"
          ]
        },
        {
          "output_type": "stream",
          "name": "stdout",
          "text": [
            "avg 2.8681833333333335 2.89874243813463\n"
          ]
        },
        {
          "output_type": "stream",
          "name": "stderr",
          "text": [
            " 14%|█▍        | 2099699/15000000 [15:54<1:02:11, 3457.05it/s]"
          ]
        },
        {
          "output_type": "stream",
          "name": "stdout",
          "text": [
            "avg 2.937848309178744 2.8680877700822007\n"
          ]
        },
        {
          "output_type": "stream",
          "name": "stderr",
          "text": [
            " 14%|█▍        | 2130551/15000000 [16:08<2:04:41, 1720.18it/s]"
          ]
        },
        {
          "output_type": "stream",
          "name": "stdout",
          "text": [
            "avg 3.0057938095238095 2.838034840958213\n"
          ]
        },
        {
          "output_type": "stream",
          "name": "stderr",
          "text": [
            " 14%|█▍        | 2160331/15000000 [16:17<2:09:08, 1657.08it/s]"
          ]
        },
        {
          "output_type": "stream",
          "name": "stdout",
          "text": [
            "avg 3.071855399061033 2.808769573506225\n"
          ]
        },
        {
          "output_type": "stream",
          "name": "stderr",
          "text": [
            " 15%|█▍        | 2190382/15000000 [16:27<2:07:02, 1680.61it/s]"
          ]
        },
        {
          "output_type": "stream",
          "name": "stdout",
          "text": [
            "avg 3.1360939814814817 2.7803857557066474\n"
          ]
        },
        {
          "output_type": "stream",
          "name": "stderr",
          "text": [
            " 15%|█▍        | 2220509/15000000 [16:40<2:13:25, 1596.35it/s]"
          ]
        },
        {
          "output_type": "stream",
          "name": "stdout",
          "text": [
            "avg 3.198615525114155 2.7526451413900546\n"
          ]
        },
        {
          "output_type": "stream",
          "name": "stderr",
          "text": [
            " 15%|█▌        | 2250548/15000000 [16:49<2:05:00, 1699.74it/s]"
          ]
        },
        {
          "output_type": "stream",
          "name": "stdout",
          "text": [
            "avg 3.259334684684685 2.7257497694783077\n"
          ]
        },
        {
          "output_type": "stream",
          "name": "stderr",
          "text": [
            " 15%|█▌        | 2280515/15000000 [16:59<2:31:11, 1402.20it/s]"
          ]
        },
        {
          "output_type": "stream",
          "name": "stdout",
          "text": [
            "avg 3.3186395555555555 2.6995078203544667\n"
          ]
        },
        {
          "output_type": "stream",
          "name": "stderr",
          "text": [
            " 15%|█▌        | 2310641/15000000 [17:12<2:05:49, 1680.77it/s]"
          ]
        },
        {
          "output_type": "stream",
          "name": "stdout",
          "text": [
            "avg 3.3707434210526315 2.6772514359787207\n"
          ]
        },
        {
          "output_type": "stream",
          "name": "stderr",
          "text": [
            " 16%|█▌        | 2340570/15000000 [17:22<2:13:26, 1581.19it/s]"
          ]
        },
        {
          "output_type": "stream",
          "name": "stdout",
          "text": [
            "avg 3.420533766233766 2.656488158849931\n"
          ]
        },
        {
          "output_type": "stream",
          "name": "stderr",
          "text": [
            " 16%|█▌        | 2370431/15000000 [17:31<2:11:55, 1595.59it/s]"
          ]
        },
        {
          "output_type": "stream",
          "name": "stdout",
          "text": [
            "avg 3.472463675213675 2.6344102280584805\n"
          ]
        },
        {
          "output_type": "stream",
          "name": "stderr",
          "text": [
            " 16%|█▌        | 2399861/15000000 [17:40<1:02:10, 3377.71it/s]"
          ]
        },
        {
          "output_type": "stream",
          "name": "stdout",
          "text": [
            "avg 3.5247628691983124 2.6115432902980746\n"
          ]
        },
        {
          "output_type": "stream",
          "name": "stderr",
          "text": [
            " 16%|█▌        | 2430384/15000000 [17:54<2:13:21, 1570.94it/s]"
          ]
        },
        {
          "output_type": "stream",
          "name": "stdout",
          "text": [
            "avg 3.5766304166666667 2.5887357535410374\n"
          ]
        },
        {
          "output_type": "stream",
          "name": "stderr",
          "text": [
            " 16%|█▋        | 2460467/15000000 [18:03<2:11:20, 1591.19it/s]"
          ]
        },
        {
          "output_type": "stream",
          "name": "stdout",
          "text": [
            "avg 3.626389711934156 2.5669435885130887\n"
          ]
        },
        {
          "output_type": "stream",
          "name": "stderr",
          "text": [
            " 17%|█▋        | 2490500/15000000 [18:12<2:04:26, 1675.47it/s]"
          ]
        },
        {
          "output_type": "stream",
          "name": "stdout",
          "text": [
            "avg 3.675468699186992 2.5454515672250135\n"
          ]
        },
        {
          "output_type": "stream",
          "name": "stderr",
          "text": [
            " 17%|█▋        | 2520622/15000000 [18:26<2:05:27, 1657.79it/s]"
          ]
        },
        {
          "output_type": "stream",
          "name": "stdout",
          "text": [
            "avg 3.7228763052208835 2.524655910465425\n"
          ]
        },
        {
          "output_type": "stream",
          "name": "stderr",
          "text": [
            " 17%|█▋        | 2550558/15000000 [18:35<2:10:20, 1591.99it/s]"
          ]
        },
        {
          "output_type": "stream",
          "name": "stdout",
          "text": [
            "avg 3.769725 2.503989657423441\n"
          ]
        },
        {
          "output_type": "stream",
          "name": "stderr",
          "text": [
            " 17%|█▋        | 2580581/15000000 [18:44<2:11:09, 1578.23it/s]"
          ]
        },
        {
          "output_type": "stream",
          "name": "stdout",
          "text": [
            "avg 3.8120796078431374 2.4856938849009462\n"
          ]
        },
        {
          "output_type": "stream",
          "name": "stderr",
          "text": [
            " 17%|█▋        | 2610340/15000000 [18:58<2:16:25, 1513.68it/s]"
          ]
        },
        {
          "output_type": "stream",
          "name": "stdout",
          "text": [
            "avg 3.8572062015503876 2.465837233607836\n"
          ]
        },
        {
          "output_type": "stream",
          "name": "stderr",
          "text": [
            " 18%|█▊        | 2640675/15000000 [19:07<2:11:13, 1569.66it/s]"
          ]
        },
        {
          "output_type": "stream",
          "name": "stdout",
          "text": [
            "avg 3.9014095785440612 2.446194833148207\n"
          ]
        },
        {
          "output_type": "stream",
          "name": "stderr",
          "text": [
            " 18%|█▊        | 2670411/15000000 [19:16<2:15:28, 1516.82it/s]"
          ]
        },
        {
          "output_type": "stream",
          "name": "stdout",
          "text": [
            "avg 3.944598863636364 2.426996400743244\n"
          ]
        },
        {
          "output_type": "stream",
          "name": "stderr",
          "text": [
            " 18%|█▊        | 2699693/15000000 [19:25<56:37, 3620.55it/s]"
          ]
        },
        {
          "output_type": "stream",
          "name": "stdout",
          "text": [
            "avg 3.9868430711610485 2.408196550619643\n"
          ]
        },
        {
          "output_type": "stream",
          "name": "stderr",
          "text": [
            " 18%|█▊        | 2730481/15000000 [19:39<2:12:35, 1542.23it/s]"
          ]
        },
        {
          "output_type": "stream",
          "name": "stdout",
          "text": [
            "avg 4.0282044444444445 2.3898675526546347\n"
          ]
        },
        {
          "output_type": "stream",
          "name": "stderr",
          "text": [
            " 18%|█▊        | 2760454/15000000 [19:48<2:16:42, 1492.21it/s]"
          ]
        },
        {
          "output_type": "stream",
          "name": "stdout",
          "text": [
            "avg 4.068672893772894 2.3718652303514167\n"
          ]
        },
        {
          "output_type": "stream",
          "name": "stderr",
          "text": [
            " 19%|█▊        | 2790580/15000000 [19:58<2:12:27, 1536.25it/s]"
          ]
        },
        {
          "output_type": "stream",
          "name": "stdout",
          "text": [
            "avg 4.108317391304348 2.3542384612750666\n"
          ]
        },
        {
          "output_type": "stream",
          "name": "stderr",
          "text": [
            " 19%|█▉        | 2820488/15000000 [20:11<2:15:16, 1500.56it/s]"
          ]
        },
        {
          "output_type": "stream",
          "name": "stdout",
          "text": [
            "avg 4.147012544802867 2.3370355343621942\n"
          ]
        },
        {
          "output_type": "stream",
          "name": "stderr",
          "text": [
            " 19%|█▉        | 2850644/15000000 [20:21<2:14:53, 1501.06it/s]"
          ]
        },
        {
          "output_type": "stream",
          "name": "stdout",
          "text": [
            "avg 4.1849035460992905 2.320230073552136\n"
          ]
        },
        {
          "output_type": "stream",
          "name": "stderr",
          "text": [
            " 19%|█▉        | 2880466/15000000 [20:30<2:14:11, 1505.29it/s]"
          ]
        },
        {
          "output_type": "stream",
          "name": "stdout",
          "text": [
            "avg 4.2220080701754386 2.303719387118052\n"
          ]
        },
        {
          "output_type": "stream",
          "name": "stderr",
          "text": [
            " 19%|█▉        | 2910358/15000000 [20:43<2:15:01, 1492.33it/s]"
          ]
        },
        {
          "output_type": "stream",
          "name": "stdout",
          "text": [
            "avg 4.258343055555556 2.287467801935984\n"
          ]
        },
        {
          "output_type": "stream",
          "name": "stderr",
          "text": [
            " 20%|█▉        | 2940487/15000000 [20:53<2:14:58, 1489.12it/s]"
          ]
        },
        {
          "output_type": "stream",
          "name": "stdout",
          "text": [
            "avg 4.293658075601375 2.2717234554558754\n"
          ]
        },
        {
          "output_type": "stream",
          "name": "stderr",
          "text": [
            " 20%|█▉        | 2970707/15000000 [21:02<2:12:44, 1510.35it/s]"
          ]
        },
        {
          "output_type": "stream",
          "name": "stdout",
          "text": [
            "avg 4.3284901360544215 2.25623067164071\n"
          ]
        },
        {
          "output_type": "stream",
          "name": "stderr",
          "text": [
            " 20%|█▉        | 2999955/15000000 [21:11<58:11, 3437.39it/s]"
          ]
        },
        {
          "output_type": "stream",
          "name": "stdout",
          "text": [
            "avg 4.362693265993266 2.240964378951853\n"
          ]
        },
        {
          "output_type": "stream",
          "name": "stderr",
          "text": [
            " 20%|██        | 3030381/15000000 [21:25<2:13:54, 1489.72it/s]"
          ]
        },
        {
          "output_type": "stream",
          "name": "stdout",
          "text": [
            "avg 4.396139666666667 2.2260221900799464\n"
          ]
        },
        {
          "output_type": "stream",
          "name": "stderr",
          "text": [
            " 20%|██        | 3060342/15000000 [21:34<2:18:15, 1439.25it/s]"
          ]
        },
        {
          "output_type": "stream",
          "name": "stdout",
          "text": [
            "avg 4.428683828382838 2.2115852437546817\n"
          ]
        },
        {
          "output_type": "stream",
          "name": "stderr",
          "text": [
            " 21%|██        | 3090603/15000000 [21:44<2:13:28, 1487.12it/s]"
          ]
        },
        {
          "output_type": "stream",
          "name": "stdout",
          "text": [
            "avg 4.460914379084968 2.1972215694905737\n"
          ]
        },
        {
          "output_type": "stream",
          "name": "stderr",
          "text": [
            " 21%|██        | 3120436/15000000 [21:57<2:14:59, 1466.67it/s]"
          ]
        },
        {
          "output_type": "stream",
          "name": "stdout",
          "text": [
            "avg 4.492513268608414 2.183148769010629\n"
          ]
        },
        {
          "output_type": "stream",
          "name": "stderr",
          "text": [
            " 21%|██        | 3150479/15000000 [22:07<2:16:45, 1444.11it/s]"
          ]
        },
        {
          "output_type": "stream",
          "name": "stdout",
          "text": [
            "avg 4.523512179487179 2.169343566421024\n"
          ]
        },
        {
          "output_type": "stream",
          "name": "stderr",
          "text": [
            " 21%|██        | 3180447/15000000 [22:16<2:16:12, 1446.20it/s]"
          ]
        },
        {
          "output_type": "stream",
          "name": "stdout",
          "text": [
            "avg 4.553613968253968 2.1560299619084677\n"
          ]
        },
        {
          "output_type": "stream",
          "name": "stderr",
          "text": [
            " 21%|██▏       | 3210580/15000000 [22:30<2:17:56, 1424.47it/s]"
          ]
        },
        {
          "output_type": "stream",
          "name": "stdout",
          "text": [
            "avg 4.583380503144654 2.1428118776103964\n"
          ]
        },
        {
          "output_type": "stream",
          "name": "stderr",
          "text": [
            " 22%|██▏       | 3240383/15000000 [22:39<2:18:11, 1418.29it/s]"
          ]
        },
        {
          "output_type": "stream",
          "name": "stdout",
          "text": [
            "avg 4.612399376947041 2.1300069327711166\n"
          ]
        },
        {
          "output_type": "stream",
          "name": "stderr",
          "text": [
            " 22%|██▏       | 3270468/15000000 [22:48<2:15:31, 1442.56it/s]"
          ]
        },
        {
          "output_type": "stream",
          "name": "stdout",
          "text": [
            "avg 4.64097962962963 2.117341895344346\n"
          ]
        },
        {
          "output_type": "stream",
          "name": "stderr",
          "text": [
            " 22%|██▏       | 3299954/15000000 [22:57<56:46, 3434.46it/s]"
          ]
        },
        {
          "output_type": "stream",
          "name": "stdout",
          "text": [
            "avg 4.668886544342508 2.1050527220260578\n"
          ]
        },
        {
          "output_type": "stream",
          "name": "stderr",
          "text": [
            " 22%|██▏       | 3330539/15000000 [23:11<2:21:45, 1372.06it/s]"
          ]
        },
        {
          "output_type": "stream",
          "name": "stdout",
          "text": [
            "avg 4.696517575757576 2.0927791460917784\n"
          ]
        },
        {
          "output_type": "stream",
          "name": "stderr",
          "text": [
            " 22%|██▏       | 3360543/15000000 [23:21<2:15:40, 1429.79it/s]"
          ]
        },
        {
          "output_type": "stream",
          "name": "stdout",
          "text": [
            "avg 4.723682282282282 2.0806638475151473\n"
          ]
        },
        {
          "output_type": "stream",
          "name": "stderr",
          "text": [
            " 23%|██▎       | 3390567/15000000 [23:30<2:19:04, 1391.34it/s]"
          ]
        },
        {
          "output_type": "stream",
          "name": "stdout",
          "text": [
            "avg 4.750407738095238 2.0687618235446554\n"
          ]
        },
        {
          "output_type": "stream",
          "name": "stderr",
          "text": [
            " 23%|██▎       | 3420479/15000000 [23:44<2:17:15, 1406.12it/s]"
          ]
        },
        {
          "output_type": "stream",
          "name": "stdout",
          "text": [
            "avg 4.776691150442478 2.0569930612472125\n"
          ]
        },
        {
          "output_type": "stream",
          "name": "stderr",
          "text": [
            " 23%|██▎       | 3450332/15000000 [23:53<2:53:12, 1111.34it/s]"
          ]
        },
        {
          "output_type": "stream",
          "name": "stdout",
          "text": [
            "avg 4.802473099415205 2.045524251623131\n"
          ]
        },
        {
          "output_type": "stream",
          "name": "stderr",
          "text": [
            " 23%|██▎       | 3480657/15000000 [24:03<2:21:51, 1353.41it/s]"
          ]
        },
        {
          "output_type": "stream",
          "name": "stdout",
          "text": [
            "avg 4.827858260869565 2.0341740072244603\n"
          ]
        },
        {
          "output_type": "stream",
          "name": "stderr",
          "text": [
            " 23%|██▎       | 3510657/15000000 [24:16<2:19:01, 1377.30it/s]"
          ]
        },
        {
          "output_type": "stream",
          "name": "stdout",
          "text": [
            "avg 4.8528474137931035 2.0229862709532576\n"
          ]
        },
        {
          "output_type": "stream",
          "name": "stderr",
          "text": [
            " 24%|██▎       | 3540347/15000000 [24:26<2:24:59, 1317.25it/s]"
          ]
        },
        {
          "output_type": "stream",
          "name": "stdout",
          "text": [
            "avg 4.877382051282051 2.012035091819603\n"
          ]
        },
        {
          "output_type": "stream",
          "name": "stderr",
          "text": [
            " 24%|██▍       | 3570710/15000000 [24:35<2:15:36, 1404.74it/s]"
          ]
        },
        {
          "output_type": "stream",
          "name": "stdout",
          "text": [
            "avg 4.901429943502825 2.0012900498369097\n"
          ]
        },
        {
          "output_type": "stream",
          "name": "stderr",
          "text": [
            " 24%|██▍       | 3599715/15000000 [24:44<55:02, 3452.29it/s]"
          ]
        },
        {
          "output_type": "stream",
          "name": "stdout",
          "text": [
            "avg 4.9250428571428575 1.9907374841046872\n"
          ]
        },
        {
          "output_type": "stream",
          "name": "stderr",
          "text": [
            " 24%|██▍       | 3630559/15000000 [24:58<2:25:15, 1304.49it/s]"
          ]
        },
        {
          "output_type": "stream",
          "name": "stdout",
          "text": [
            "avg 4.9480225 1.98063427541052\n"
          ]
        },
        {
          "output_type": "stream",
          "name": "stderr",
          "text": [
            " 24%|██▍       | 3660659/15000000 [25:08<2:21:55, 1331.58it/s]"
          ]
        },
        {
          "output_type": "stream",
          "name": "stdout",
          "text": [
            "avg 4.97059173553719 1.9706918992894122\n"
          ]
        },
        {
          "output_type": "stream",
          "name": "stderr",
          "text": [
            " 25%|██▍       | 3690363/15000000 [25:17<2:20:21, 1342.98it/s]"
          ]
        },
        {
          "output_type": "stream",
          "name": "stdout",
          "text": [
            "avg 4.993108196721312 1.9606836963001597\n"
          ]
        },
        {
          "output_type": "stream",
          "name": "stderr",
          "text": [
            " 25%|██▍       | 3720494/15000000 [25:31<2:22:43, 1317.22it/s]"
          ]
        },
        {
          "output_type": "stream",
          "name": "stdout",
          "text": [
            "avg 5.015334688346884 1.9507075427121534\n"
          ]
        },
        {
          "output_type": "stream",
          "name": "stderr",
          "text": [
            " 25%|██▌       | 3750447/15000000 [25:41<2:23:43, 1304.57it/s]"
          ]
        },
        {
          "output_type": "stream",
          "name": "stdout",
          "text": [
            "avg 5.037186021505376 1.9409529074767813\n"
          ]
        },
        {
          "output_type": "stream",
          "name": "stderr",
          "text": [
            " 25%|██▌       | 3780667/15000000 [25:50<1:59:06, 1569.97it/s]"
          ]
        },
        {
          "output_type": "stream",
          "name": "stdout",
          "text": [
            "avg 5.058723733333333 1.9312389952421485\n"
          ]
        },
        {
          "output_type": "stream",
          "name": "stderr",
          "text": [
            " 25%|██▌       | 3810465/15000000 [26:04<2:25:20, 1283.11it/s]"
          ]
        },
        {
          "output_type": "stream",
          "name": "stdout",
          "text": [
            "avg 5.079898677248678 1.9217704336758343\n"
          ]
        },
        {
          "output_type": "stream",
          "name": "stderr",
          "text": [
            " 26%|██▌       | 3840605/15000000 [26:14<2:21:11, 1317.32it/s]"
          ]
        },
        {
          "output_type": "stream",
          "name": "stdout",
          "text": [
            "avg 5.100749868766404 1.9124435419816554\n"
          ]
        },
        {
          "output_type": "stream",
          "name": "stderr",
          "text": [
            " 26%|██▌       | 3870656/15000000 [26:23<2:19:07, 1333.28it/s]"
          ]
        },
        {
          "output_type": "stream",
          "name": "stdout",
          "text": [
            "avg 5.121154166666667 1.9033712087141663\n"
          ]
        },
        {
          "output_type": "stream",
          "name": "stderr",
          "text": [
            " 26%|██▌       | 3899729/15000000 [26:32<55:36, 3326.79it/s]"
          ]
        },
        {
          "output_type": "stream",
          "name": "stdout",
          "text": [
            "avg 5.141273901808786 1.894383594631899\n"
          ]
        },
        {
          "output_type": "stream",
          "name": "stderr",
          "text": [
            " 26%|██▌       | 3930683/15000000 [26:46<2:22:43, 1292.59it/s]"
          ]
        },
        {
          "output_type": "stream",
          "name": "stdout",
          "text": [
            "avg 5.161045641025641 1.8855585252302123\n"
          ]
        },
        {
          "output_type": "stream",
          "name": "stderr",
          "text": [
            " 26%|██▋       | 3960396/15000000 [26:56<2:21:06, 1303.88it/s]"
          ]
        },
        {
          "output_type": "stream",
          "name": "stdout",
          "text": [
            "avg 5.180194147582697 1.8771159356061347\n"
          ]
        },
        {
          "output_type": "stream",
          "name": "stderr",
          "text": [
            " 27%|██▋       | 3990659/15000000 [27:05<2:20:32, 1305.61it/s]"
          ]
        },
        {
          "output_type": "stream",
          "name": "stdout",
          "text": [
            "avg 5.199373232323232 1.8686096723566237\n"
          ]
        },
        {
          "output_type": "stream",
          "name": "stderr",
          "text": [
            " 27%|██▋       | 4020513/15000000 [27:19<2:29:06, 1227.19it/s]"
          ]
        },
        {
          "output_type": "stream",
          "name": "stdout",
          "text": [
            "avg 5.218341604010025 1.8601860828562957\n"
          ]
        },
        {
          "output_type": "stream",
          "name": "stderr",
          "text": [
            " 27%|██▋       | 4050494/15000000 [27:29<2:24:40, 1261.43it/s]"
          ]
        },
        {
          "output_type": "stream",
          "name": "stdout",
          "text": [
            "avg 5.237079104477612 1.8517814665160808\n"
          ]
        },
        {
          "output_type": "stream",
          "name": "stderr",
          "text": [
            " 27%|██▋       | 4080527/15000000 [27:38<2:24:05, 1263.02it/s]"
          ]
        },
        {
          "output_type": "stream",
          "name": "stdout",
          "text": [
            "avg 5.255457777777778 1.843570792681915\n"
          ]
        },
        {
          "output_type": "stream",
          "name": "stderr",
          "text": [
            " 27%|██▋       | 4110687/15000000 [27:52<2:27:57, 1226.60it/s]"
          ]
        },
        {
          "output_type": "stream",
          "name": "stdout",
          "text": [
            "avg 5.273640931372549 1.8353893832762973\n"
          ]
        },
        {
          "output_type": "stream",
          "name": "stderr",
          "text": [
            " 28%|██▊       | 4140543/15000000 [28:02<2:30:27, 1202.98it/s]"
          ]
        },
        {
          "output_type": "stream",
          "name": "stdout",
          "text": [
            "avg 5.29148905109489 1.8274611990060559\n"
          ]
        },
        {
          "output_type": "stream",
          "name": "stderr",
          "text": [
            " 28%|██▊       | 4170417/15000000 [28:11<2:23:35, 1257.02it/s]"
          ]
        },
        {
          "output_type": "stream",
          "name": "stdout",
          "text": [
            "avg 5.309122222222222 1.819553610728413\n"
          ]
        },
        {
          "output_type": "stream",
          "name": "stderr",
          "text": [
            " 28%|██▊       | 4199749/15000000 [28:20<51:44, 3479.09it/s]"
          ]
        },
        {
          "output_type": "stream",
          "name": "stdout",
          "text": [
            "avg 5.326481534772182 1.8118060504939406\n"
          ]
        },
        {
          "output_type": "stream",
          "name": "stderr",
          "text": [
            " 28%|██▊       | 4230574/15000000 [28:35<2:22:33, 1259.01it/s]"
          ]
        },
        {
          "output_type": "stream",
          "name": "stdout",
          "text": [
            "avg 5.343614047619048 1.804114638276979\n"
          ]
        },
        {
          "output_type": "stream",
          "name": "stderr",
          "text": [
            " 28%|██▊       | 4260442/15000000 [28:45<2:28:44, 1203.32it/s]"
          ]
        },
        {
          "output_type": "stream",
          "name": "stdout",
          "text": [
            "avg 5.360483924349881 1.7965943706712804\n"
          ]
        },
        {
          "output_type": "stream",
          "name": "stderr",
          "text": [
            " 29%|██▊       | 4290459/15000000 [28:54<2:23:07, 1247.09it/s]"
          ]
        },
        {
          "output_type": "stream",
          "name": "stdout",
          "text": [
            "avg 5.377168075117371 1.7891354105206267\n"
          ]
        },
        {
          "output_type": "stream",
          "name": "stderr",
          "text": [
            " 29%|██▉       | 4320361/15000000 [29:08<2:27:01, 1210.64it/s]"
          ]
        },
        {
          "output_type": "stream",
          "name": "stdout",
          "text": [
            "avg 5.3935589743589745 1.7818011543230132\n"
          ]
        },
        {
          "output_type": "stream",
          "name": "stderr",
          "text": [
            " 29%|██▉       | 4350621/15000000 [29:18<2:29:06, 1190.37it/s]"
          ]
        },
        {
          "output_type": "stream",
          "name": "stdout",
          "text": [
            "avg 5.409729166666667 1.7745582143820526\n"
          ]
        },
        {
          "output_type": "stream",
          "name": "stderr",
          "text": [
            " 29%|██▉       | 4380627/15000000 [29:27<2:28:28, 1192.00it/s]"
          ]
        },
        {
          "output_type": "stream",
          "name": "stdout",
          "text": [
            "avg 5.425704367816092 1.7674186953076576\n"
          ]
        },
        {
          "output_type": "stream",
          "name": "stderr",
          "text": [
            " 29%|██▉       | 4410527/15000000 [29:41<2:27:08, 1199.46it/s]"
          ]
        },
        {
          "output_type": "stream",
          "name": "stdout",
          "text": [
            "avg 5.440572374429224 1.761031430513845\n"
          ]
        },
        {
          "output_type": "stream",
          "name": "stderr",
          "text": [
            " 30%|██▉       | 4440636/15000000 [29:51<2:29:52, 1174.27it/s]"
          ]
        },
        {
          "output_type": "stream",
          "name": "stdout",
          "text": [
            "avg 5.4560571428571425 1.7541301648925864\n"
          ]
        },
        {
          "output_type": "stream",
          "name": "stderr",
          "text": [
            " 30%|██▉       | 4470554/15000000 [30:01<2:28:33, 1181.32it/s]"
          ]
        },
        {
          "output_type": "stream",
          "name": "stdout",
          "text": [
            "avg 5.471384009009009 1.7473359521885752\n"
          ]
        },
        {
          "output_type": "stream",
          "name": "stderr",
          "text": [
            " 30%|██▉       | 4499954/15000000 [30:09<52:13, 3350.59it/s]"
          ]
        },
        {
          "output_type": "stream",
          "name": "stdout",
          "text": [
            "avg 5.486523042505593 1.740491714413266\n"
          ]
        },
        {
          "output_type": "stream",
          "name": "stderr",
          "text": [
            " 30%|███       | 4530676/15000000 [30:24<2:26:17, 1192.78it/s]"
          ]
        },
        {
          "output_type": "stream",
          "name": "stdout",
          "text": [
            "avg 5.501418444444444 1.7338810149668824\n"
          ]
        },
        {
          "output_type": "stream",
          "name": "stderr",
          "text": [
            " 30%|███       | 4560436/15000000 [30:34<2:28:30, 1171.65it/s]"
          ]
        },
        {
          "output_type": "stream",
          "name": "stdout",
          "text": [
            "avg 5.516140838852097 1.7273208286985018\n"
          ]
        },
        {
          "output_type": "stream",
          "name": "stderr",
          "text": [
            " 31%|███       | 4590494/15000000 [30:44<2:27:46, 1174.08it/s]"
          ]
        },
        {
          "output_type": "stream",
          "name": "stdout",
          "text": [
            "avg 5.530656798245614 1.7208049304172288\n"
          ]
        },
        {
          "output_type": "stream",
          "name": "stderr",
          "text": [
            " 31%|███       | 4620629/15000000 [30:58<2:26:41, 1179.24it/s]"
          ]
        },
        {
          "output_type": "stream",
          "name": "stdout",
          "text": [
            "avg 5.545015032679738 1.7143764616130408\n"
          ]
        },
        {
          "output_type": "stream",
          "name": "stderr",
          "text": [
            " 31%|███       | 4650690/15000000 [31:07<2:23:59, 1197.92it/s]"
          ]
        },
        {
          "output_type": "stream",
          "name": "stdout",
          "text": [
            "avg 5.559116666666666 1.708104601895163\n"
          ]
        },
        {
          "output_type": "stream",
          "name": "stderr",
          "text": [
            " 31%|███       | 4680461/15000000 [31:17<2:25:02, 1185.85it/s]"
          ]
        },
        {
          "output_type": "stream",
          "name": "stdout",
          "text": [
            "avg 5.573123870967742 1.7017527828686818\n"
          ]
        },
        {
          "output_type": "stream",
          "name": "stderr",
          "text": [
            " 31%|███▏      | 4710664/15000000 [31:31<2:25:32, 1178.21it/s]"
          ]
        },
        {
          "output_type": "stream",
          "name": "stdout",
          "text": [
            "avg 5.586852991452991 1.695622901644072\n"
          ]
        },
        {
          "output_type": "stream",
          "name": "stderr",
          "text": [
            " 32%|███▏      | 4740361/15000000 [31:40<2:28:20, 1152.65it/s]"
          ]
        },
        {
          "output_type": "stream",
          "name": "stdout",
          "text": [
            "avg 5.600499787685775 1.6894988722999984\n"
          ]
        },
        {
          "output_type": "stream",
          "name": "stderr",
          "text": [
            " 32%|███▏      | 4770468/15000000 [31:50<2:27:54, 1152.74it/s]"
          ]
        },
        {
          "output_type": "stream",
          "name": "stdout",
          "text": [
            "avg 5.613952320675105 1.6834706012902327\n"
          ]
        },
        {
          "output_type": "stream",
          "name": "stderr",
          "text": [
            " 32%|███▏      | 4799964/15000000 [31:59<49:35, 3428.41it/s]"
          ]
        },
        {
          "output_type": "stream",
          "name": "stdout",
          "text": [
            "avg 5.6272507337526205 1.6774836530597528\n"
          ]
        },
        {
          "output_type": "stream",
          "name": "stderr",
          "text": [
            " 32%|███▏      | 4830673/15000000 [32:14<2:28:01, 1144.95it/s]"
          ]
        },
        {
          "output_type": "stream",
          "name": "stdout",
          "text": [
            "avg 5.640375 1.6716120830953594\n"
          ]
        },
        {
          "output_type": "stream",
          "name": "stderr",
          "text": [
            " 32%|███▏      | 4860468/15000000 [32:24<2:29:35, 1129.65it/s]"
          ]
        },
        {
          "output_type": "stream",
          "name": "stdout",
          "text": [
            "avg 5.6532898550724635 1.6658790915985024\n"
          ]
        },
        {
          "output_type": "stream",
          "name": "stderr",
          "text": [
            " 33%|███▎      | 4890573/15000000 [32:34<2:35:16, 1085.09it/s]"
          ]
        },
        {
          "output_type": "stream",
          "name": "stdout",
          "text": [
            "avg 5.66602695473251 1.6602335950839775\n"
          ]
        },
        {
          "output_type": "stream",
          "name": "stderr",
          "text": [
            " 33%|███▎      | 4920596/15000000 [32:48<2:28:04, 1134.46it/s]"
          ]
        },
        {
          "output_type": "stream",
          "name": "stdout",
          "text": [
            "avg 5.678644785276074 1.6546029888687548\n"
          ]
        },
        {
          "output_type": "stream",
          "name": "stderr",
          "text": [
            " 33%|███▎      | 4950497/15000000 [32:58<2:36:13, 1072.08it/s]"
          ]
        },
        {
          "output_type": "stream",
          "name": "stdout",
          "text": [
            "avg 5.691029268292683 1.6490622028125832\n"
          ]
        },
        {
          "output_type": "stream",
          "name": "stderr",
          "text": [
            " 33%|███▎      | 4980365/15000000 [33:07<2:32:14, 1096.87it/s]"
          ]
        },
        {
          "output_type": "stream",
          "name": "stdout",
          "text": [
            "avg 5.703361414141414 1.6435328217343272\n"
          ]
        },
        {
          "output_type": "stream",
          "name": "stderr",
          "text": [
            " 33%|███▎      | 5010426/15000000 [33:22<2:31:02, 1102.33it/s]"
          ]
        },
        {
          "output_type": "stream",
          "name": "stdout",
          "text": [
            "avg 5.715524497991968 1.638062373052836\n"
          ]
        },
        {
          "output_type": "stream",
          "name": "stderr",
          "text": [
            " 34%|███▎      | 5040481/15000000 [33:32<2:32:36, 1087.75it/s]"
          ]
        },
        {
          "output_type": "stream",
          "name": "stdout",
          "text": [
            "avg 5.727555888223553 1.6326858604553474\n"
          ]
        },
        {
          "output_type": "stream",
          "name": "stderr",
          "text": [
            " 34%|███▍      | 5070586/15000000 [33:41<2:33:32, 1077.81it/s]"
          ]
        },
        {
          "output_type": "stream",
          "name": "stdout",
          "text": [
            "avg 5.739457936507937 1.6272919873095326\n"
          ]
        },
        {
          "output_type": "stream",
          "name": "stderr",
          "text": [
            " 34%|███▍      | 5099821/15000000 [33:50<46:54, 3517.62it/s]"
          ]
        },
        {
          "output_type": "stream",
          "name": "stdout",
          "text": [
            "avg 5.751188165680474 1.6220039523864642\n"
          ]
        },
        {
          "output_type": "stream",
          "name": "stderr",
          "text": [
            " 34%|███▍      | 5130530/15000000 [34:05<2:27:28, 1115.33it/s]"
          ]
        },
        {
          "output_type": "stream",
          "name": "stdout",
          "text": [
            "avg 5.762773725490196 1.6168404518191133\n"
          ]
        },
        {
          "output_type": "stream",
          "name": "stderr",
          "text": [
            " 34%|███▍      | 5160519/15000000 [34:15<2:32:51, 1072.82it/s]"
          ]
        },
        {
          "output_type": "stream",
          "name": "stdout",
          "text": [
            "avg 5.774228849902534 1.611716918541395\n"
          ]
        },
        {
          "output_type": "stream",
          "name": "stderr",
          "text": [
            " 35%|███▍      | 5190718/15000000 [34:25<1:59:29, 1368.25it/s]"
          ]
        },
        {
          "output_type": "stream",
          "name": "stdout",
          "text": [
            "avg 5.78556007751938 1.6066631590443514\n"
          ]
        },
        {
          "output_type": "stream",
          "name": "stderr",
          "text": [
            " 35%|███▍      | 5220514/15000000 [34:40<2:29:46, 1088.23it/s]"
          ]
        },
        {
          "output_type": "stream",
          "name": "stdout",
          "text": [
            "avg 5.796798073217726 1.601636895451949\n"
          ]
        },
        {
          "output_type": "stream",
          "name": "stderr",
          "text": [
            " 35%|███▌      | 5250456/15000000 [34:50<2:30:07, 1082.41it/s]"
          ]
        },
        {
          "output_type": "stream",
          "name": "stdout",
          "text": [
            "avg 5.807826053639847 1.596697019573811\n"
          ]
        },
        {
          "output_type": "stream",
          "name": "stderr",
          "text": [
            " 35%|███▌      | 5280391/15000000 [35:00<2:34:01, 1051.68it/s]"
          ]
        },
        {
          "output_type": "stream",
          "name": "stdout",
          "text": [
            "avg 5.818770285714286 1.5918100629748766\n"
          ]
        },
        {
          "output_type": "stream",
          "name": "stderr",
          "text": [
            " 35%|███▌      | 5310350/15000000 [35:14<2:31:07, 1068.57it/s]"
          ]
        },
        {
          "output_type": "stream",
          "name": "stdout",
          "text": [
            "avg 5.8295660984848485 1.5870084379558729\n"
          ]
        },
        {
          "output_type": "stream",
          "name": "stderr",
          "text": [
            " 36%|███▌      | 5340436/15000000 [35:24<2:30:28, 1069.86it/s]"
          ]
        },
        {
          "output_type": "stream",
          "name": "stdout",
          "text": [
            "avg 5.840296610169491 1.5821993474223692\n"
          ]
        },
        {
          "output_type": "stream",
          "name": "stderr",
          "text": [
            " 36%|███▌      | 5370650/15000000 [35:34<2:39:27, 1006.49it/s]"
          ]
        },
        {
          "output_type": "stream",
          "name": "stdout",
          "text": [
            "avg 5.850869850187266 1.5774728010137111\n"
          ]
        },
        {
          "output_type": "stream",
          "name": "stderr",
          "text": [
            " 36%|███▌      | 5399742/15000000 [35:43<46:46, 3420.84it/s]"
          ]
        },
        {
          "output_type": "stream",
          "name": "stdout",
          "text": [
            "avg 5.8613104283054005 1.5728247753098694\n"
          ]
        },
        {
          "output_type": "stream",
          "name": "stderr",
          "text": [
            " 36%|███▌      | 5430547/15000000 [35:59<2:35:56, 1022.71it/s]"
          ]
        },
        {
          "output_type": "stream",
          "name": "stdout",
          "text": [
            "avg 5.871646296296296 1.56819126695633\n"
          ]
        },
        {
          "output_type": "stream",
          "name": "stderr",
          "text": [
            " 36%|███▋      | 5460625/15000000 [36:09<2:29:42, 1061.98it/s]"
          ]
        },
        {
          "output_type": "stream",
          "name": "stdout",
          "text": [
            "avg 5.881891344383057 1.5636315328667922\n"
          ]
        },
        {
          "output_type": "stream",
          "name": "stderr",
          "text": [
            " 37%|███▋      | 5490424/15000000 [36:19<2:30:13, 1055.01it/s]"
          ]
        },
        {
          "output_type": "stream",
          "name": "stdout",
          "text": [
            "avg 5.892033333333333 1.5590574994492787\n"
          ]
        },
        {
          "output_type": "stream",
          "name": "stderr",
          "text": [
            " 37%|███▋      | 5520365/15000000 [36:33<2:38:18, 998.01it/s]"
          ]
        },
        {
          "output_type": "stream",
          "name": "stdout",
          "text": [
            "avg 5.902070309653916 1.55458866929549\n"
          ]
        },
        {
          "output_type": "stream",
          "name": "stderr",
          "text": [
            " 37%|███▋      | 5550343/15000000 [36:43<2:33:31, 1025.80it/s]"
          ]
        },
        {
          "output_type": "stream",
          "name": "stdout",
          "text": [
            "avg 5.91199420289855 1.5501418787422478\n"
          ]
        },
        {
          "output_type": "stream",
          "name": "stderr",
          "text": [
            " 37%|███▋      | 5580660/15000000 [36:53<2:35:16, 1011.01it/s]"
          ]
        },
        {
          "output_type": "stream",
          "name": "stdout",
          "text": [
            "avg 5.92179945945946 1.5457406249660115\n"
          ]
        },
        {
          "output_type": "stream",
          "name": "stderr",
          "text": [
            " 37%|███▋      | 5610602/15000000 [37:08<2:34:13, 1014.72it/s]"
          ]
        },
        {
          "output_type": "stream",
          "name": "stdout",
          "text": [
            "avg 5.931501971326165 1.5413545894077851\n"
          ]
        },
        {
          "output_type": "stream",
          "name": "stderr",
          "text": [
            " 38%|███▊      | 5640592/15000000 [37:18<2:37:17, 991.74it/s]"
          ]
        },
        {
          "output_type": "stream",
          "name": "stdout",
          "text": [
            "avg 5.941073975044564 1.5370937980079917\n"
          ]
        },
        {
          "output_type": "stream",
          "name": "stderr",
          "text": [
            " 38%|███▊      | 5670435/15000000 [37:28<2:37:59, 984.22it/s]"
          ]
        },
        {
          "output_type": "stream",
          "name": "stdout",
          "text": [
            "avg 5.950562588652482 1.5328430508816413\n"
          ]
        },
        {
          "output_type": "stream",
          "name": "stderr",
          "text": [
            " 38%|███▊      | 5699731/15000000 [37:37<45:13, 3427.29it/s]"
          ]
        },
        {
          "output_type": "stream",
          "name": "stdout",
          "text": [
            "avg 5.959959611992946 1.528645550566464\n"
          ]
        },
        {
          "output_type": "stream",
          "name": "stderr",
          "text": [
            " 38%|███▊      | 5730483/15000000 [37:53<2:37:32, 980.61it/s]"
          ]
        },
        {
          "output_type": "stream",
          "name": "stdout",
          "text": [
            "avg 5.969246315789474 1.5245246094718778\n"
          ]
        },
        {
          "output_type": "stream",
          "name": "stderr",
          "text": [
            " 38%|███▊      | 5760584/15000000 [38:03<2:32:39, 1008.73it/s]"
          ]
        },
        {
          "output_type": "stream",
          "name": "stdout",
          "text": [
            "avg 5.978447643979058 1.520395651050202\n"
          ]
        },
        {
          "output_type": "stream",
          "name": "stderr",
          "text": [
            " 39%|███▊      | 5790540/15000000 [38:13<2:28:03, 1036.67it/s]"
          ]
        },
        {
          "output_type": "stream",
          "name": "stdout",
          "text": [
            "avg 5.987520486111111 1.5164011520641716\n"
          ]
        },
        {
          "output_type": "stream",
          "name": "stderr",
          "text": [
            " 39%|███▉      | 5820603/15000000 [38:27<2:38:39, 964.27it/s]"
          ]
        },
        {
          "output_type": "stream",
          "name": "stdout",
          "text": [
            "avg 5.9962402417962 1.512497775888369\n"
          ]
        },
        {
          "output_type": "stream",
          "name": "stderr",
          "text": [
            " 39%|███▉      | 5850349/15000000 [38:37<2:35:29, 980.72it/s]"
          ]
        },
        {
          "output_type": "stream",
          "name": "stdout",
          "text": [
            "avg 6.005170274914089 1.5085156268562696\n"
          ]
        },
        {
          "output_type": "stream",
          "name": "stderr",
          "text": [
            " 39%|███▉      | 5880489/15000000 [38:47<2:36:45, 969.54it/s]"
          ]
        },
        {
          "output_type": "stream",
          "name": "stdout",
          "text": [
            "avg 6.014011282051282 1.5045754830529645\n"
          ]
        },
        {
          "output_type": "stream",
          "name": "stderr",
          "text": [
            " 39%|███▉      | 5910652/15000000 [39:02<2:33:23, 987.64it/s]"
          ]
        },
        {
          "output_type": "stream",
          "name": "stdout",
          "text": [
            "avg 6.0227423469387755 1.5006738767690389\n"
          ]
        },
        {
          "output_type": "stream",
          "name": "stderr",
          "text": [
            " 40%|███▉      | 5940562/15000000 [39:12<2:30:04, 1006.14it/s]"
          ]
        },
        {
          "output_type": "stream",
          "name": "stdout",
          "text": [
            "avg 6.031374957698816 1.496837600724799\n"
          ]
        },
        {
          "output_type": "stream",
          "name": "stderr",
          "text": [
            " 40%|███▉      | 5970443/15000000 [39:22<2:43:14, 921.89it/s]"
          ]
        },
        {
          "output_type": "stream",
          "name": "stdout",
          "text": [
            "avg 6.039957407407408 1.492970956165707\n"
          ]
        },
        {
          "output_type": "stream",
          "name": "stderr",
          "text": [
            " 40%|███▉      | 5999722/15000000 [39:31<44:36, 3362.61it/s]"
          ]
        },
        {
          "output_type": "stream",
          "name": "stdout",
          "text": [
            "avg 6.048409547738694 1.489219428086137\n"
          ]
        },
        {
          "output_type": "stream",
          "name": "stderr",
          "text": [
            " 40%|████      | 6030426/15000000 [39:47<2:35:57, 958.51it/s]"
          ]
        },
        {
          "output_type": "stream",
          "name": "stdout",
          "text": [
            "avg 6.056792833333334 1.4854789417100478\n"
          ]
        },
        {
          "output_type": "stream",
          "name": "stderr",
          "text": [
            " 40%|████      | 6060382/15000000 [39:57<2:37:51, 943.88it/s]"
          ]
        },
        {
          "output_type": "stream",
          "name": "stdout",
          "text": [
            "avg 6.065113266998342 1.4817403547837424\n"
          ]
        },
        {
          "output_type": "stream",
          "name": "stderr",
          "text": [
            " 41%|████      | 6090440/15000000 [40:08<2:41:46, 917.86it/s]"
          ]
        },
        {
          "output_type": "stream",
          "name": "stdout",
          "text": [
            "avg 6.073282178217822 1.4780681451725843\n"
          ]
        },
        {
          "output_type": "stream",
          "name": "stderr",
          "text": [
            " 41%|████      | 6120585/15000000 [40:23<2:30:11, 985.31it/s]"
          ]
        },
        {
          "output_type": "stream",
          "name": "stdout",
          "text": [
            "avg 6.08144236453202 1.4744437585220067\n"
          ]
        },
        {
          "output_type": "stream",
          "name": "stderr",
          "text": [
            " 41%|████      | 6150483/15000000 [40:33<2:40:55, 916.48it/s]"
          ]
        },
        {
          "output_type": "stream",
          "name": "stdout",
          "text": [
            "avg 6.089507516339869 1.4707887060630516\n"
          ]
        },
        {
          "output_type": "stream",
          "name": "stderr",
          "text": [
            " 41%|████      | 6180607/15000000 [40:43<2:37:34, 932.87it/s]"
          ]
        },
        {
          "output_type": "stream",
          "name": "stdout",
          "text": [
            "avg 6.097490569105691 1.4672175194962764\n"
          ]
        },
        {
          "output_type": "stream",
          "name": "stderr",
          "text": [
            " 41%|████▏     | 6210450/15000000 [40:58<2:35:33, 941.68it/s]"
          ]
        },
        {
          "output_type": "stream",
          "name": "stdout",
          "text": [
            "avg 6.105385275080907 1.4636370768066504\n"
          ]
        },
        {
          "output_type": "stream",
          "name": "stderr",
          "text": [
            " 42%|████▏     | 6240582/15000000 [41:08<2:35:32, 938.58it/s]"
          ]
        },
        {
          "output_type": "stream",
          "name": "stdout",
          "text": [
            "avg 6.113217552334944 1.4601413566784802\n"
          ]
        },
        {
          "output_type": "stream",
          "name": "stderr",
          "text": [
            " 42%|████▏     | 6270291/15000000 [41:18<2:38:49, 916.10it/s]"
          ]
        },
        {
          "output_type": "stream",
          "name": "stdout",
          "text": [
            "avg 6.120965384615385 1.456655151768161\n"
          ]
        },
        {
          "output_type": "stream",
          "name": "stderr",
          "text": [
            " 42%|████▏     | 6299833/15000000 [41:27<41:41, 3478.17it/s]"
          ]
        },
        {
          "output_type": "stream",
          "name": "stdout",
          "text": [
            "avg 6.1286271132376395 1.453226150765508\n"
          ]
        },
        {
          "output_type": "stream",
          "name": "stderr",
          "text": [
            " 42%|████▏     | 6330593/15000000 [41:43<2:46:14, 869.14it/s]"
          ]
        },
        {
          "output_type": "stream",
          "name": "stdout",
          "text": [
            "avg 6.136185396825397 1.4498967801162825\n"
          ]
        },
        {
          "output_type": "stream",
          "name": "stderr",
          "text": [
            " 42%|████▏     | 6360483/15000000 [41:53<2:35:36, 925.36it/s]"
          ]
        },
        {
          "output_type": "stream",
          "name": "stdout",
          "text": [
            "avg 6.143732227488152 1.4465129146525324\n"
          ]
        },
        {
          "output_type": "stream",
          "name": "stderr",
          "text": [
            " 43%|████▎     | 6390529/15000000 [42:04<2:40:34, 893.65it/s]"
          ]
        },
        {
          "output_type": "stream",
          "name": "stdout",
          "text": [
            "avg 6.1512031446540885 1.443130237181536\n"
          ]
        },
        {
          "output_type": "stream",
          "name": "stderr",
          "text": [
            " 43%|████▎     | 6420578/15000000 [42:18<2:30:03, 952.88it/s]"
          ]
        },
        {
          "output_type": "stream",
          "name": "stdout",
          "text": [
            "avg 6.158574491392801 1.4398607094068971\n"
          ]
        },
        {
          "output_type": "stream",
          "name": "stderr",
          "text": [
            " 43%|████▎     | 6450350/15000000 [42:28<2:34:10, 924.29it/s]"
          ]
        },
        {
          "output_type": "stream",
          "name": "stdout",
          "text": [
            "avg 6.165890031152648 1.4366099524706335\n"
          ]
        },
        {
          "output_type": "stream",
          "name": "stderr",
          "text": [
            " 43%|████▎     | 6480395/15000000 [42:39<2:32:29, 931.17it/s]"
          ]
        },
        {
          "output_type": "stream",
          "name": "stdout",
          "text": [
            "avg 6.17250511627907 1.433783779410953\n"
          ]
        },
        {
          "output_type": "stream",
          "name": "stderr",
          "text": [
            " 43%|████▎     | 6510356/15000000 [42:53<2:38:26, 893.06it/s]"
          ]
        },
        {
          "output_type": "stream",
          "name": "stdout",
          "text": [
            "avg 6.179664197530864 1.4305986715123293\n"
          ]
        },
        {
          "output_type": "stream",
          "name": "stderr",
          "text": [
            " 44%|████▎     | 6540576/15000000 [43:04<2:43:28, 862.42it/s]"
          ]
        },
        {
          "output_type": "stream",
          "name": "stdout",
          "text": [
            "avg 6.1868141321044545 1.427370938295783\n"
          ]
        },
        {
          "output_type": "stream",
          "name": "stderr",
          "text": [
            " 44%|████▍     | 6570436/15000000 [43:14<2:31:13, 929.02it/s]"
          ]
        },
        {
          "output_type": "stream",
          "name": "stdout",
          "text": [
            "avg 6.193878899082569 1.4242081596340728\n"
          ]
        },
        {
          "output_type": "stream",
          "name": "stderr",
          "text": [
            " 44%|████▍     | 6599690/15000000 [43:23<41:27, 3376.59it/s]"
          ]
        },
        {
          "output_type": "stream",
          "name": "stdout",
          "text": [
            "avg 6.200876103500761 1.4211101863474516\n"
          ]
        },
        {
          "output_type": "stream",
          "name": "stderr",
          "text": [
            " 44%|████▍     | 6630603/15000000 [43:40<2:38:56, 877.59it/s]"
          ]
        },
        {
          "output_type": "stream",
          "name": "stdout",
          "text": [
            "avg 6.207786969696969 1.4180152656880245\n"
          ]
        },
        {
          "output_type": "stream",
          "name": "stderr",
          "text": [
            " 44%|████▍     | 6660408/15000000 [43:50<2:31:04, 920.03it/s]"
          ]
        },
        {
          "output_type": "stream",
          "name": "stdout",
          "text": [
            "avg 6.214660935143288 1.4149043311084584\n"
          ]
        },
        {
          "output_type": "stream",
          "name": "stderr",
          "text": [
            " 45%|████▍     | 6690650/15000000 [44:00<2:32:10, 910.10it/s]"
          ]
        },
        {
          "output_type": "stream",
          "name": "stdout",
          "text": [
            "avg 6.221455255255255 1.4118599235781324\n"
          ]
        },
        {
          "output_type": "stream",
          "name": "stderr",
          "text": [
            " 45%|████▍     | 6720383/15000000 [44:14<2:30:52, 914.67it/s]"
          ]
        },
        {
          "output_type": "stream",
          "name": "stdout",
          "text": [
            "avg 6.228200448430493 1.4088068139749683\n"
          ]
        },
        {
          "output_type": "stream",
          "name": "stderr",
          "text": [
            " 45%|████▌     | 6750618/15000000 [44:25<2:36:16, 879.83it/s]"
          ]
        },
        {
          "output_type": "stream",
          "name": "stdout",
          "text": [
            "avg 6.234900744047619 1.4057996357420774\n"
          ]
        },
        {
          "output_type": "stream",
          "name": "stderr",
          "text": [
            " 45%|████▌     | 6780596/15000000 [44:35<2:29:31, 916.21it/s]"
          ]
        },
        {
          "output_type": "stream",
          "name": "stdout",
          "text": [
            "avg 6.241512296296296 1.4028731047150824\n"
          ]
        },
        {
          "output_type": "stream",
          "name": "stderr",
          "text": [
            " 45%|████▌     | 6810484/15000000 [44:50<2:27:21, 926.21it/s]"
          ]
        },
        {
          "output_type": "stream",
          "name": "stdout",
          "text": [
            "avg 6.248096607669616 1.3999135288386577\n"
          ]
        },
        {
          "output_type": "stream",
          "name": "stderr",
          "text": [
            " 46%|████▌     | 6840479/15000000 [45:00<2:34:20, 881.11it/s]"
          ]
        },
        {
          "output_type": "stream",
          "name": "stdout",
          "text": [
            "avg 6.254632305433186 1.396967096992957\n"
          ]
        },
        {
          "output_type": "stream",
          "name": "stderr",
          "text": [
            " 46%|████▌     | 6870657/15000000 [45:10<2:33:19, 883.66it/s]"
          ]
        },
        {
          "output_type": "stream",
          "name": "stdout",
          "text": [
            "avg 6.261106578947368 1.3940401360415124\n"
          ]
        },
        {
          "output_type": "stream",
          "name": "stderr",
          "text": [
            " 46%|████▌     | 6899820/15000000 [45:19<39:12, 3443.32it/s]"
          ]
        },
        {
          "output_type": "stream",
          "name": "stdout",
          "text": [
            "avg 6.267505822416303 1.3911876895947488\n"
          ]
        },
        {
          "output_type": "stream",
          "name": "stderr",
          "text": [
            " 46%|████▌     | 6930458/15000000 [45:35<2:32:32, 881.68it/s]"
          ]
        },
        {
          "output_type": "stream",
          "name": "stdout",
          "text": [
            "avg 6.2738523188405795 1.3883447853604567\n"
          ]
        },
        {
          "output_type": "stream",
          "name": "stderr",
          "text": [
            " 46%|████▋     | 6960680/15000000 [45:45<2:28:37, 901.54it/s]"
          ]
        },
        {
          "output_type": "stream",
          "name": "stdout",
          "text": [
            "avg 6.280119336219336 1.3855883207336206\n"
          ]
        },
        {
          "output_type": "stream",
          "name": "stderr",
          "text": [
            " 47%|████▋     | 6990577/15000000 [45:56<2:29:24, 893.49it/s]"
          ]
        },
        {
          "output_type": "stream",
          "name": "stdout",
          "text": [
            "avg 6.286370114942529 1.3827753832595817\n"
          ]
        },
        {
          "output_type": "stream",
          "name": "stderr",
          "text": [
            " 47%|████▋     | 7020552/15000000 [46:10<2:32:31, 871.91it/s]"
          ]
        },
        {
          "output_type": "stream",
          "name": "stdout",
          "text": [
            "avg 6.292546494992847 1.3800137745803827\n"
          ]
        },
        {
          "output_type": "stream",
          "name": "stderr",
          "text": [
            " 47%|████▋     | 7050458/15000000 [46:21<2:34:26, 857.88it/s]"
          ]
        },
        {
          "output_type": "stream",
          "name": "stdout",
          "text": [
            "avg 6.298670085470086 1.3772582094564905\n"
          ]
        },
        {
          "output_type": "stream",
          "name": "stderr",
          "text": [
            " 47%|████▋     | 7080525/15000000 [46:31<2:30:14, 878.56it/s]"
          ]
        },
        {
          "output_type": "stream",
          "name": "stdout",
          "text": [
            "avg 6.304753617021277 1.3745365074149771\n"
          ]
        },
        {
          "output_type": "stream",
          "name": "stderr",
          "text": [
            " 47%|████▋     | 7110372/15000000 [46:46<2:28:17, 886.76it/s]"
          ]
        },
        {
          "output_type": "stream",
          "name": "stdout",
          "text": [
            "avg 6.31076906779661 1.371850706457593\n"
          ]
        },
        {
          "output_type": "stream",
          "name": "stderr",
          "text": [
            " 48%|████▊     | 7140356/15000000 [46:56<2:28:29, 882.19it/s]"
          ]
        },
        {
          "output_type": "stream",
          "name": "stdout",
          "text": [
            "avg 6.316728270042194 1.3691841573853858\n"
          ]
        },
        {
          "output_type": "stream",
          "name": "stderr",
          "text": [
            " 48%|████▊     | 7170323/15000000 [47:06<2:30:15, 868.46it/s]"
          ]
        },
        {
          "output_type": "stream",
          "name": "stdout",
          "text": [
            "avg 6.3226539215686275 1.3665306825146242\n"
          ]
        },
        {
          "output_type": "stream",
          "name": "stderr",
          "text": [
            " 48%|████▊     | 7199805/15000000 [47:15<39:09, 3320.60it/s]"
          ]
        },
        {
          "output_type": "stream",
          "name": "stdout",
          "text": [
            "avg 6.328516317991632 1.3639272147980157\n"
          ]
        },
        {
          "output_type": "stream",
          "name": "stderr",
          "text": [
            " 48%|████▊     | 7230490/15000000 [47:32<2:37:37, 821.49it/s]"
          ]
        },
        {
          "output_type": "stream",
          "name": "stdout",
          "text": [
            "avg 6.334378888888889 1.3612224205277577\n"
          ]
        },
        {
          "output_type": "stream",
          "name": "stderr",
          "text": [
            " 48%|████▊     | 7260661/15000000 [47:43<2:39:52, 806.85it/s]"
          ]
        },
        {
          "output_type": "stream",
          "name": "stdout",
          "text": [
            "avg 6.3401648686030425 1.358610884075106\n"
          ]
        },
        {
          "output_type": "stream",
          "name": "stderr",
          "text": [
            " 49%|████▊     | 7290542/15000000 [47:53<2:37:30, 815.81it/s]"
          ]
        },
        {
          "output_type": "stream",
          "name": "stdout",
          "text": [
            "avg 6.345878650137741 1.3560478687420108\n"
          ]
        },
        {
          "output_type": "stream",
          "name": "stderr",
          "text": [
            " 49%|████▉     | 7320476/15000000 [48:08<2:30:30, 850.39it/s]"
          ]
        },
        {
          "output_type": "stream",
          "name": "stdout",
          "text": [
            "avg 6.351553086419753 1.3535152666943142\n"
          ]
        },
        {
          "output_type": "stream",
          "name": "stderr",
          "text": [
            " 49%|████▉     | 7350425/15000000 [48:18<2:28:23, 859.18it/s]"
          ]
        },
        {
          "output_type": "stream",
          "name": "stdout",
          "text": [
            "avg 6.357191530054645 1.35100577214478\n"
          ]
        },
        {
          "output_type": "stream",
          "name": "stderr",
          "text": [
            " 49%|████▉     | 7380704/15000000 [48:29<1:52:55, 1124.53it/s]"
          ]
        },
        {
          "output_type": "stream",
          "name": "stdout",
          "text": [
            "avg 6.362805442176871 1.3484607109955118\n"
          ]
        },
        {
          "output_type": "stream",
          "name": "stderr",
          "text": [
            " 49%|████▉     | 7410420/15000000 [48:43<2:27:52, 855.39it/s]"
          ]
        },
        {
          "output_type": "stream",
          "name": "stdout",
          "text": [
            "avg 6.368347425474255 1.345984191857955\n"
          ]
        },
        {
          "output_type": "stream",
          "name": "stderr",
          "text": [
            " 50%|████▉     | 7440356/15000000 [48:54<2:30:25, 837.59it/s]"
          ]
        },
        {
          "output_type": "stream",
          "name": "stdout",
          "text": [
            "avg 6.373839946018894 1.3435146771812252\n"
          ]
        },
        {
          "output_type": "stream",
          "name": "stderr",
          "text": [
            " 50%|████▉     | 7470376/15000000 [49:04<2:26:14, 858.13it/s]"
          ]
        },
        {
          "output_type": "stream",
          "name": "stdout",
          "text": [
            "avg 6.3792912634408605 1.3410804455560061\n"
          ]
        },
        {
          "output_type": "stream",
          "name": "stderr",
          "text": [
            " 50%|████▉     | 7499849/15000000 [49:13<37:38, 3320.70it/s]"
          ]
        },
        {
          "output_type": "stream",
          "name": "stdout",
          "text": [
            "avg 6.3846784471218205 1.3387082168526956\n"
          ]
        },
        {
          "output_type": "stream",
          "name": "stderr",
          "text": [
            " 50%|█████     | 7530621/15000000 [49:29<2:27:10, 845.84it/s]"
          ]
        },
        {
          "output_type": "stream",
          "name": "stdout",
          "text": [
            "avg 6.3900264 1.3363316527898066\n"
          ]
        },
        {
          "output_type": "stream",
          "name": "stderr",
          "text": [
            " 50%|█████     | 7560407/15000000 [49:40<2:28:50, 833.08it/s]"
          ]
        },
        {
          "output_type": "stream",
          "name": "stdout",
          "text": [
            "avg 6.3953598937583 1.3339191160021733\n"
          ]
        },
        {
          "output_type": "stream",
          "name": "stderr",
          "text": [
            " 51%|█████     | 7590455/15000000 [49:50<2:33:04, 806.77it/s]"
          ]
        },
        {
          "output_type": "stream",
          "name": "stdout",
          "text": [
            "avg 6.40061455026455 1.3315866877137454\n"
          ]
        },
        {
          "output_type": "stream",
          "name": "stderr",
          "text": [
            " 51%|█████     | 7620514/15000000 [50:05<2:24:15, 852.56it/s]"
          ]
        },
        {
          "output_type": "stream",
          "name": "stdout",
          "text": [
            "avg 6.405871541501976 1.3292139212140959\n"
          ]
        },
        {
          "output_type": "stream",
          "name": "stderr",
          "text": [
            " 51%|█████     | 7650476/15000000 [50:16<2:26:06, 838.34it/s]"
          ]
        },
        {
          "output_type": "stream",
          "name": "stdout",
          "text": [
            "avg 6.411054593175853 1.3269158955792177\n"
          ]
        },
        {
          "output_type": "stream",
          "name": "stderr",
          "text": [
            " 51%|█████     | 7680412/15000000 [50:26<2:25:26, 838.75it/s]"
          ]
        },
        {
          "output_type": "stream",
          "name": "stdout",
          "text": [
            "avg 6.416207843137255 1.3245970376477572\n"
          ]
        },
        {
          "output_type": "stream",
          "name": "stderr",
          "text": [
            " 51%|█████▏    | 7710486/15000000 [50:41<2:23:36, 846.02it/s]"
          ]
        },
        {
          "output_type": "stream",
          "name": "stdout",
          "text": [
            "avg 6.421326171875 1.3222779346289972\n"
          ]
        },
        {
          "output_type": "stream",
          "name": "stderr",
          "text": [
            " 52%|█████▏    | 7740405/15000000 [50:51<2:24:47, 835.64it/s]"
          ]
        },
        {
          "output_type": "stream",
          "name": "stdout",
          "text": [
            "avg 6.426399351491569 1.320008972106396\n"
          ]
        },
        {
          "output_type": "stream",
          "name": "stderr",
          "text": [
            " 52%|█████▏    | 7770546/15000000 [51:02<2:28:45, 809.96it/s]"
          ]
        },
        {
          "output_type": "stream",
          "name": "stdout",
          "text": [
            "avg 6.4314364341085275 1.3177521678413928\n"
          ]
        },
        {
          "output_type": "stream",
          "name": "stderr",
          "text": [
            " 52%|█████▏    | 7799695/15000000 [51:11<35:33, 3375.51it/s]"
          ]
        },
        {
          "output_type": "stream",
          "name": "stdout",
          "text": [
            "avg 6.436426640926641 1.3155167809718102\n"
          ]
        },
        {
          "output_type": "stream",
          "name": "stderr",
          "text": [
            " 52%|█████▏    | 7830496/15000000 [51:27<2:27:30, 810.06it/s]"
          ]
        },
        {
          "output_type": "stream",
          "name": "stdout",
          "text": [
            "avg 6.441363076923077 1.3133332457884446\n"
          ]
        },
        {
          "output_type": "stream",
          "name": "stderr",
          "text": [
            " 52%|█████▏    | 7860573/15000000 [51:37<2:26:46, 810.66it/s]"
          ]
        },
        {
          "output_type": "stream",
          "name": "stdout",
          "text": [
            "avg 6.4462936143039595 1.3110962019171086\n"
          ]
        },
        {
          "output_type": "stream",
          "name": "stderr",
          "text": [
            " 53%|█████▎    | 7890402/15000000 [51:48<2:29:32, 792.42it/s]"
          ]
        },
        {
          "output_type": "stream",
          "name": "stdout",
          "text": [
            "avg 6.451183078880407 1.3088872174931339\n"
          ]
        },
        {
          "output_type": "stream",
          "name": "stderr",
          "text": [
            " 53%|█████▎    | 7920375/15000000 [52:03<2:24:54, 814.24it/s]"
          ]
        },
        {
          "output_type": "stream",
          "name": "stdout",
          "text": [
            "avg 6.456035487959443 1.3067231742781316\n"
          ]
        },
        {
          "output_type": "stream",
          "name": "stderr",
          "text": [
            " 53%|█████▎    | 7950491/15000000 [52:13<2:20:26, 836.54it/s]"
          ]
        },
        {
          "output_type": "stream",
          "name": "stdout",
          "text": [
            "avg 6.4608431818181815 1.3045758193823538\n"
          ]
        },
        {
          "output_type": "stream",
          "name": "stderr",
          "text": [
            " 53%|█████▎    | 7980614/15000000 [52:24<2:26:52, 796.52it/s]"
          ]
        },
        {
          "output_type": "stream",
          "name": "stdout",
          "text": [
            "avg 6.465592955974842 1.302462331946695\n"
          ]
        },
        {
          "output_type": "stream",
          "name": "stderr",
          "text": [
            " 53%|█████▎    | 8010601/15000000 [52:39<2:28:26, 784.74it/s]"
          ]
        },
        {
          "output_type": "stream",
          "name": "stdout",
          "text": [
            "avg 6.470328320802005 1.3003492353228019\n"
          ]
        },
        {
          "output_type": "stream",
          "name": "stderr",
          "text": [
            " 54%|█████▎    | 8040537/15000000 [52:49<2:25:40, 796.24it/s]"
          ]
        },
        {
          "output_type": "stream",
          "name": "stdout",
          "text": [
            "avg 6.4750372034956305 1.2982546764788017\n"
          ]
        },
        {
          "output_type": "stream",
          "name": "stderr",
          "text": [
            " 54%|█████▍    | 8070531/15000000 [53:00<2:22:10, 812.33it/s]"
          ]
        },
        {
          "output_type": "stream",
          "name": "stdout",
          "text": [
            "avg 6.479698756218905 1.2961861740054006\n"
          ]
        },
        {
          "output_type": "stream",
          "name": "stderr",
          "text": [
            " 54%|█████▍    | 8099761/15000000 [53:08<34:52, 3297.74it/s]"
          ]
        },
        {
          "output_type": "stream",
          "name": "stdout",
          "text": [
            "avg 6.484340396530359 1.2941099874634419\n"
          ]
        },
        {
          "output_type": "stream",
          "name": "stderr",
          "text": [
            " 54%|█████▍    | 8130409/15000000 [53:25<2:21:38, 808.34it/s]"
          ]
        },
        {
          "output_type": "stream",
          "name": "stdout",
          "text": [
            "avg 6.488936049382716 1.2920536734268124\n"
          ]
        },
        {
          "output_type": "stream",
          "name": "stderr",
          "text": [
            " 54%|█████▍    | 8160528/15000000 [53:35<2:27:27, 773.05it/s]"
          ]
        },
        {
          "output_type": "stream",
          "name": "stdout",
          "text": [
            "avg 6.493510947109471 1.2899871806967167\n"
          ]
        },
        {
          "output_type": "stream",
          "name": "stderr",
          "text": [
            " 55%|█████▍    | 8190559/15000000 [53:46<2:23:34, 790.44it/s]"
          ]
        },
        {
          "output_type": "stream",
          "name": "stdout",
          "text": [
            "avg 6.498036887254902 1.2879718203920847\n"
          ]
        },
        {
          "output_type": "stream",
          "name": "stderr",
          "text": [
            " 55%|█████▍    | 8220412/15000000 [54:01<2:24:22, 782.64it/s]"
          ]
        },
        {
          "output_type": "stream",
          "name": "stdout",
          "text": [
            "avg 6.502546642246642 1.2859370805100105\n"
          ]
        },
        {
          "output_type": "stream",
          "name": "stderr",
          "text": [
            " 55%|█████▌    | 8250655/15000000 [54:12<2:20:43, 799.31it/s]"
          ]
        },
        {
          "output_type": "stream",
          "name": "stdout",
          "text": [
            "avg 6.5070171532846715 1.2839383460860316\n"
          ]
        },
        {
          "output_type": "stream",
          "name": "stderr",
          "text": [
            " 55%|█████▌    | 8280333/15000000 [54:22<2:26:00, 767.08it/s]"
          ]
        },
        {
          "output_type": "stream",
          "name": "stdout",
          "text": [
            "avg 6.511435151515151 1.2819544270489054\n"
          ]
        },
        {
          "output_type": "stream",
          "name": "stderr",
          "text": [
            " 55%|█████▌    | 8310407/15000000 [54:37<2:24:20, 772.42it/s]"
          ]
        },
        {
          "output_type": "stream",
          "name": "stdout",
          "text": [
            "avg 6.515834782608696 1.2800039198654638\n"
          ]
        },
        {
          "output_type": "stream",
          "name": "stderr",
          "text": [
            " 56%|█████▌    | 8340515/15000000 [54:48<2:21:47, 782.76it/s]"
          ]
        },
        {
          "output_type": "stream",
          "name": "stdout",
          "text": [
            "avg 6.5201826714801445 1.2780961833515943\n"
          ]
        },
        {
          "output_type": "stream",
          "name": "stderr",
          "text": [
            " 56%|█████▌    | 8370487/15000000 [54:59<2:20:52, 784.29it/s]"
          ]
        },
        {
          "output_type": "stream",
          "name": "stdout",
          "text": [
            "avg 6.524525779376499 1.2761380252646057\n"
          ]
        },
        {
          "output_type": "stream",
          "name": "stderr",
          "text": [
            " 56%|█████▌    | 8399864/15000000 [55:08<35:29, 3100.04it/s]"
          ]
        },
        {
          "output_type": "stream",
          "name": "stdout",
          "text": [
            "avg 6.528839187574672 1.2742059717816632\n"
          ]
        },
        {
          "output_type": "stream",
          "name": "stderr",
          "text": [
            " 56%|█████▌    | 8430676/15000000 [55:25<2:21:29, 773.82it/s]"
          ]
        },
        {
          "output_type": "stream",
          "name": "stdout",
          "text": [
            "avg 6.533118928571429 1.2722821152676587\n"
          ]
        },
        {
          "output_type": "stream",
          "name": "stderr",
          "text": [
            " 56%|█████▋    | 8460613/15000000 [55:35<2:20:59, 773.03it/s]"
          ]
        },
        {
          "output_type": "stream",
          "name": "stdout",
          "text": [
            "avg 6.537361209964413 1.270391027795798\n"
          ]
        },
        {
          "output_type": "stream",
          "name": "stderr",
          "text": [
            " 57%|█████▋    | 8490453/15000000 [55:46<2:23:06, 758.07it/s]"
          ]
        },
        {
          "output_type": "stream",
          "name": "stdout",
          "text": [
            "avg 6.541558156028369 1.2685385610407875\n"
          ]
        },
        {
          "output_type": "stream",
          "name": "stderr",
          "text": [
            " 57%|█████▋    | 8520354/15000000 [56:01<2:21:51, 761.28it/s]"
          ]
        },
        {
          "output_type": "stream",
          "name": "stdout",
          "text": [
            "avg 6.545751590106007 1.2666497801267866\n"
          ]
        },
        {
          "output_type": "stream",
          "name": "stderr",
          "text": [
            " 57%|█████▋    | 8550466/15000000 [56:12<2:24:52, 741.95it/s]"
          ]
        },
        {
          "output_type": "stream",
          "name": "stdout",
          "text": [
            "avg 6.549922417840375 1.264767040354589\n"
          ]
        },
        {
          "output_type": "stream",
          "name": "stderr",
          "text": [
            " 57%|█████▋    | 8580579/15000000 [56:23<2:26:36, 729.77it/s]"
          ]
        },
        {
          "output_type": "stream",
          "name": "stdout",
          "text": [
            "avg 6.554050175438596 1.262933379427108\n"
          ]
        },
        {
          "output_type": "stream",
          "name": "stderr",
          "text": [
            " 57%|█████▋    | 8610470/15000000 [56:39<2:27:07, 723.84it/s]"
          ]
        },
        {
          "output_type": "stream",
          "name": "stdout",
          "text": [
            "avg 6.558153613053613 1.2610885350832906\n"
          ]
        },
        {
          "output_type": "stream",
          "name": "stderr",
          "text": [
            " 58%|█████▊    | 8640500/15000000 [56:50<2:21:58, 746.53it/s]"
          ]
        },
        {
          "output_type": "stream",
          "name": "stdout",
          "text": [
            "avg 6.562210569105691 1.2592746422848888\n"
          ]
        },
        {
          "output_type": "stream",
          "name": "stderr",
          "text": [
            " 58%|█████▊    | 8670602/15000000 [57:01<2:21:04, 747.78it/s]"
          ]
        },
        {
          "output_type": "stream",
          "name": "stdout",
          "text": [
            "avg 6.566241782407407 1.2574695716469202\n"
          ]
        },
        {
          "output_type": "stream",
          "name": "stderr",
          "text": [
            " 58%|█████▊    | 8699888/15000000 [57:09<31:57, 3285.10it/s]"
          ]
        },
        {
          "output_type": "stream",
          "name": "stdout",
          "text": [
            "avg 6.570261707035756 1.2556350885204255\n"
          ]
        },
        {
          "output_type": "stream",
          "name": "stderr",
          "text": [
            " 58%|█████▊    | 8730566/15000000 [57:26<2:22:43, 732.07it/s]"
          ]
        },
        {
          "output_type": "stream",
          "name": "stdout",
          "text": [
            "avg 6.5742436781609195 1.2538679177337801\n"
          ]
        },
        {
          "output_type": "stream",
          "name": "stderr",
          "text": [
            " 58%|█████▊    | 8760585/15000000 [57:37<2:22:27, 729.96it/s]"
          ]
        },
        {
          "output_type": "stream",
          "name": "stdout",
          "text": [
            "avg 6.578200458190149 1.2520977297120965\n"
          ]
        },
        {
          "output_type": "stream",
          "name": "stderr",
          "text": [
            " 59%|█████▊    | 8790565/15000000 [57:48<2:19:51, 739.96it/s]"
          ]
        },
        {
          "output_type": "stream",
          "name": "stdout",
          "text": [
            "avg 6.582129337899543 1.2503663383185817\n"
          ]
        },
        {
          "output_type": "stream",
          "name": "stderr",
          "text": [
            " 59%|█████▉    | 8820372/15000000 [58:03<2:25:21, 708.57it/s]"
          ]
        },
        {
          "output_type": "stream",
          "name": "stdout",
          "text": [
            "avg 6.586035836177475 1.2486084052649145\n"
          ]
        },
        {
          "output_type": "stream",
          "name": "stderr",
          "text": [
            " 59%|█████▉    | 8850509/15000000 [58:14<2:22:59, 716.78it/s]"
          ]
        },
        {
          "output_type": "stream",
          "name": "stdout",
          "text": [
            "avg 6.589926870748299 1.2468517289281675\n"
          ]
        },
        {
          "output_type": "stream",
          "name": "stderr",
          "text": [
            " 59%|█████▉    | 8880565/15000000 [58:25<2:14:31, 758.19it/s]"
          ]
        },
        {
          "output_type": "stream",
          "name": "stdout",
          "text": [
            "avg 6.5937781920903955 1.2451318934035105\n"
          ]
        },
        {
          "output_type": "stream",
          "name": "stderr",
          "text": [
            " 59%|█████▉    | 8910436/15000000 [58:40<2:22:37, 711.62it/s]"
          ]
        },
        {
          "output_type": "stream",
          "name": "stdout",
          "text": [
            "avg 6.597606981981982 1.2434347274693565\n"
          ]
        },
        {
          "output_type": "stream",
          "name": "stderr",
          "text": [
            " 60%|█████▉    | 8940530/15000000 [58:51<2:12:55, 759.73it/s]"
          ]
        },
        {
          "output_type": "stream",
          "name": "stdout",
          "text": [
            "avg 6.601418967452301 1.241716656041499\n"
          ]
        },
        {
          "output_type": "stream",
          "name": "stderr",
          "text": [
            " 60%|█████▉    | 8970518/15000000 [59:02<2:17:25, 731.23it/s]"
          ]
        },
        {
          "output_type": "stream",
          "name": "stdout",
          "text": [
            "avg 6.605209172259507 1.2399971642478405\n"
          ]
        },
        {
          "output_type": "stream",
          "name": "stderr",
          "text": [
            " 60%|█████▉    | 8999983/15000000 [59:11<31:15, 3198.40it/s]"
          ]
        },
        {
          "output_type": "stream",
          "name": "stdout",
          "text": [
            "avg 6.608968115942029 1.2382937729946728\n"
          ]
        },
        {
          "output_type": "stream",
          "name": "stderr",
          "text": [
            " 60%|██████    | 9030381/15000000 [59:28<2:21:48, 701.62it/s]"
          ]
        },
        {
          "output_type": "stream",
          "name": "stdout",
          "text": [
            "avg 6.612689 1.2366332476053372\n"
          ]
        },
        {
          "output_type": "stream",
          "name": "stderr",
          "text": [
            " 60%|██████    | 9060638/15000000 [59:39<2:21:07, 701.42it/s]"
          ]
        },
        {
          "output_type": "stream",
          "name": "stdout",
          "text": [
            "avg 6.61638261351052 1.235002781326158\n"
          ]
        },
        {
          "output_type": "stream",
          "name": "stderr",
          "text": [
            " 61%|██████    | 9090421/15000000 [59:50<2:19:22, 706.72it/s]"
          ]
        },
        {
          "output_type": "stream",
          "name": "stdout",
          "text": [
            "avg 6.620047461368653 1.233374811137323\n"
          ]
        },
        {
          "output_type": "stream",
          "name": "stderr",
          "text": [
            " 61%|██████    | 9120400/15000000 [1:00:07<2:30:03, 653.06it/s]"
          ]
        },
        {
          "output_type": "stream",
          "name": "stdout",
          "text": [
            "avg 6.623703850385039 1.2317256261779614\n"
          ]
        },
        {
          "output_type": "stream",
          "name": "stderr",
          "text": [
            " 61%|██████    | 9150521/15000000 [1:00:18<2:16:24, 714.73it/s]"
          ]
        },
        {
          "output_type": "stream",
          "name": "stdout",
          "text": [
            "avg 6.627320942982456 1.2301310445522815\n"
          ]
        },
        {
          "output_type": "stream",
          "name": "stderr",
          "text": [
            " 61%|██████    | 9180627/15000000 [1:00:29<2:11:43, 736.29it/s]"
          ]
        },
        {
          "output_type": "stream",
          "name": "stdout",
          "text": [
            "avg 6.630924371584699 1.2285140002072525\n"
          ]
        },
        {
          "output_type": "stream",
          "name": "stderr",
          "text": [
            " 61%|██████▏   | 9210640/15000000 [1:00:44<2:11:50, 731.83it/s]"
          ]
        },
        {
          "output_type": "stream",
          "name": "stdout",
          "text": [
            "avg 6.634487363834423 1.226926433472253\n"
          ]
        },
        {
          "output_type": "stream",
          "name": "stderr",
          "text": [
            " 62%|██████▏   | 9240401/15000000 [1:00:55<2:18:28, 693.26it/s]"
          ]
        },
        {
          "output_type": "stream",
          "name": "stdout",
          "text": [
            "avg 6.638040716612378 1.2253313966765538\n"
          ]
        },
        {
          "output_type": "stream",
          "name": "stderr",
          "text": [
            " 62%|██████▏   | 9270631/15000000 [1:01:06<2:16:47, 698.07it/s]"
          ]
        },
        {
          "output_type": "stream",
          "name": "stdout",
          "text": [
            "avg 6.641571103896104 1.2237424500766418\n"
          ]
        },
        {
          "output_type": "stream",
          "name": "stderr",
          "text": [
            " 62%|██████▏   | 9299941/15000000 [1:01:15<28:12, 3368.18it/s]"
          ]
        },
        {
          "output_type": "stream",
          "name": "stdout",
          "text": [
            "avg 6.6450807982740026 1.2221694001427632\n"
          ]
        },
        {
          "output_type": "stream",
          "name": "stderr",
          "text": [
            " 62%|██████▏   | 9330385/15000000 [1:01:32<2:12:11, 714.83it/s]"
          ]
        },
        {
          "output_type": "stream",
          "name": "stdout",
          "text": [
            "avg 6.648572688172043 1.2206164655367762\n"
          ]
        },
        {
          "output_type": "stream",
          "name": "stderr",
          "text": [
            " 62%|██████▏   | 9360584/15000000 [1:01:44<2:14:26, 699.09it/s]"
          ]
        },
        {
          "output_type": "stream",
          "name": "stdout",
          "text": [
            "avg 6.652049624866024 1.2190504894634628\n"
          ]
        },
        {
          "output_type": "stream",
          "name": "stderr",
          "text": [
            " 63%|██████▎   | 9390511/15000000 [1:01:55<2:11:11, 712.67it/s]"
          ]
        },
        {
          "output_type": "stream",
          "name": "stdout",
          "text": [
            "avg 6.655484829059829 1.2175280646669215\n"
          ]
        },
        {
          "output_type": "stream",
          "name": "stderr",
          "text": [
            " 63%|██████▎   | 9420538/15000000 [1:02:10<2:11:57, 704.67it/s]"
          ]
        },
        {
          "output_type": "stream",
          "name": "stdout",
          "text": [
            "avg 6.658903088391907 1.2160139593124766\n"
          ]
        },
        {
          "output_type": "stream",
          "name": "stderr",
          "text": [
            " 63%|██████▎   | 9450470/15000000 [1:02:21<2:08:31, 719.61it/s]"
          ]
        },
        {
          "output_type": "stream",
          "name": "stdout",
          "text": [
            "avg 6.662326645435244 1.2144417682869246\n"
          ]
        },
        {
          "output_type": "stream",
          "name": "stderr",
          "text": [
            " 63%|██████▎   | 9480432/15000000 [1:02:32<2:14:12, 685.45it/s]"
          ]
        },
        {
          "output_type": "stream",
          "name": "stdout",
          "text": [
            "avg 6.665713227513227 1.212903216196135\n"
          ]
        },
        {
          "output_type": "stream",
          "name": "stderr",
          "text": [
            " 63%|██████▎   | 9510477/15000000 [1:02:47<2:11:53, 693.72it/s]"
          ]
        },
        {
          "output_type": "stream",
          "name": "stdout",
          "text": [
            "avg 6.66906529535865 1.2114137073045066\n"
          ]
        },
        {
          "output_type": "stream",
          "name": "stderr",
          "text": [
            " 64%|██████▎   | 9540374/15000000 [1:02:59<2:12:37, 686.11it/s]"
          ]
        },
        {
          "output_type": "stream",
          "name": "stdout",
          "text": [
            "avg 6.672415352260778 1.2098914490104995\n"
          ]
        },
        {
          "output_type": "stream",
          "name": "stderr",
          "text": [
            " 64%|██████▍   | 9570448/15000000 [1:03:10<2:10:05, 695.59it/s]"
          ]
        },
        {
          "output_type": "stream",
          "name": "stdout",
          "text": [
            "avg 6.675733752620545 1.2084118067146152\n"
          ]
        },
        {
          "output_type": "stream",
          "name": "stderr",
          "text": [
            " 64%|██████▍   | 9599848/15000000 [1:03:19<27:34, 3264.41it/s]"
          ]
        },
        {
          "output_type": "stream",
          "name": "stdout",
          "text": [
            "avg 6.679018599791013 1.2069480220852633\n"
          ]
        },
        {
          "output_type": "stream",
          "name": "stderr",
          "text": [
            " 64%|██████▍   | 9630634/15000000 [1:03:36<2:10:06, 687.81it/s]"
          ]
        },
        {
          "output_type": "stream",
          "name": "stdout",
          "text": [
            "avg 6.682296875 1.2054555631555373\n"
          ]
        },
        {
          "output_type": "stream",
          "name": "stderr",
          "text": [
            " 64%|██████▍   | 9660411/15000000 [1:03:47<2:13:06, 668.58it/s]"
          ]
        },
        {
          "output_type": "stream",
          "name": "stdout",
          "text": [
            "avg 6.685580581516096 1.2039439740493016\n"
          ]
        },
        {
          "output_type": "stream",
          "name": "stderr",
          "text": [
            " 65%|██████▍   | 9690530/15000000 [1:03:58<2:11:04, 675.13it/s]"
          ]
        },
        {
          "output_type": "stream",
          "name": "stdout",
          "text": [
            "avg 6.688809213250518 1.2025080575748721\n"
          ]
        },
        {
          "output_type": "stream",
          "name": "stderr",
          "text": [
            " 65%|██████▍   | 9720515/15000000 [1:04:14<2:07:51, 688.15it/s]"
          ]
        },
        {
          "output_type": "stream",
          "name": "stdout",
          "text": [
            "avg 6.692009081527348 1.2010805199179455\n"
          ]
        },
        {
          "output_type": "stream",
          "name": "stderr",
          "text": [
            " 65%|██████▌   | 9750558/15000000 [1:04:25<2:06:04, 693.93it/s]"
          ]
        },
        {
          "output_type": "stream",
          "name": "stdout",
          "text": [
            "avg 6.695211008230452 1.199634599216547\n"
          ]
        },
        {
          "output_type": "stream",
          "name": "stderr",
          "text": [
            " 65%|██████▌   | 9780538/15000000 [1:04:36<2:06:58, 685.13it/s]"
          ]
        },
        {
          "output_type": "stream",
          "name": "stdout",
          "text": [
            "avg 6.698386666666667 1.1982116329633359\n"
          ]
        },
        {
          "output_type": "stream",
          "name": "stderr",
          "text": [
            " 65%|██████▌   | 9810477/15000000 [1:04:52<2:08:52, 671.17it/s]"
          ]
        },
        {
          "output_type": "stream",
          "name": "stdout",
          "text": [
            "avg 6.701558384458077 1.1967844567194\n"
          ]
        },
        {
          "output_type": "stream",
          "name": "stderr",
          "text": [
            " 66%|██████▌   | 9840645/15000000 [1:05:03<2:08:32, 668.96it/s]"
          ]
        },
        {
          "output_type": "stream",
          "name": "stdout",
          "text": [
            "avg 6.704702650356778 1.1953614773623986\n"
          ]
        },
        {
          "output_type": "stream",
          "name": "stderr",
          "text": [
            " 66%|██████▌   | 9870493/15000000 [1:05:14<2:10:27, 655.35it/s]"
          ]
        },
        {
          "output_type": "stream",
          "name": "stdout",
          "text": [
            "avg 6.707815345528456 1.1939646514833422\n"
          ]
        },
        {
          "output_type": "stream",
          "name": "stderr",
          "text": [
            " 66%|██████▌   | 9899789/15000000 [1:05:23<26:36, 3195.12it/s]"
          ]
        },
        {
          "output_type": "stream",
          "name": "stdout",
          "text": [
            "avg 6.7109071935157045 1.192579066458135\n"
          ]
        },
        {
          "output_type": "stream",
          "name": "stderr",
          "text": [
            " 66%|██████▌   | 9930474/15000000 [1:05:41<2:06:23, 668.49it/s]"
          ]
        },
        {
          "output_type": "stream",
          "name": "stdout",
          "text": [
            "avg 6.713991818181818 1.1911863153061262\n"
          ]
        },
        {
          "output_type": "stream",
          "name": "stderr",
          "text": [
            " 66%|██████▋   | 9960455/15000000 [1:05:52<2:06:35, 663.50it/s]"
          ]
        },
        {
          "output_type": "stream",
          "name": "stdout",
          "text": [
            "avg 6.717072104733132 1.1897792321675595\n"
          ]
        },
        {
          "output_type": "stream",
          "name": "stderr",
          "text": [
            " 67%|██████▋   | 9990581/15000000 [1:06:03<2:04:17, 671.75it/s]"
          ]
        },
        {
          "output_type": "stream",
          "name": "stdout",
          "text": [
            "avg 6.720113052208835 1.1884032992789306\n"
          ]
        },
        {
          "output_type": "stream",
          "name": "stderr",
          "text": [
            " 67%|██████▋   | 10020406/15000000 [1:06:19<2:01:40, 682.06it/s]"
          ]
        },
        {
          "output_type": "stream",
          "name": "stdout",
          "text": [
            "avg 6.723151351351351 1.1870358258407283\n"
          ]
        },
        {
          "output_type": "stream",
          "name": "stderr",
          "text": [
            " 67%|██████▋   | 10050442/15000000 [1:06:30<2:03:08, 669.86it/s]"
          ]
        },
        {
          "output_type": "stream",
          "name": "stdout",
          "text": [
            "avg 6.726154291417165 1.1856830763238655\n"
          ]
        },
        {
          "output_type": "stream",
          "name": "stderr",
          "text": [
            " 67%|██████▋   | 10080575/15000000 [1:06:42<2:03:18, 664.91it/s]"
          ]
        },
        {
          "output_type": "stream",
          "name": "stdout",
          "text": [
            "avg 6.729132437810946 1.1843808083792666\n"
          ]
        },
        {
          "output_type": "stream",
          "name": "stderr",
          "text": [
            " 67%|██████▋   | 10110583/15000000 [1:06:57<2:12:50, 613.41it/s]"
          ]
        },
        {
          "output_type": "stream",
          "name": "stdout",
          "text": [
            "avg 6.73210753968254 1.1830577163632534\n"
          ]
        },
        {
          "output_type": "stream",
          "name": "stderr",
          "text": [
            " 68%|██████▊   | 10140565/15000000 [1:07:09<2:05:28, 645.44it/s]"
          ]
        },
        {
          "output_type": "stream",
          "name": "stdout",
          "text": [
            "avg 6.735073194856578 1.1817138202717978\n"
          ]
        },
        {
          "output_type": "stream",
          "name": "stderr",
          "text": [
            " 68%|██████▊   | 10170465/15000000 [1:07:20<2:01:20, 663.32it/s]"
          ]
        },
        {
          "output_type": "stream",
          "name": "stdout",
          "text": [
            "avg 6.737996942800789 1.180399590955901\n"
          ]
        },
        {
          "output_type": "stream",
          "name": "stderr",
          "text": [
            " 68%|██████▊   | 10199933/15000000 [1:07:29<24:10, 3310.15it/s]"
          ]
        },
        {
          "output_type": "stream",
          "name": "stdout",
          "text": [
            "avg 6.740907571288102 1.1791013358342646\n"
          ]
        },
        {
          "output_type": "stream",
          "name": "stderr",
          "text": [
            " 68%|██████▊   | 10230450/15000000 [1:07:47<2:05:24, 633.87it/s]"
          ]
        },
        {
          "output_type": "stream",
          "name": "stdout",
          "text": [
            "avg 6.7438062745098035 1.1778178115234184\n"
          ]
        },
        {
          "output_type": "stream",
          "name": "stderr",
          "text": [
            " 68%|██████▊   | 10260593/15000000 [1:07:58<2:00:38, 654.77it/s]"
          ]
        },
        {
          "output_type": "stream",
          "name": "stdout",
          "text": [
            "avg 6.746679276637341 1.17654564197327\n"
          ]
        },
        {
          "output_type": "stream",
          "name": "stderr",
          "text": [
            " 69%|██████▊   | 10290648/15000000 [1:08:09<1:57:05, 670.31it/s]"
          ]
        },
        {
          "output_type": "stream",
          "name": "stdout",
          "text": [
            "avg 6.749558576998051 1.175221605380327\n"
          ]
        },
        {
          "output_type": "stream",
          "name": "stderr",
          "text": [
            " 69%|██████▉   | 10320493/15000000 [1:08:25<2:01:55, 639.65it/s]"
          ]
        },
        {
          "output_type": "stream",
          "name": "stdout",
          "text": [
            "avg 6.7524134110787175 1.1739347400116562\n"
          ]
        },
        {
          "output_type": "stream",
          "name": "stderr",
          "text": [
            " 69%|██████▉   | 10350393/15000000 [1:08:36<2:05:34, 617.09it/s]"
          ]
        },
        {
          "output_type": "stream",
          "name": "stdout",
          "text": [
            "avg 6.755237984496124 1.172670424008163\n"
          ]
        },
        {
          "output_type": "stream",
          "name": "stderr",
          "text": [
            " 69%|██████▉   | 10380399/15000000 [1:08:48<2:01:24, 634.13it/s]"
          ]
        },
        {
          "output_type": "stream",
          "name": "stdout",
          "text": [
            "avg 6.758036135265701 1.1714353966698634\n"
          ]
        },
        {
          "output_type": "stream",
          "name": "stderr",
          "text": [
            " 69%|██████▉   | 10410449/15000000 [1:09:04<2:04:22, 615.05it/s]"
          ]
        },
        {
          "output_type": "stream",
          "name": "stdout",
          "text": [
            "avg 6.760831117533718 1.1701958399903456\n"
          ]
        },
        {
          "output_type": "stream",
          "name": "stderr",
          "text": [
            " 70%|██████▉   | 10440556/15000000 [1:09:15<1:56:26, 652.57it/s]"
          ]
        },
        {
          "output_type": "stream",
          "name": "stdout",
          "text": [
            "avg 6.763630355427473 1.1689191433944082\n"
          ]
        },
        {
          "output_type": "stream",
          "name": "stderr",
          "text": [
            " 70%|██████▉   | 10470446/15000000 [1:09:26<1:56:13, 649.55it/s]"
          ]
        },
        {
          "output_type": "stream",
          "name": "stdout",
          "text": [
            "avg 6.766409865900383 1.1676582329480247\n"
          ]
        },
        {
          "output_type": "stream",
          "name": "stderr",
          "text": [
            " 70%|██████▉   | 10499681/15000000 [1:09:35<22:42, 3301.89it/s]"
          ]
        },
        {
          "output_type": "stream",
          "name": "stdout",
          "text": [
            "avg 6.76912970391595 1.1664642779959444\n"
          ]
        },
        {
          "output_type": "stream",
          "name": "stderr",
          "text": [
            " 70%|███████   | 10530533/15000000 [1:09:53<1:51:41, 666.89it/s]"
          ]
        },
        {
          "output_type": "stream",
          "name": "stdout",
          "text": [
            "avg 6.771853428571428 1.1652636710384574\n"
          ]
        },
        {
          "output_type": "stream",
          "name": "stderr",
          "text": [
            " 70%|███████   | 10560442/15000000 [1:10:04<1:55:40, 639.63it/s]"
          ]
        },
        {
          "output_type": "stream",
          "name": "stdout",
          "text": [
            "avg 6.774573599240266 1.1640393343695716\n"
          ]
        },
        {
          "output_type": "stream",
          "name": "stderr",
          "text": [
            " 71%|███████   | 10590600/15000000 [1:10:15<1:56:34, 630.41it/s]"
          ]
        },
        {
          "output_type": "stream",
          "name": "stdout",
          "text": [
            "avg 6.777282765151515 1.1628237215854542\n"
          ]
        },
        {
          "output_type": "stream",
          "name": "stderr",
          "text": [
            " 71%|███████   | 10620392/15000000 [1:10:31<1:53:57, 640.50it/s]"
          ]
        },
        {
          "output_type": "stream",
          "name": "stdout",
          "text": [
            "avg 6.779964494806421 1.1616459135035575\n"
          ]
        },
        {
          "output_type": "stream",
          "name": "stderr",
          "text": [
            " 71%|███████   | 10650482/15000000 [1:10:42<1:57:45, 615.57it/s]"
          ]
        },
        {
          "output_type": "stream",
          "name": "stdout",
          "text": [
            "avg 6.782629284369115 1.1604646236430338\n"
          ]
        },
        {
          "output_type": "stream",
          "name": "stderr",
          "text": [
            " 71%|███████   | 10680500/15000000 [1:10:54<1:54:23, 629.37it/s]"
          ]
        },
        {
          "output_type": "stream",
          "name": "stdout",
          "text": [
            "avg 6.785284976525822 1.159272830483105\n"
          ]
        },
        {
          "output_type": "stream",
          "name": "stderr",
          "text": [
            " 71%|███████▏  | 10710506/15000000 [1:11:10<1:53:09, 631.74it/s]"
          ]
        },
        {
          "output_type": "stream",
          "name": "stdout",
          "text": [
            "avg 6.78793829588015 1.1580631911306576\n"
          ]
        },
        {
          "output_type": "stream",
          "name": "stderr",
          "text": [
            " 72%|███████▏  | 10740553/15000000 [1:11:21<1:50:30, 642.36it/s]"
          ]
        },
        {
          "output_type": "stream",
          "name": "stdout",
          "text": [
            "avg 6.790573576097105 1.1568721980036802\n"
          ]
        },
        {
          "output_type": "stream",
          "name": "stderr",
          "text": [
            " 72%|███████▏  | 10770396/15000000 [1:11:32<1:48:07, 651.94it/s]"
          ]
        },
        {
          "output_type": "stream",
          "name": "stdout",
          "text": [
            "avg 6.793188268156425 1.155696391089243\n"
          ]
        },
        {
          "output_type": "stream",
          "name": "stderr",
          "text": [
            " 72%|███████▏  | 10799787/15000000 [1:11:41<20:56, 3341.90it/s]"
          ]
        },
        {
          "output_type": "stream",
          "name": "stdout",
          "text": [
            "avg 6.795791736304549 1.1545311272099468\n"
          ]
        },
        {
          "output_type": "stream",
          "name": "stderr",
          "text": [
            " 72%|███████▏  | 10830404/15000000 [1:11:59<1:47:59, 643.46it/s]"
          ]
        },
        {
          "output_type": "stream",
          "name": "stdout",
          "text": [
            "avg 6.798369814814815 1.1533723929498374\n"
          ]
        },
        {
          "output_type": "stream",
          "name": "stderr",
          "text": [
            " 72%|███████▏  | 10860662/15000000 [1:12:10<1:44:21, 661.04it/s]"
          ]
        },
        {
          "output_type": "stream",
          "name": "stdout",
          "text": [
            "avg 6.800939889196676 1.1522211129666293\n"
          ]
        },
        {
          "output_type": "stream",
          "name": "stderr",
          "text": [
            " 73%|███████▎  | 10890352/15000000 [1:12:21<1:45:27, 649.45it/s]"
          ]
        },
        {
          "output_type": "stream",
          "name": "stdout",
          "text": [
            "avg 6.8034857274401475 1.1510812830790045\n"
          ]
        },
        {
          "output_type": "stream",
          "name": "stderr",
          "text": [
            " 73%|███████▎  | 10920356/15000000 [1:12:37<1:53:19, 599.95it/s]"
          ]
        },
        {
          "output_type": "stream",
          "name": "stdout",
          "text": [
            "avg 6.806032139577594 1.1499246932904308\n"
          ]
        },
        {
          "output_type": "stream",
          "name": "stderr",
          "text": [
            " 73%|███████▎  | 10950587/15000000 [1:12:48<1:52:28, 600.08it/s]"
          ]
        },
        {
          "output_type": "stream",
          "name": "stdout",
          "text": [
            "avg 6.808557783882784 1.1487839076608373\n"
          ]
        },
        {
          "output_type": "stream",
          "name": "stderr",
          "text": [
            " 73%|███████▎  | 10980466/15000000 [1:12:59<1:46:46, 627.38it/s]"
          ]
        },
        {
          "output_type": "stream",
          "name": "stdout",
          "text": [
            "avg 6.81107095890411 1.1476524142307105\n"
          ]
        },
        {
          "output_type": "stream",
          "name": "stderr",
          "text": [
            " 73%|███████▎  | 11010650/15000000 [1:13:15<1:43:26, 642.73it/s]"
          ]
        },
        {
          "output_type": "stream",
          "name": "stdout",
          "text": [
            "avg 6.813568579234973 1.1465478698654072\n"
          ]
        },
        {
          "output_type": "stream",
          "name": "stderr",
          "text": [
            " 74%|███████▎  | 11040448/15000000 [1:13:26<1:41:22, 650.97it/s]"
          ]
        },
        {
          "output_type": "stream",
          "name": "stdout",
          "text": [
            "avg 6.816062034514078 1.1454260574394368\n"
          ]
        },
        {
          "output_type": "stream",
          "name": "stderr",
          "text": [
            " 74%|███████▍  | 11070468/15000000 [1:13:37<1:42:32, 638.73it/s]"
          ]
        },
        {
          "output_type": "stream",
          "name": "stdout",
          "text": [
            "avg 6.818523460144927 1.1443357193384127\n"
          ]
        },
        {
          "output_type": "stream",
          "name": "stderr",
          "text": [
            " 74%|███████▍  | 11099723/15000000 [1:13:46<20:15, 3208.62it/s]"
          ]
        },
        {
          "output_type": "stream",
          "name": "stdout",
          "text": [
            "avg 6.820973261065944 1.1432454658408808\n"
          ]
        },
        {
          "output_type": "stream",
          "name": "stderr",
          "text": [
            " 74%|███████▍  | 11130543/15000000 [1:14:04<1:43:42, 621.88it/s]"
          ]
        },
        {
          "output_type": "stream",
          "name": "stdout",
          "text": [
            "avg 6.823420270270271 1.1421514297370858\n"
          ]
        },
        {
          "output_type": "stream",
          "name": "stderr",
          "text": [
            " 74%|███████▍  | 11160495/15000000 [1:14:16<1:43:54, 615.89it/s]"
          ]
        },
        {
          "output_type": "stream",
          "name": "stdout",
          "text": [
            "avg 6.8258795148247975 1.141014901628005\n"
          ]
        },
        {
          "output_type": "stream",
          "name": "stderr",
          "text": [
            " 75%|███████▍  | 11190400/15000000 [1:14:27<1:39:54, 635.46it/s]"
          ]
        },
        {
          "output_type": "stream",
          "name": "stdout",
          "text": [
            "avg 6.828289336917563 1.1399363708483368\n"
          ]
        },
        {
          "output_type": "stream",
          "name": "stderr",
          "text": [
            " 75%|███████▍  | 11220557/15000000 [1:14:42<1:40:02, 629.64it/s]"
          ]
        },
        {
          "output_type": "stream",
          "name": "stdout",
          "text": [
            "avg 6.830692940125112 1.1388665731239906\n"
          ]
        },
        {
          "output_type": "stream",
          "name": "stderr",
          "text": [
            " 75%|███████▌  | 11250404/15000000 [1:14:54<1:37:58, 637.90it/s]"
          ]
        },
        {
          "output_type": "stream",
          "name": "stdout",
          "text": [
            "avg 6.833085739750445 1.1378086797526585\n"
          ]
        },
        {
          "output_type": "stream",
          "name": "stderr",
          "text": [
            " 75%|███████▌  | 11280461/15000000 [1:15:05<1:40:08, 619.08it/s]"
          ]
        },
        {
          "output_type": "stream",
          "name": "stdout",
          "text": [
            "avg 6.8354727111111115 1.1367509869623278\n"
          ]
        },
        {
          "output_type": "stream",
          "name": "stderr",
          "text": [
            " 75%|███████▌  | 11310429/15000000 [1:15:20<1:39:06, 620.43it/s]"
          ]
        },
        {
          "output_type": "stream",
          "name": "stdout",
          "text": [
            "avg 6.8378472517730495 1.1356757396456105\n"
          ]
        },
        {
          "output_type": "stream",
          "name": "stderr",
          "text": [
            " 76%|███████▌  | 11340296/15000000 [1:15:32<1:41:28, 601.08it/s]"
          ]
        },
        {
          "output_type": "stream",
          "name": "stdout",
          "text": [
            "avg 6.84020866489832 1.1346131726611401\n"
          ]
        },
        {
          "output_type": "stream",
          "name": "stderr",
          "text": [
            " 76%|███████▌  | 11370514/15000000 [1:15:43<1:42:17, 591.33it/s]"
          ]
        },
        {
          "output_type": "stream",
          "name": "stdout",
          "text": [
            "avg 6.842551587301587 1.1335551601771419\n"
          ]
        },
        {
          "output_type": "stream",
          "name": "stderr",
          "text": [
            " 76%|███████▌  | 11399674/15000000 [1:15:52<18:15, 3287.57it/s]"
          ]
        },
        {
          "output_type": "stream",
          "name": "stdout",
          "text": [
            "avg 6.84487854001759 1.1325087097914286\n"
          ]
        },
        {
          "output_type": "stream",
          "name": "stderr",
          "text": [
            " 76%|███████▌  | 11430560/15000000 [1:16:10<1:35:57, 619.95it/s]"
          ]
        },
        {
          "output_type": "stream",
          "name": "stdout",
          "text": [
            "avg 6.8472 1.1314497622940334\n"
          ]
        },
        {
          "output_type": "stream",
          "name": "stderr",
          "text": [
            " 76%|███████▋  | 11460587/15000000 [1:16:21<1:36:56, 608.52it/s]"
          ]
        },
        {
          "output_type": "stream",
          "name": "stdout",
          "text": [
            "avg 6.849519947506562 1.130399519836775\n"
          ]
        },
        {
          "output_type": "stream",
          "name": "stderr",
          "text": [
            " 77%|███████▋  | 11490615/15000000 [1:16:32<1:34:06, 621.53it/s]"
          ]
        },
        {
          "output_type": "stream",
          "name": "stdout",
          "text": [
            "avg 6.851817015706806 1.1293661486318205\n"
          ]
        },
        {
          "output_type": "stream",
          "name": "stderr",
          "text": [
            " 77%|███████▋  | 11520305/15000000 [1:16:48<1:39:56, 580.27it/s]"
          ]
        },
        {
          "output_type": "stream",
          "name": "stdout",
          "text": [
            "avg 6.8541087032201915 1.1283539579739545\n"
          ]
        },
        {
          "output_type": "stream",
          "name": "stderr",
          "text": [
            " 77%|███████▋  | 11550455/15000000 [1:16:59<1:31:54, 625.54it/s]"
          ]
        },
        {
          "output_type": "stream",
          "name": "stdout",
          "text": [
            "avg 6.856369357638889 1.1273699655106504\n"
          ]
        },
        {
          "output_type": "stream",
          "name": "stderr",
          "text": [
            " 77%|███████▋  | 11580491/15000000 [1:17:11<1:36:21, 591.46it/s]"
          ]
        },
        {
          "output_type": "stream",
          "name": "stdout",
          "text": [
            "avg 6.858618354978355 1.1263792688973995\n"
          ]
        },
        {
          "output_type": "stream",
          "name": "stderr",
          "text": [
            " 77%|███████▋  | 11610370/15000000 [1:17:27<1:31:07, 620.01it/s]"
          ]
        },
        {
          "output_type": "stream",
          "name": "stdout",
          "text": [
            "avg 6.860873402417962 1.1253586228006411\n"
          ]
        },
        {
          "output_type": "stream",
          "name": "stderr",
          "text": [
            " 78%|███████▊  | 11640393/15000000 [1:17:38<1:33:34, 598.42it/s]"
          ]
        },
        {
          "output_type": "stream",
          "name": "stdout",
          "text": [
            "avg 6.863125495262705 1.1243288049007667\n"
          ]
        },
        {
          "output_type": "stream",
          "name": "stderr",
          "text": [
            " 78%|███████▊  | 11670387/15000000 [1:17:49<1:35:48, 579.24it/s]"
          ]
        },
        {
          "output_type": "stream",
          "name": "stdout",
          "text": [
            "avg 6.865356958762886 1.123332544717819\n"
          ]
        },
        {
          "output_type": "stream",
          "name": "stderr",
          "text": [
            " 78%|███████▊  | 11699947/15000000 [1:17:59<16:38, 3305.19it/s]"
          ]
        },
        {
          "output_type": "stream",
          "name": "stdout",
          "text": [
            "avg 6.8675642673521855 1.122339229935848\n"
          ]
        },
        {
          "output_type": "stream",
          "name": "stderr",
          "text": [
            " 78%|███████▊  | 11730585/15000000 [1:18:17<1:29:36, 608.05it/s]"
          ]
        },
        {
          "output_type": "stream",
          "name": "stdout",
          "text": [
            "avg 6.869756581196581 1.1213569843444613\n"
          ]
        },
        {
          "output_type": "stream",
          "name": "stderr",
          "text": [
            " 78%|███████▊  | 11760660/15000000 [1:18:29<1:29:39, 602.20it/s]"
          ]
        },
        {
          "output_type": "stream",
          "name": "stdout",
          "text": [
            "avg 6.87195242966752 1.1203682233804846\n"
          ]
        },
        {
          "output_type": "stream",
          "name": "stderr",
          "text": [
            " 79%|███████▊  | 11790576/15000000 [1:18:40<1:32:31, 578.08it/s]"
          ]
        },
        {
          "output_type": "stream",
          "name": "stdout",
          "text": [
            "avg 6.874124404761905 1.1194019498854355\n"
          ]
        },
        {
          "output_type": "stream",
          "name": "stderr",
          "text": [
            " 79%|███████▉  | 11820594/15000000 [1:18:56<1:31:56, 576.38it/s]"
          ]
        },
        {
          "output_type": "stream",
          "name": "stdout",
          "text": [
            "avg 6.876301017811705 1.118421206408165\n"
          ]
        },
        {
          "output_type": "stream",
          "name": "stderr",
          "text": [
            " 79%|███████▉  | 11850485/15000000 [1:19:08<1:28:29, 593.13it/s]"
          ]
        },
        {
          "output_type": "stream",
          "name": "stdout",
          "text": [
            "avg 6.878465228426396 1.1174324624438183\n"
          ]
        },
        {
          "output_type": "stream",
          "name": "stderr",
          "text": [
            " 79%|███████▉  | 11880569/15000000 [1:19:19<1:31:30, 568.15it/s]"
          ]
        },
        {
          "output_type": "stream",
          "name": "stdout",
          "text": [
            "avg 6.880624641350211 1.1164521042082132\n"
          ]
        },
        {
          "output_type": "stream",
          "name": "stderr",
          "text": [
            " 79%|███████▉  | 11910568/15000000 [1:19:36<1:29:43, 573.89it/s]"
          ]
        },
        {
          "output_type": "stream",
          "name": "stdout",
          "text": [
            "avg 6.882757070707071 1.1154804752284566\n"
          ]
        },
        {
          "output_type": "stream",
          "name": "stderr",
          "text": [
            " 80%|███████▉  | 11940383/15000000 [1:19:47<1:26:45, 587.78it/s]"
          ]
        },
        {
          "output_type": "stream",
          "name": "stdout",
          "text": [
            "avg 6.884887489504618 1.1145106522999322\n"
          ]
        },
        {
          "output_type": "stream",
          "name": "stderr",
          "text": [
            " 80%|███████▉  | 11970393/15000000 [1:19:59<1:22:40, 610.80it/s]"
          ]
        },
        {
          "output_type": "stream",
          "name": "stdout",
          "text": [
            "avg 6.887003768844221 1.1135703856441939\n"
          ]
        },
        {
          "output_type": "stream",
          "name": "stderr",
          "text": [
            " 80%|███████▉  | 11999753/15000000 [1:20:07<15:21, 3254.52it/s]"
          ]
        },
        {
          "output_type": "stream",
          "name": "stdout",
          "text": [
            "avg 6.889120050125313 1.112602593281224\n"
          ]
        },
        {
          "output_type": "stream",
          "name": "stderr",
          "text": [
            " 80%|████████  | 12030477/15000000 [1:20:26<1:27:51, 563.31it/s]"
          ]
        },
        {
          "output_type": "stream",
          "name": "stdout",
          "text": [
            "avg 6.891229833333333 1.1116503415635908\n"
          ]
        },
        {
          "output_type": "stream",
          "name": "stderr",
          "text": [
            " 80%|████████  | 12060650/15000000 [1:20:38<1:21:26, 601.50it/s]"
          ]
        },
        {
          "output_type": "stream",
          "name": "stdout",
          "text": [
            "avg 6.893316375727348 1.1107154565117172\n"
          ]
        },
        {
          "output_type": "stream",
          "name": "stderr",
          "text": [
            " 81%|████████  | 12090617/15000000 [1:20:49<1:23:27, 581.06it/s]"
          ]
        },
        {
          "output_type": "stream",
          "name": "stdout",
          "text": [
            "avg 6.895387976782753 1.1097907020589481\n"
          ]
        },
        {
          "output_type": "stream",
          "name": "stderr",
          "text": [
            " 81%|████████  | 12120605/15000000 [1:21:05<1:24:19, 569.09it/s]"
          ]
        },
        {
          "output_type": "stream",
          "name": "stdout",
          "text": [
            "avg 6.897447559966915 1.108866608906718\n"
          ]
        },
        {
          "output_type": "stream",
          "name": "stderr",
          "text": [
            " 81%|████████  | 12150501/15000000 [1:21:17<1:24:22, 562.84it/s]"
          ]
        },
        {
          "output_type": "stream",
          "name": "stdout",
          "text": [
            "avg 6.899429125412541 1.1079875863468749\n"
          ]
        },
        {
          "output_type": "stream",
          "name": "stderr",
          "text": [
            " 81%|████████  | 12180396/15000000 [1:21:28<1:21:27, 576.95it/s]"
          ]
        },
        {
          "output_type": "stream",
          "name": "stdout",
          "text": [
            "avg 6.901482057613169 1.10706058112667\n"
          ]
        },
        {
          "output_type": "stream",
          "name": "stderr",
          "text": [
            " 81%|████████▏ | 12210393/15000000 [1:21:45<1:20:03, 580.73it/s]"
          ]
        },
        {
          "output_type": "stream",
          "name": "stdout",
          "text": [
            "avg 6.903518308702791 1.1061374313385592\n"
          ]
        },
        {
          "output_type": "stream",
          "name": "stderr",
          "text": [
            " 82%|████████▏ | 12240691/15000000 [1:21:57<1:00:25, 761.15it/s]"
          ]
        },
        {
          "output_type": "stream",
          "name": "stdout",
          "text": [
            "avg 6.905545290745291 1.1052188579651803\n"
          ]
        },
        {
          "output_type": "stream",
          "name": "stderr",
          "text": [
            " 82%|████████▏ | 12270437/15000000 [1:22:08<1:21:05, 560.98it/s]"
          ]
        },
        {
          "output_type": "stream",
          "name": "stdout",
          "text": [
            "avg 6.907556290849673 1.1043301568648596\n"
          ]
        },
        {
          "output_type": "stream",
          "name": "stderr",
          "text": [
            " 82%|████████▏ | 12299846/15000000 [1:22:18<14:17, 3147.34it/s]"
          ]
        },
        {
          "output_type": "stream",
          "name": "stdout",
          "text": [
            "avg 6.9095620211898945 1.103421517489071\n"
          ]
        },
        {
          "output_type": "stream",
          "name": "stderr",
          "text": [
            " 82%|████████▏ | 12330472/15000000 [1:22:36<1:20:08, 555.22it/s]"
          ]
        },
        {
          "output_type": "stream",
          "name": "stdout",
          "text": [
            "avg 6.911549512195122 1.102550883085234\n"
          ]
        },
        {
          "output_type": "stream",
          "name": "stderr",
          "text": [
            " 82%|████████▏ | 12360301/15000000 [1:22:48<1:21:46, 537.97it/s]"
          ]
        },
        {
          "output_type": "stream",
          "name": "stdout",
          "text": [
            "avg 6.913524330900243 1.1016866867660475\n"
          ]
        },
        {
          "output_type": "stream",
          "name": "stderr",
          "text": [
            " 83%|████████▎ | 12390500/15000000 [1:23:00<1:15:38, 574.92it/s]"
          ]
        },
        {
          "output_type": "stream",
          "name": "stdout",
          "text": [
            "avg 6.915497411003236 1.1007963582673863\n"
          ]
        },
        {
          "output_type": "stream",
          "name": "stderr",
          "text": [
            " 83%|████████▎ | 12420601/15000000 [1:23:16<1:13:49, 582.29it/s]"
          ]
        },
        {
          "output_type": "stream",
          "name": "stdout",
          "text": [
            "avg 6.917472800645682 1.099913967749287\n"
          ]
        },
        {
          "output_type": "stream",
          "name": "stderr",
          "text": [
            " 83%|████████▎ | 12450541/15000000 [1:23:27<1:14:10, 572.81it/s]"
          ]
        },
        {
          "output_type": "stream",
          "name": "stdout",
          "text": [
            "avg 6.919432930756844 1.0990220093504328\n"
          ]
        },
        {
          "output_type": "stream",
          "name": "stderr",
          "text": [
            " 83%|████████▎ | 12480532/15000000 [1:23:39<1:12:00, 583.11it/s]"
          ]
        },
        {
          "output_type": "stream",
          "name": "stdout",
          "text": [
            "avg 6.921382570281125 1.098130283761739\n"
          ]
        },
        {
          "output_type": "stream",
          "name": "stderr",
          "text": [
            " 83%|████████▎ | 12510409/15000000 [1:23:55<1:12:33, 571.84it/s]"
          ]
        },
        {
          "output_type": "stream",
          "name": "stdout",
          "text": [
            "avg 6.923317708333333 1.0972730122708152\n"
          ]
        },
        {
          "output_type": "stream",
          "name": "stderr",
          "text": [
            " 84%|████████▎ | 12540366/15000000 [1:24:07<1:14:13, 552.35it/s]"
          ]
        },
        {
          "output_type": "stream",
          "name": "stdout",
          "text": [
            "avg 6.925239408473222 1.0964270006733274\n"
          ]
        },
        {
          "output_type": "stream",
          "name": "stderr",
          "text": [
            " 84%|████████▍ | 12570331/15000000 [1:24:19<1:12:59, 554.73it/s]"
          ]
        },
        {
          "output_type": "stream",
          "name": "stdout",
          "text": [
            "avg 6.927151355661882 1.0955654131591774\n"
          ]
        },
        {
          "output_type": "stream",
          "name": "stderr",
          "text": [
            " 84%|████████▍ | 12599751/15000000 [1:24:28<12:15, 3264.54it/s]"
          ]
        },
        {
          "output_type": "stream",
          "name": "stdout",
          "text": [
            "avg 6.929065871121718 1.0947141285798931\n"
          ]
        },
        {
          "output_type": "stream",
          "name": "stderr",
          "text": [
            " 84%|████████▍ | 12630543/15000000 [1:24:46<1:13:20, 538.40it/s]"
          ]
        },
        {
          "output_type": "stream",
          "name": "stdout",
          "text": [
            "avg 6.930959523809523 1.0938586249873596\n"
          ]
        },
        {
          "output_type": "stream",
          "name": "stderr",
          "text": [
            " 84%|████████▍ | 12660650/15000000 [1:24:58<1:08:44, 567.20it/s]"
          ]
        },
        {
          "output_type": "stream",
          "name": "stdout",
          "text": [
            "avg 6.932843388756928 1.093030965052697\n"
          ]
        },
        {
          "output_type": "stream",
          "name": "stderr",
          "text": [
            " 85%|████████▍ | 12690583/15000000 [1:25:10<1:07:28, 570.38it/s]"
          ]
        },
        {
          "output_type": "stream",
          "name": "stdout",
          "text": [
            "avg 6.934726461295418 1.0921687976960257\n"
          ]
        },
        {
          "output_type": "stream",
          "name": "stderr",
          "text": [
            " 85%|████████▍ | 12720555/15000000 [1:25:26<1:07:45, 560.67it/s]"
          ]
        },
        {
          "output_type": "stream",
          "name": "stdout",
          "text": [
            "avg 6.936606146572104 1.0913214448815256\n"
          ]
        },
        {
          "output_type": "stream",
          "name": "stderr",
          "text": [
            " 85%|████████▌ | 12750398/15000000 [1:25:38<1:08:19, 548.74it/s]"
          ]
        },
        {
          "output_type": "stream",
          "name": "stdout",
          "text": [
            "avg 6.938470754716981 1.090483264601018\n"
          ]
        },
        {
          "output_type": "stream",
          "name": "stderr",
          "text": [
            " 85%|████████▌ | 12780638/15000000 [1:25:49<1:07:49, 545.31it/s]"
          ]
        },
        {
          "output_type": "stream",
          "name": "stdout",
          "text": [
            "avg 6.940327529411765 1.0896355831660829\n"
          ]
        },
        {
          "output_type": "stream",
          "name": "stderr",
          "text": [
            " 85%|████████▌ | 12810565/15000000 [1:26:06<1:05:42, 555.40it/s]"
          ]
        },
        {
          "output_type": "stream",
          "name": "stdout",
          "text": [
            "avg 6.9421733959311425 1.0887998999539643\n"
          ]
        },
        {
          "output_type": "stream",
          "name": "stderr",
          "text": [
            " 86%|████████▌ | 12840548/15000000 [1:26:17<1:03:19, 568.39it/s]"
          ]
        },
        {
          "output_type": "stream",
          "name": "stdout",
          "text": [
            "avg 6.943966978922717 1.0879980988575226\n"
          ]
        },
        {
          "output_type": "stream",
          "name": "stderr",
          "text": [
            " 86%|████████▌ | 12870612/15000000 [1:26:29<1:05:17, 543.54it/s]"
          ]
        },
        {
          "output_type": "stream",
          "name": "stdout",
          "text": [
            "avg 6.945795249221184 1.0871834456869953\n"
          ]
        },
        {
          "output_type": "stream",
          "name": "stderr",
          "text": [
            " 86%|████████▌ | 12899859/15000000 [1:26:38<10:39, 3283.42it/s]"
          ]
        },
        {
          "output_type": "stream",
          "name": "stdout",
          "text": [
            "avg 6.947622533022533 1.0863454194098658\n"
          ]
        },
        {
          "output_type": "stream",
          "name": "stderr",
          "text": [
            " 86%|████████▌ | 12930335/15000000 [1:26:57<1:04:12, 537.26it/s]"
          ]
        },
        {
          "output_type": "stream",
          "name": "stdout",
          "text": [
            "avg 6.949445968992248 1.0855184822002875\n"
          ]
        },
        {
          "output_type": "stream",
          "name": "stderr",
          "text": [
            " 86%|████████▋ | 12960660/15000000 [1:27:09<1:02:02, 547.82it/s]"
          ]
        },
        {
          "output_type": "stream",
          "name": "stdout",
          "text": [
            "avg 6.951244702242846 1.084701987282654\n"
          ]
        },
        {
          "output_type": "stream",
          "name": "stderr",
          "text": [
            " 87%|████████▋ | 12990440/15000000 [1:27:21<1:00:32, 553.23it/s]"
          ]
        },
        {
          "output_type": "stream",
          "name": "stdout",
          "text": [
            "avg 6.953040586419753 1.0838912619370087\n"
          ]
        },
        {
          "output_type": "stream",
          "name": "stderr",
          "text": [
            " 87%|████████▋ | 13020464/15000000 [1:27:37<1:06:21, 497.12it/s]"
          ]
        },
        {
          "output_type": "stream",
          "name": "stdout",
          "text": [
            "avg 6.954821247113164 1.0830841861433889\n"
          ]
        },
        {
          "output_type": "stream",
          "name": "stderr",
          "text": [
            " 87%|████████▋ | 13050555/15000000 [1:27:49<59:52, 542.68it/s]  "
          ]
        },
        {
          "output_type": "stream",
          "name": "stdout",
          "text": [
            "avg 6.956602764976958 1.0822790121573527\n"
          ]
        },
        {
          "output_type": "stream",
          "name": "stderr",
          "text": [
            " 87%|████████▋ | 13080647/15000000 [1:28:01<58:26, 547.30it/s]  "
          ]
        },
        {
          "output_type": "stream",
          "name": "stdout",
          "text": [
            "avg 6.958385440613027 1.0814610441211352\n"
          ]
        },
        {
          "output_type": "stream",
          "name": "stderr",
          "text": [
            " 87%|████████▋ | 13110531/15000000 [1:28:17<58:18, 540.03it/s]  "
          ]
        },
        {
          "output_type": "stream",
          "name": "stdout",
          "text": [
            "avg 6.960150229357798 1.0806700237025137\n"
          ]
        },
        {
          "output_type": "stream",
          "name": "stderr",
          "text": [
            " 88%|████████▊ | 13140546/15000000 [1:28:29<54:52, 564.77it/s]  "
          ]
        },
        {
          "output_type": "stream",
          "name": "stdout",
          "text": [
            "avg 6.961907551487414 1.0798800905186228\n"
          ]
        },
        {
          "output_type": "stream",
          "name": "stderr",
          "text": [
            " 88%|████████▊ | 13170520/15000000 [1:28:41<57:07, 533.83it/s]  "
          ]
        },
        {
          "output_type": "stream",
          "name": "stdout",
          "text": [
            "avg 6.963649315068493 1.0790966631583592\n"
          ]
        },
        {
          "output_type": "stream",
          "name": "stderr",
          "text": [
            " 88%|████████▊ | 13199762/15000000 [1:28:50<09:33, 3138.80it/s]"
          ]
        },
        {
          "output_type": "stream",
          "name": "stdout",
          "text": [
            "avg 6.965384434320425 1.0783275586205767\n"
          ]
        },
        {
          "output_type": "stream",
          "name": "stderr",
          "text": [
            " 88%|████████▊ | 13230353/15000000 [1:29:09<55:20, 532.98it/s]  "
          ]
        },
        {
          "output_type": "stream",
          "name": "stdout",
          "text": [
            "avg 6.967107121212122 1.077557039091416\n"
          ]
        },
        {
          "output_type": "stream",
          "name": "stderr",
          "text": [
            " 88%|████████▊ | 13260508/15000000 [1:29:21<56:40, 511.54it/s]  "
          ]
        },
        {
          "output_type": "stream",
          "name": "stdout",
          "text": [
            "avg 6.968836734693878 1.0767744052416344\n"
          ]
        },
        {
          "output_type": "stream",
          "name": "stderr",
          "text": [
            " 89%|████████▊ | 13290605/15000000 [1:29:33<53:31, 532.33it/s]  "
          ]
        },
        {
          "output_type": "stream",
          "name": "stdout",
          "text": [
            "avg 6.970568476621418 1.0759947079321452\n"
          ]
        },
        {
          "output_type": "stream",
          "name": "stderr",
          "text": [
            " 89%|████████▉ | 13320522/15000000 [1:29:49<53:23, 524.26it/s]  "
          ]
        },
        {
          "output_type": "stream",
          "name": "stdout",
          "text": [
            "avg 6.972273965387509 1.0752253351063592\n"
          ]
        },
        {
          "output_type": "stream",
          "name": "stderr",
          "text": [
            " 89%|████████▉ | 13350602/15000000 [1:30:01<51:31, 533.55it/s]  "
          ]
        },
        {
          "output_type": "stream",
          "name": "stdout",
          "text": [
            "avg 6.973969744744744 1.0744597262684354\n"
          ]
        },
        {
          "output_type": "stream",
          "name": "stderr",
          "text": [
            " 89%|████████▉ | 13380392/15000000 [1:30:13<52:44, 511.88it/s]  "
          ]
        },
        {
          "output_type": "stream",
          "name": "stdout",
          "text": [
            "avg 6.97565468164794 1.0737150671817248\n"
          ]
        },
        {
          "output_type": "stream",
          "name": "stderr",
          "text": [
            " 89%|████████▉ | 13410663/15000000 [1:30:30<48:29, 546.25it/s]  "
          ]
        },
        {
          "output_type": "stream",
          "name": "stdout",
          "text": [
            "avg 6.977330568011958 1.0729754442410468\n"
          ]
        },
        {
          "output_type": "stream",
          "name": "stderr",
          "text": [
            " 90%|████████▉ | 13440340/15000000 [1:30:41<49:25, 525.92it/s]  "
          ]
        },
        {
          "output_type": "stream",
          "name": "stdout",
          "text": [
            "avg 6.979007531692766 1.07223338854233\n"
          ]
        },
        {
          "output_type": "stream",
          "name": "stderr",
          "text": [
            " 90%|████████▉ | 13470515/15000000 [1:30:53<46:10, 552.15it/s]  "
          ]
        },
        {
          "output_type": "stream",
          "name": "stdout",
          "text": [
            "avg 6.980679092261905 1.0714858559435894\n"
          ]
        },
        {
          "output_type": "stream",
          "name": "stderr",
          "text": [
            " 90%|████████▉ | 13499922/15000000 [1:31:02<07:35, 3292.46it/s]"
          ]
        },
        {
          "output_type": "stream",
          "name": "stdout",
          "text": [
            "avg 6.98233994060876 1.0707520370235235\n"
          ]
        },
        {
          "output_type": "stream",
          "name": "stderr",
          "text": [
            " 90%|█████████ | 13530581/15000000 [1:31:21<46:26, 527.39it/s]  "
          ]
        },
        {
          "output_type": "stream",
          "name": "stdout",
          "text": [
            "avg 6.984000074074074 1.0700116040589003\n"
          ]
        },
        {
          "output_type": "stream",
          "name": "stderr",
          "text": [
            " 90%|█████████ | 13560365/15000000 [1:31:33<44:55, 534.04it/s]  "
          ]
        },
        {
          "output_type": "stream",
          "name": "stdout",
          "text": [
            "avg 6.985657354028086 1.0692501537176133\n"
          ]
        },
        {
          "output_type": "stream",
          "name": "stderr",
          "text": [
            " 91%|█████████ | 13590450/15000000 [1:31:45<43:51, 535.74it/s]  "
          ]
        },
        {
          "output_type": "stream",
          "name": "stdout",
          "text": [
            "avg 6.987291002949853 1.0685296720675592\n"
          ]
        },
        {
          "output_type": "stream",
          "name": "stderr",
          "text": [
            " 91%|█████████ | 13620556/15000000 [1:32:01<42:53, 535.99it/s]"
          ]
        },
        {
          "output_type": "stream",
          "name": "stdout",
          "text": [
            "avg 6.9889250183958795 1.0677858915912903\n"
          ]
        },
        {
          "output_type": "stream",
          "name": "stderr",
          "text": [
            " 91%|█████████ | 13650315/15000000 [1:32:13<43:45, 514.04it/s]"
          ]
        },
        {
          "output_type": "stream",
          "name": "stdout",
          "text": [
            "avg 6.990557929515418 1.067042270379648\n"
          ]
        },
        {
          "output_type": "stream",
          "name": "stderr",
          "text": [
            " 91%|█████████ | 13680587/15000000 [1:32:25<42:53, 512.71it/s]"
          ]
        },
        {
          "output_type": "stream",
          "name": "stdout",
          "text": [
            "avg 6.9921775824175825 1.06630627162861\n"
          ]
        },
        {
          "output_type": "stream",
          "name": "stderr",
          "text": [
            " 91%|█████████▏| 13710522/15000000 [1:32:41<45:43, 470.09it/s]"
          ]
        },
        {
          "output_type": "stream",
          "name": "stdout",
          "text": [
            "avg 6.993798976608187 1.0655596701342007\n"
          ]
        },
        {
          "output_type": "stream",
          "name": "stderr",
          "text": [
            " 92%|█████████▏| 13740523/15000000 [1:32:53<44:20, 473.32it/s]"
          ]
        },
        {
          "output_type": "stream",
          "name": "stdout",
          "text": [
            "avg 6.995393508388038 1.064850498213633\n"
          ]
        },
        {
          "output_type": "stream",
          "name": "stderr",
          "text": [
            " 92%|█████████▏| 13770626/15000000 [1:33:05<40:07, 510.63it/s]"
          ]
        },
        {
          "output_type": "stream",
          "name": "stdout",
          "text": [
            "avg 6.996997161572052 1.064110117974925\n"
          ]
        },
        {
          "output_type": "stream",
          "name": "stderr",
          "text": [
            " 92%|█████████▏| 13799732/15000000 [1:33:14<06:08, 3253.47it/s]"
          ]
        },
        {
          "output_type": "stream",
          "name": "stdout",
          "text": [
            "avg 6.998571096586783 1.0634160786195246\n"
          ]
        },
        {
          "output_type": "stream",
          "name": "stderr",
          "text": [
            " 92%|█████████▏| 13830398/15000000 [1:33:34<38:17, 509.04it/s]"
          ]
        },
        {
          "output_type": "stream",
          "name": "stdout",
          "text": [
            "avg 7.000158695652174 1.062693832767887\n"
          ]
        },
        {
          "output_type": "stream",
          "name": "stderr",
          "text": [
            " 92%|█████████▏| 13860561/15000000 [1:33:46<36:09, 525.19it/s]"
          ]
        },
        {
          "output_type": "stream",
          "name": "stdout",
          "text": [
            "avg 7.001737237888648 1.0619773406799715\n"
          ]
        },
        {
          "output_type": "stream",
          "name": "stderr",
          "text": [
            " 93%|█████████▎| 13890334/15000000 [1:33:57<35:50, 515.95it/s]"
          ]
        },
        {
          "output_type": "stream",
          "name": "stdout",
          "text": [
            "avg 7.0033087301587305 1.0612783429288972\n"
          ]
        },
        {
          "output_type": "stream",
          "name": "stderr",
          "text": [
            " 93%|█████████▎| 13920614/15000000 [1:34:14<35:39, 504.44it/s]"
          ]
        },
        {
          "output_type": "stream",
          "name": "stdout",
          "text": [
            "avg 7.004863210943125 1.0605943248656098\n"
          ]
        },
        {
          "output_type": "stream",
          "name": "stderr",
          "text": [
            " 93%|█████████▎| 13950634/15000000 [1:34:26<33:20, 524.58it/s]"
          ]
        },
        {
          "output_type": "stream",
          "name": "stdout",
          "text": [
            "avg 7.006416882183908 1.0598939009521149\n"
          ]
        },
        {
          "output_type": "stream",
          "name": "stderr",
          "text": [
            " 93%|█████████▎| 13980361/15000000 [1:34:38<33:25, 508.48it/s]"
          ]
        },
        {
          "output_type": "stream",
          "name": "stdout",
          "text": [
            "avg 7.007977562724014 1.0591864229651167\n"
          ]
        },
        {
          "output_type": "stream",
          "name": "stderr",
          "text": [
            " 93%|█████████▎| 14010394/15000000 [1:34:54<33:55, 486.16it/s]"
          ]
        },
        {
          "output_type": "stream",
          "name": "stdout",
          "text": [
            "avg 7.009514306151646 1.0585132008089753\n"
          ]
        },
        {
          "output_type": "stream",
          "name": "stderr",
          "text": [
            " 94%|█████████▎| 14040318/15000000 [1:35:06<31:07, 513.81it/s]"
          ]
        },
        {
          "output_type": "stream",
          "name": "stdout",
          "text": [
            "avg 7.011051391862955 1.0578222452511823\n"
          ]
        },
        {
          "output_type": "stream",
          "name": "stderr",
          "text": [
            " 94%|█████████▍| 14070644/15000000 [1:35:18<29:41, 521.81it/s]"
          ]
        },
        {
          "output_type": "stream",
          "name": "stdout",
          "text": [
            "avg 7.0125853988603986 1.057122770989449\n"
          ]
        },
        {
          "output_type": "stream",
          "name": "stderr",
          "text": [
            " 94%|█████████▍| 14099940/15000000 [1:35:27<04:36, 3251.60it/s]"
          ]
        },
        {
          "output_type": "stream",
          "name": "stdout",
          "text": [
            "avg 7.0141 1.0564529887751393\n"
          ]
        },
        {
          "output_type": "stream",
          "name": "stderr",
          "text": [
            " 94%|█████████▍| 14130624/15000000 [1:35:47<29:16, 494.99it/s]"
          ]
        },
        {
          "output_type": "stream",
          "name": "stdout",
          "text": [
            "avg 7.015624397163121 1.0557540339775993\n"
          ]
        },
        {
          "output_type": "stream",
          "name": "stderr",
          "text": [
            " 94%|█████████▍| 14160413/15000000 [1:35:58<27:02, 517.41it/s]"
          ]
        },
        {
          "output_type": "stream",
          "name": "stdout",
          "text": [
            "avg 7.0171458598726115 1.0550523092052546\n"
          ]
        },
        {
          "output_type": "stream",
          "name": "stderr",
          "text": [
            " 95%|█████████▍| 14190549/15000000 [1:36:10<26:39, 505.95it/s]"
          ]
        },
        {
          "output_type": "stream",
          "name": "stdout",
          "text": [
            "avg 7.018646680790961 1.0543739658614197\n"
          ]
        },
        {
          "output_type": "stream",
          "name": "stderr",
          "text": [
            " 95%|█████████▍| 14220615/15000000 [1:36:27<24:50, 522.83it/s]"
          ]
        },
        {
          "output_type": "stream",
          "name": "stdout",
          "text": [
            "avg 7.020132769556025 1.053702689568713\n"
          ]
        },
        {
          "output_type": "stream",
          "name": "stderr",
          "text": [
            " 95%|█████████▌| 14250619/15000000 [1:36:39<24:56, 500.60it/s]"
          ]
        },
        {
          "output_type": "stream",
          "name": "stdout",
          "text": [
            "avg 7.021638959212377 1.0530180922575083\n"
          ]
        },
        {
          "output_type": "stream",
          "name": "stderr",
          "text": [
            " 95%|█████████▌| 14280559/15000000 [1:36:51<23:19, 514.09it/s]"
          ]
        },
        {
          "output_type": "stream",
          "name": "stdout",
          "text": [
            "avg 7.023125543859649 1.052347140311236\n"
          ]
        },
        {
          "output_type": "stream",
          "name": "stderr",
          "text": [
            " 95%|█████████▌| 14310550/15000000 [1:37:07<22:24, 512.88it/s]"
          ]
        },
        {
          "output_type": "stream",
          "name": "stdout",
          "text": [
            "avg 7.0245203081232495 1.0517307765644128\n"
          ]
        },
        {
          "output_type": "stream",
          "name": "stderr",
          "text": [
            " 96%|█████████▌| 14340443/15000000 [1:37:19<21:23, 513.79it/s]"
          ]
        },
        {
          "output_type": "stream",
          "name": "stdout",
          "text": [
            "avg 7.025970510132774 1.0510881768895728\n"
          ]
        },
        {
          "output_type": "stream",
          "name": "stderr",
          "text": [
            " 96%|█████████▌| 14370366/15000000 [1:37:31<20:42, 506.67it/s]"
          ]
        },
        {
          "output_type": "stream",
          "name": "stdout",
          "text": [
            "avg 7.0274373082287305 1.050416562964601\n"
          ]
        },
        {
          "output_type": "stream",
          "name": "stderr",
          "text": [
            " 96%|█████████▌| 14399993/15000000 [1:37:40<03:07, 3208.52it/s]"
          ]
        },
        {
          "output_type": "stream",
          "name": "stdout",
          "text": [
            "avg 7.028891649269311 1.0497775867349945\n"
          ]
        },
        {
          "output_type": "stream",
          "name": "stderr",
          "text": [
            " 96%|█████████▌| 14430401/15000000 [1:38:00<18:49, 504.27it/s]"
          ]
        },
        {
          "output_type": "stream",
          "name": "stdout",
          "text": [
            "avg 7.030343680555555 1.0491372407527457\n"
          ]
        },
        {
          "output_type": "stream",
          "name": "stderr",
          "text": [
            " 96%|█████████▋| 14460637/15000000 [1:38:12<17:55, 501.58it/s]"
          ]
        },
        {
          "output_type": "stream",
          "name": "stdout",
          "text": [
            "avg 7.031789258489258 1.0484851122220427\n"
          ]
        },
        {
          "output_type": "stream",
          "name": "stderr",
          "text": [
            " 97%|█████████▋| 14490579/15000000 [1:38:24<17:08, 495.17it/s]"
          ]
        },
        {
          "output_type": "stream",
          "name": "stdout",
          "text": [
            "avg 7.033215975103735 1.0478553461461428\n"
          ]
        },
        {
          "output_type": "stream",
          "name": "stderr",
          "text": [
            " 97%|█████████▋| 14520315/15000000 [1:38:40<16:56, 471.84it/s]"
          ]
        },
        {
          "output_type": "stream",
          "name": "stdout",
          "text": [
            "avg 7.034649896480332 1.0472298950347074\n"
          ]
        },
        {
          "output_type": "stream",
          "name": "stderr",
          "text": [
            " 97%|█████████▋| 14550585/15000000 [1:38:52<15:03, 497.48it/s]"
          ]
        },
        {
          "output_type": "stream",
          "name": "stdout",
          "text": [
            "avg 7.03608608815427 1.0465665697518038\n"
          ]
        },
        {
          "output_type": "stream",
          "name": "stderr",
          "text": [
            " 97%|█████████▋| 14580466/15000000 [1:39:04<14:11, 492.60it/s]"
          ]
        },
        {
          "output_type": "stream",
          "name": "stdout",
          "text": [
            "avg 7.037516151202749 1.0459005783012612\n"
          ]
        },
        {
          "output_type": "stream",
          "name": "stderr",
          "text": [
            " 97%|█████████▋| 14610339/15000000 [1:39:21<12:45, 508.82it/s]"
          ]
        },
        {
          "output_type": "stream",
          "name": "stdout",
          "text": [
            "avg 7.038936899862826 1.0452599685823571\n"
          ]
        },
        {
          "output_type": "stream",
          "name": "stderr",
          "text": [
            " 98%|█████████▊| 14640521/15000000 [1:39:33<12:15, 488.74it/s]"
          ]
        },
        {
          "output_type": "stream",
          "name": "stdout",
          "text": [
            "avg 7.040341341546886 1.0446388698245104\n"
          ]
        },
        {
          "output_type": "stream",
          "name": "stderr",
          "text": [
            " 98%|█████████▊| 14670442/15000000 [1:39:45<11:06, 494.82it/s]"
          ]
        },
        {
          "output_type": "stream",
          "name": "stdout",
          "text": [
            "avg 7.041749385245901 1.0440093426773558\n"
          ]
        },
        {
          "output_type": "stream",
          "name": "stderr",
          "text": [
            " 98%|█████████▊| 14699722/15000000 [1:39:54<01:35, 3139.73it/s]"
          ]
        },
        {
          "output_type": "stream",
          "name": "stdout",
          "text": [
            "avg 7.043157259713701 1.043377882794498\n"
          ]
        },
        {
          "output_type": "stream",
          "name": "stderr",
          "text": [
            " 98%|█████████▊| 14730453/15000000 [1:40:13<09:12, 487.66it/s]"
          ]
        },
        {
          "output_type": "stream",
          "name": "stdout",
          "text": [
            "avg 7.044555850340136 1.0427450997454764\n"
          ]
        },
        {
          "output_type": "stream",
          "name": "stderr",
          "text": [
            " 98%|█████████▊| 14760458/15000000 [1:40:25<08:03, 495.10it/s]"
          ]
        },
        {
          "output_type": "stream",
          "name": "stdout",
          "text": [
            "avg 7.045955125594026 1.0420968184477482\n"
          ]
        },
        {
          "output_type": "stream",
          "name": "stderr",
          "text": [
            " 99%|█████████▊| 14790353/15000000 [1:40:38<07:20, 475.67it/s]"
          ]
        },
        {
          "output_type": "stream",
          "name": "stdout",
          "text": [
            "avg 7.0473482384823845 1.0414565836738086\n"
          ]
        },
        {
          "output_type": "stream",
          "name": "stderr",
          "text": [
            " 99%|█████████▉| 14820510/15000000 [1:40:54<06:09, 485.14it/s]"
          ]
        },
        {
          "output_type": "stream",
          "name": "stdout",
          "text": [
            "avg 7.0487352265043945 1.0408195933904911\n"
          ]
        },
        {
          "output_type": "stream",
          "name": "stderr",
          "text": [
            " 99%|█████████▉| 14850559/15000000 [1:41:07<05:18, 469.34it/s]"
          ]
        },
        {
          "output_type": "stream",
          "name": "stdout",
          "text": [
            "avg 7.050103913630229 1.040205474164254\n"
          ]
        },
        {
          "output_type": "stream",
          "name": "stderr",
          "text": [
            " 99%|█████████▉| 14880622/15000000 [1:41:19<04:07, 482.14it/s]"
          ]
        },
        {
          "output_type": "stream",
          "name": "stdout",
          "text": [
            "avg 7.051472390572391 1.039591734910848\n"
          ]
        },
        {
          "output_type": "stream",
          "name": "stderr",
          "text": [
            " 99%|█████████▉| 14910655/15000000 [1:41:35<03:02, 489.87it/s]"
          ]
        },
        {
          "output_type": "stream",
          "name": "stdout",
          "text": [
            "avg 7.052838373655914 1.0389671585582303\n"
          ]
        },
        {
          "output_type": "stream",
          "name": "stderr",
          "text": [
            "100%|█████████▉| 14940488/15000000 [1:41:47<02:02, 486.42it/s]"
          ]
        },
        {
          "output_type": "stream",
          "name": "stdout",
          "text": [
            "avg 7.054199061032864 1.038349833015598\n"
          ]
        },
        {
          "output_type": "stream",
          "name": "stderr",
          "text": [
            "100%|█████████▉| 14970527/15000000 [1:41:59<01:00, 486.00it/s]"
          ]
        },
        {
          "output_type": "stream",
          "name": "stdout",
          "text": [
            "avg 7.055554350736278 1.03773153895012\n"
          ]
        },
        {
          "output_type": "stream",
          "name": "stderr",
          "text": [
            "100%|█████████▉| 14999856/15000000 [1:42:09<00:00, 3130.99it/s]"
          ]
        },
        {
          "output_type": "stream",
          "name": "stdout",
          "text": [
            "avg 7.056898196392786 1.0371283374519251\n"
          ]
        },
        {
          "output_type": "stream",
          "name": "stderr",
          "text": [
            "\r100%|██████████| 15000000/15000000 [1:42:16<00:00, 2444.28it/s]\n"
          ]
        }
      ]
    },
    {
      "cell_type": "markdown",
      "metadata": {
        "id": "vwQ8N4zybsmY"
      },
      "source": [
        "**The avg rewards per episode seems to be limiting at threshold of just above 7, which means the agent is able to win with just less than 3 moves (10+3*(-1)), the same is visible in the plots below**"
      ]
    },
    {
      "cell_type": "code",
      "metadata": {
        "colab": {
          "base_uri": "https://localhost:8080/"
        },
        "id": "hhdWewc4Gggo",
        "outputId": "2b8f0e66-1f17-49c8-b4c9-48f38b31bf60"
      },
      "source": [
        "!ls -ltrh"
      ],
      "execution_count": null,
      "outputs": [
        {
          "output_type": "stream",
          "name": "stdout",
          "text": [
            "total 509M\n",
            "drwxr-xr-x 1 root root 4.0K Sep 16 13:40 sample_data\n",
            "-rw-r--r-- 1 root root 5.1K Sep 28 23:22 TC_Env.py\n",
            "drwxr-xr-x 2 root root 4.0K Sep 28 23:23 __pycache__\n",
            "-rw-r--r-- 1 root root 2.4K Sep 29 01:06 States_tracking.pkl\n",
            "-rw-r--r-- 1 root root 104M Sep 29 01:06 Policy_Q_dict.pkl\n",
            "-rw-r--r-- 1 root root 2.4K Sep 29 01:06 States_tracked.pkl\n",
            "-rw-r--r-- 1 root root 104M Sep 29 01:06 Policy.pkl\n",
            "-rw-r--r-- 1 root root  31M Sep 29 01:06 Rewards.pkl\n",
            "-rw-r--r-- 1 root root 272M Sep 29 01:07 Deltas.pkl\n"
          ]
        }
      ]
    },
    {
      "cell_type": "code",
      "metadata": {
        "colab": {
          "base_uri": "https://localhost:8080/"
        },
        "id": "qVC7EDm1CjfO",
        "outputId": "0abbea0e-56db-4805-f8ee-88b8b40db932"
      },
      "source": [
        "print(len(Q_dict))"
      ],
      "execution_count": null,
      "outputs": [
        {
          "output_type": "stream",
          "name": "stdout",
          "text": [
            "1418218\n"
          ]
        }
      ]
    },
    {
      "cell_type": "markdown",
      "metadata": {
        "id": "ich6tAiels8r"
      },
      "source": [
        "###Convergence plots"
      ]
    },
    {
      "cell_type": "code",
      "metadata": {
        "id": "8LfSgVuHGggu"
      },
      "source": [
        "print(deltas[0:100],deltas[-100:])\n",
        "plt.plot(deltas[0::100], label=\"deltas\") ## sampling 1%, every 100th\n",
        "plt.legend()\n",
        "plt.title(\"Convergence Plot - Q-Learning\")\n",
        "plt.tight_layout()\n",
        "plt.show()\n"
      ],
      "execution_count": null,
      "outputs": []
    },
    {
      "cell_type": "markdown",
      "metadata": {
        "id": "tH34F0XEdbkV"
      },
      "source": [
        "![deltas.png](data:image/png;base64,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)"
      ]
    },
    {
      "cell_type": "code",
      "metadata": {
        "id": "Fb4v5vghCcbG"
      },
      "source": [
        "print(total_reward_convergence[0:100],total_reward_convergence[-100:])\n",
        "plt.plot( total_reward_convergence[0::100], label=\"rewards\")\n",
        "plt.legend()\n",
        "plt.title(\"Convergence Plot - Q-Learning\")\n",
        "plt.tight_layout()\n",
        "plt.show()"
      ],
      "execution_count": null,
      "outputs": []
    },
    {
      "cell_type": "markdown",
      "metadata": {
        "id": "wZ51VKHeeRKi"
      },
      "source": [
        "![rewards.png](data:image/png;base64,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)"
      ]
    },
    {
      "cell_type": "markdown",
      "metadata": {
        "id": "t6eMFbb8Ggg2"
      },
      "source": [
        "#### Check the Q-dictionary"
      ]
    },
    {
      "cell_type": "code",
      "metadata": {
        "id": "fr9d2fcVGgg4"
      },
      "source": [
        "# Q_dict"
      ],
      "execution_count": null,
      "outputs": []
    },
    {
      "cell_type": "code",
      "metadata": {
        "colab": {
          "base_uri": "https://localhost:8080/"
        },
        "id": "F1tnDJWkGgg9",
        "outputId": "5ff716ab-9806-4acf-ef8a-92a20f7fc998"
      },
      "source": [
        "len(Q_dict)"
      ],
      "execution_count": null,
      "outputs": [
        {
          "output_type": "execute_result",
          "data": {
            "text/plain": [
              "1418218"
            ]
          },
          "metadata": {},
          "execution_count": 24
        }
      ]
    },
    {
      "cell_type": "code",
      "metadata": {
        "colab": {
          "base_uri": "https://localhost:8080/"
        },
        "id": "cFgUqfcQGghB",
        "outputId": "560f2f08-7377-43b9-8e18-9f9331b12089"
      },
      "source": [
        "# try checking for one of the states - that which action the agent thinks is the best  \n",
        "# States_track['x-x-x-x-x-x-x-x-x']\n",
        "States_track['8-x-x-x-9-x-5-x-4']"
      ],
      "execution_count": null,
      "outputs": [
        {
          "output_type": "execute_result",
          "data": {
            "text/plain": [
              "{(2, 1): [0,\n",
              "  0,\n",
              "  0,\n",
              "  0,\n",
              "  0,\n",
              "  0,\n",
              "  0,\n",
              "  0,\n",
              "  0,\n",
              "  0,\n",
              "  0,\n",
              "  0,\n",
              "  0,\n",
              "  0,\n",
              "  0,\n",
              "  0,\n",
              "  0,\n",
              "  0,\n",
              "  0,\n",
              "  0,\n",
              "  0,\n",
              "  0,\n",
              "  0,\n",
              "  0,\n",
              "  0,\n",
              "  0,\n",
              "  0,\n",
              "  0,\n",
              "  0,\n",
              "  0,\n",
              "  0,\n",
              "  0,\n",
              "  0,\n",
              "  0,\n",
              "  0,\n",
              "  0,\n",
              "  0,\n",
              "  0,\n",
              "  0,\n",
              "  0,\n",
              "  0,\n",
              "  0,\n",
              "  0,\n",
              "  0,\n",
              "  0,\n",
              "  0,\n",
              "  0,\n",
              "  0,\n",
              "  0,\n",
              "  0,\n",
              "  0,\n",
              "  0,\n",
              "  0,\n",
              "  0,\n",
              "  0,\n",
              "  0,\n",
              "  0,\n",
              "  0,\n",
              "  0,\n",
              "  0,\n",
              "  0,\n",
              "  0,\n",
              "  0,\n",
              "  0,\n",
              "  0,\n",
              "  0,\n",
              "  0,\n",
              "  0,\n",
              "  0,\n",
              "  0,\n",
              "  0,\n",
              "  0,\n",
              "  0,\n",
              "  0,\n",
              "  0,\n",
              "  0,\n",
              "  0,\n",
              "  0,\n",
              "  0,\n",
              "  0,\n",
              "  0,\n",
              "  0,\n",
              "  0,\n",
              "  0,\n",
              "  0,\n",
              "  0,\n",
              "  0,\n",
              "  0,\n",
              "  0,\n",
              "  0,\n",
              "  0,\n",
              "  0,\n",
              "  0,\n",
              "  0,\n",
              "  0,\n",
              "  0,\n",
              "  0,\n",
              "  0,\n",
              "  0,\n",
              "  0,\n",
              "  0,\n",
              "  0,\n",
              "  0,\n",
              "  0,\n",
              "  0,\n",
              "  0,\n",
              "  0,\n",
              "  0,\n",
              "  0,\n",
              "  0,\n",
              "  0,\n",
              "  0,\n",
              "  0,\n",
              "  0,\n",
              "  0,\n",
              "  0,\n",
              "  0,\n",
              "  0,\n",
              "  0,\n",
              "  0,\n",
              "  0,\n",
              "  0,\n",
              "  0,\n",
              "  0,\n",
              "  0,\n",
              "  0,\n",
              "  0,\n",
              "  0,\n",
              "  0,\n",
              "  0,\n",
              "  0,\n",
              "  0,\n",
              "  0,\n",
              "  0,\n",
              "  0,\n",
              "  0,\n",
              "  0,\n",
              "  0,\n",
              "  0,\n",
              "  0,\n",
              "  0,\n",
              "  0,\n",
              "  0,\n",
              "  0,\n",
              "  0,\n",
              "  0,\n",
              "  0,\n",
              "  0,\n",
              "  0,\n",
              "  0]}"
            ]
          },
          "metadata": {},
          "execution_count": 25
        }
      ]
    },
    {
      "cell_type": "markdown",
      "metadata": {
        "id": "KGPZEQDFGghG"
      },
      "source": [
        "#### Check the states tracked for Q-values convergence\n"
      ]
    },
    {
      "cell_type": "code",
      "metadata": {
        "colab": {
          "base_uri": "https://localhost:8080/",
          "height": 445
        },
        "id": "pVQInsg7GghL",
        "outputId": "af996c15-181e-4c2c-d401-d490f0644af1"
      },
      "source": [
        "\n",
        "\n",
        "plt.figure(0, figsize=(16,7))\n",
        "\n",
        "x_axis = np.asarray(range(0, len(States_track['x-x-x-x-x-x-x-x-x'][(4,9)])))\n",
        "plt.subplot(221)\n",
        "plt.plot(x_axis,np.asarray(States_track['x-x-x-x-x-x-x-x-x'][(4,9)]))\n",
        "plt.show\n",
        "\n",
        "x_axis = np.asarray(range(0, len(States_track['8-x-x-x-9-x-5-x-4'][(2,1)])))\n",
        "plt.subplot(222)\n",
        "plt.plot(x_axis,np.asarray(States_track['8-x-x-x-9-x-5-x-4'][(2,1)]))\n",
        "plt.show\n",
        "\n",
        "x_axis = np.asarray(range(0, len(States_track['x-3-x-x-5-x-4-x-8'][(7,7)])))\n",
        "plt.subplot(223)\n",
        "plt.plot(x_axis,np.asarray(States_track['x-3-x-x-5-x-4-x-8'][(7,7)]))\n",
        "plt.show\n",
        "\n",
        "x_axis = np.asarray(range(0, len(States_track['3-x-x-x-6-x-7-x-8'][(3,5)])))\n",
        "plt.subplot(224)\n",
        "plt.plot(x_axis,np.asarray(States_track['3-x-x-x-6-x-7-x-8'][(3,5)]))\n",
        "plt.show\n",
        "\n"
      ],
      "execution_count": null,
      "outputs": [
        {
          "output_type": "execute_result",
          "data": {
            "text/plain": [
              "<function matplotlib.pyplot.show>"
            ]
          },
          "metadata": {},
          "execution_count": 27
        },
        {
          "output_type": "display_data",
          "data": {
            "image/png": "[encoded data removed]",
            "text/plain": [
              "<Figure size 1152x504 with 4 Axes>"
            ]
          },
          "metadata": {
            "needs_background": "light"
          }
        }
      ]
    },
    {
      "cell_type": "markdown",
      "metadata": {
        "id": "DzKC1SVlfH0o"
      },
      "source": [
        "On playing the game against the agent (script play_against_tictactoe_agent.py), it was found that the **agent being first to play the move, always starts with 1 at 2nd position**, this automaically reduces a lot of states to be optimised/learnt at the cost of generalization. Hence, the 4 cases above are almost never learnt on priority since they will never occur."
      ]
    },
    {
      "cell_type": "markdown",
      "metadata": {
        "id": "0cPnYP2JfA_S"
      },
      "source": [
        "![image.png](data:image/png;base64,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)"
      ]
    },
    {
      "cell_type": "code",
      "metadata": {
        "id": "MilGotuD1BSP"
      },
      "source": [
        ""
      ],
      "execution_count": null,
      "outputs": []
    },
    {
      "cell_type": "markdown",
      "metadata": {
        "id": "b2Opp8_NITkC"
      },
      "source": [
        "### Epsilon - decay check"
      ]
    },
    {
      "cell_type": "code",
      "metadata": {
        "colab": {
          "base_uri": "https://localhost:8080/",
          "height": 265
        },
        "id": "gQ_D_JsuGghR",
        "outputId": "8b5c0ce0-03a8-40f9-e511-07b2e2c106c7"
      },
      "source": [
        "# max_epsilon = 1.0\n",
        "# min_epsilon = 0.001\n",
        "# decay_rate = 0.00001\n",
        "# EPISODES = 500000\n",
        "time_x = np.arange(0,EPISODES)\n",
        "epsilon = []\n",
        "for time_i in range(0,EPISODES):\n",
        "    epsilon.append(min_epsilon + (max_epsilon - min_epsilon) * np.exp(-decay_rate*time_i))\n",
        "\n",
        "plt.plot(time_x, epsilon)\n",
        "plt.show()"
      ],
      "execution_count": null,
      "outputs": [
        {
          "data": {
            "image/png": "[encoded data removed]",
            "text/plain": [
              "<Figure size 432x288 with 1 Axes>"
            ]
          },
          "metadata": {},
          "output_type": "display_data"
        }
      ]
    },
    {
      "cell_type": "code",
      "metadata": {
        "id": "59BRf43IJiQ1"
      },
      "source": [
        "# once the policy is learnt, we will test it on the actual environment\n",
        "###### TODO, avg reward should be 7+\n",
        "reward = 0\n",
        "for s in range(10000 - 1):\n",
        "    a = np.argmax(Q[s, :])\n",
        "    reward += env.values[s][a]\n",
        "print(reward)"
      ],
      "execution_count": null,
      "outputs": []
    },
    {
      "cell_type": "code",
      "metadata": {
        "id": "TiA64InCeIxu"
      },
      "source": [
        ""
      ],
      "execution_count": null,
      "outputs": []
    },
    {
      "cell_type": "code",
      "metadata": {
        "id": "dxKg1hP2eSnP"
      },
      "source": [
        ""
      ],
      "execution_count": null,
      "outputs": []
    }
  ]
}