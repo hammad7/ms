{
  "nbformat": 4,
  "nbformat_minor": 0,
  "metadata": {
    "kernelspec": {
      "display_name": "Python 3",
      "language": "python",
      "name": "python3"
    },
    "language_info": {
      "codemirror_mode": {
        "name": "ipython",
        "version": 3
      },
      "file_extension": ".py",
      "mimetype": "text/x-python",
      "name": "python",
      "nbconvert_exporter": "python",
      "pygments_lexer": "ipython3",
      "version": "3.6.9"
    },
    "colab": {
      "name": "CNN_RNN_CONV3d_Gesture_Recognition.ipynb",
      "provenance": []
    }
  },
  "cells": [
    {
      "cell_type": "markdown",
      "metadata": {
        "id": "7VpRiJPLlAfI"
      },
      "source": [
        "# Gesture Recognition\n",
        "In this group project, you are going to build a 3D Conv model that will be able to predict the 5 gestures correctly. Please import the following libraries to get started. Once you have completed the code you can download the notebook for making a submission."
      ]
    },
    {
      "cell_type": "code",
      "metadata": {
        "id": "uVzU1JO7lAfO"
      },
      "source": [
        "import numpy as np\n",
        "import os\n",
        "from imageio import imread\n",
        "from skimage.transform import resize\n",
        "import datetime\n",
        "import os\n",
        "import matplotlib.pyplot as plt"
      ],
      "execution_count": 1,
      "outputs": []
    },
    {
      "cell_type": "markdown",
      "metadata": {
        "id": "HTHAhJZ0lAfO"
      },
      "source": [
        "We set the random seed so that the results don't vary drastically."
      ]
    },
    {
      "cell_type": "code",
      "metadata": {
        "id": "c6yKRkJylAfP"
      },
      "source": [
        "np.random.seed(30)\n",
        "import random as rn\n",
        "rn.seed(30)\n",
        "from tensorflow import keras\n",
        "import tensorflow as tf\n",
        "tf.random.set_seed(30)"
      ],
      "execution_count": 2,
      "outputs": []
    },
    {
      "cell_type": "markdown",
      "metadata": {
        "id": "g7DMxULUlAfP"
      },
      "source": [
        "In this block, you read the folder names for training and validation. You also set the `batch_size` here. Note that you set the batch size in such a way that you are able to use the GPU in full capacity. You keep increasing the batch size until the machine throws an error."
      ]
    },
    {
      "cell_type": "markdown",
      "metadata": {
        "id": "giA4iW-xlAfQ"
      },
      "source": [
        "**data path: /home/datasets/Project_data**"
      ]
    },
    {
      "cell_type": "code",
      "metadata": {
        "id": "lPVBc3QolAfQ",
        "outputId": "e6488391-3467-4a45-e3fa-16f26e6cc15d"
      },
      "source": [
        "train_doc = np.random.permutation(open('/home/datasets/Project_data/train.csv').readlines())\n",
        "val_doc = np.random.permutation(open('/home/datasets/Project_data/val.csv').readlines())\n",
        "batch_size = 64 #experiment with the batch size\n",
        "### 256, 128 giving unable to allocate memory while adding layers\n",
        "print(len(train_doc),len(val_doc))"
      ],
      "execution_count": null,
      "outputs": [
        {
          "output_type": "stream",
          "text": [
            "663 100\n"
          ],
          "name": "stdout"
        }
      ]
    },
    {
      "cell_type": "markdown",
      "metadata": {
        "id": "lgW9xXxNlAfR"
      },
      "source": [
        "## Generator\n",
        "This is one of the most important part of the code. The overall structure of the generator has been given. In the generator, you are going to preprocess the images as you have images of 2 different dimensions as well as create a batch of video frames. You have to experiment with `img_idx`, `y`,`z` and normalization such that you get high accuracy."
      ]
    },
    {
      "cell_type": "code",
      "metadata": {
        "id": "K3GBXIs8lAfS"
      },
      "source": [
        "def generator(source_path, folder_list, batch_size):\n",
        "    print( 'Source path = ', source_path, '; batch size =', batch_size)\n",
        "    global frames,x,y,z\n",
        "    frames = 30\n",
        "    img_idx = [i for i in range(0,frames) if i%2==0]#create a list of image numbers you want to use for a particular video\n",
        "    while True:\n",
        "        t = np.random.permutation(folder_list)\n",
        "        num_batches = len(t)//batch_size# calculate the number of batches\n",
        "        x = len(img_idx)\n",
        "        y,z = 100, 100 ####\n",
        "        for batch in range(num_batches): # we iterate over the number of batches\n",
        "            batch_data = np.zeros((batch_size,x,y,z,3)) # x is the number of images you use for each video, (y,z) is the final size of the input images and 3 is the number of channels RGB\n",
        "            batch_labels = np.zeros((batch_size,5)) # batch_labels is the one hot representation of the output\n",
        "            for folder in range(batch_size): # iterate over the batch_size\n",
        "                imgs = os.listdir(source_path+'/'+ t[folder + (batch*batch_size)].split(';')[0]) # read all the images in the folder\n",
        "                for idx,item in enumerate(img_idx): #  Iterate iver the frames/images of a folder to read them in\n",
        "                    image = imread(source_path+'/'+ t[folder + (batch*batch_size)].strip().split(';')[0]+'/'+imgs[item]).astype(np.float32)\n",
        "#                     print(image.shape)\n",
        "#                     plt.imshow(image/256)\n",
        "#                     return\n",
        "\n",
        "                    if image.shape[0]!=y or image.shape[1]!=z:\n",
        "                        image = resize(image,[y,z], anti_aliasing=True)\n",
        "                    #crop the images and resize them. Note that the images are of 2 different shape \n",
        "                    #and the conv3D will throw error if the inputs in a batch have different shapes\n",
        "                    \n",
        "                    batch_data[folder,idx,:,:,0] = image[:,:,0]/255#normalise and feed in the image\n",
        "                    batch_data[folder,idx,:,:,1] = image[:,:,1]/255#normalise and feed in the image\n",
        "                    batch_data[folder,idx,:,:,2] = image[:,:,2]/255#normalise and feed in the image\n",
        "                    \n",
        "                batch_labels[folder, int(t[folder + (batch*batch_size)].strip().split(';')[2])] = 1\n",
        "            yield batch_data, batch_labels #you yield the batch_data and the batch_labels, remember what does yield do\n",
        "\n",
        "        \n",
        "        # write the code for the remaining data points which are left after full batches\n",
        "        remaining_folders = len(t)%batch_size\n",
        "        if remaining_folders>0:\n",
        "            batch_data = np.zeros((remaining_folders,x,y,z,3)) \n",
        "            batch_labels = np.zeros((remaining_folders,5)) \n",
        "            for folder in range(remaining_folders): \n",
        "                imgs = os.listdir(source_path+'/'+ t[folder + (num_batches*batch_size)].split(';')[0]) # read all the images in the folder\n",
        "                for idx,item in enumerate(img_idx): #  Iterate iver the frames/images of a folder to read them in\n",
        "                    image = imread(source_path+'/'+ t[folder + (num_batches*batch_size)].strip().split(';')[0]+'/'+imgs[item]).astype(np.float32)\n",
        "                    \n",
        "                    if image.shape[0]!=y or image.shape[1]!=z:\n",
        "                        image = resize(image,[y,z], anti_aliasing=True)\n",
        "                    #crop the images and resize them. Note that the images are of 2 different shape \n",
        "                    #and the conv3D will throw error if the inputs in a batch have different shapes\n",
        "                    \n",
        "                    batch_data[folder,idx,:,:,0] = image[:,:,0]/255#normalise and feed in the image\n",
        "                    batch_data[folder,idx,:,:,1] = image[:,:,1]/255#normalise and feed in the image\n",
        "                    batch_data[folder,idx,:,:,2] = image[:,:,2]/255#normalise and feed in the image\n",
        "                    \n",
        "                batch_labels[folder, int(t[folder + (num_batches*batch_size)].strip().split(';')[2])] = 1\n",
        "            yield batch_data, batch_labels \n"
      ],
      "execution_count": null,
      "outputs": []
    },
    {
      "cell_type": "code",
      "metadata": {
        "id": "squW_MkdlAfU"
      },
      "source": [
        "# from skimage import data\n",
        "\n",
        "\n",
        "# image = data.coins()\n",
        "# image2 = data.camera()\n",
        "# print(image2.shape)\n",
        "# # plt.imshow(image2)\n",
        "# plt.imshow(resize(image2,[1900,1900], anti_aliasing=True))\n",
        "# plt.show()"
      ],
      "execution_count": null,
      "outputs": []
    },
    {
      "cell_type": "markdown",
      "metadata": {
        "id": "QjmwncZ5lAfV"
      },
      "source": [
        "Note here that a video is represented above in the generator as (number of images, height, width, number of channels). Take this into consideration while creating the model architecture."
      ]
    },
    {
      "cell_type": "code",
      "metadata": {
        "id": "YirY9-NxlAfV",
        "outputId": "d9d7301e-1427-47ed-e0cf-6ebf4f7b50cd"
      },
      "source": [
        "curr_dt_time = datetime.datetime.now()\n",
        "train_path = '/home/datasets/Project_data/train'\n",
        "val_path = '/home/datasets/Project_data/val'\n",
        "num_train_sequences = len(train_doc)\n",
        "print('# training sequences =', num_train_sequences)\n",
        "num_val_sequences = len(val_doc)\n",
        "print('# validation sequences =', num_val_sequences)\n",
        "num_epochs = 50 # choose the number of epochs\n",
        "print ('# epochs =', num_epochs)"
      ],
      "execution_count": null,
      "outputs": [
        {
          "output_type": "stream",
          "text": [
            "# training sequences = 663\n",
            "# validation sequences = 100\n",
            "# epochs = 50\n"
          ],
          "name": "stdout"
        }
      ]
    },
    {
      "cell_type": "code",
      "metadata": {
        "id": "yMVbbG1wlAfW",
        "outputId": "ebfeb855-e86c-4037-f64e-2b12babea393"
      },
      "source": [
        "# checking images\n",
        "a = generator(train_path, train_doc, batch_size)\n",
        "item = next(a)\n",
        "print(type(item),item[0].shape)\n",
        "# item = next(a)\n",
        "# print(type(item),item[0].shape)\n",
        "# item = next(a)\n",
        "# print(type(item),item[0].shape)\n",
        "# item = next(a)\n",
        "# print(type(item),item[0].shape)"
      ],
      "execution_count": null,
      "outputs": [
        {
          "output_type": "stream",
          "text": [
            "Source path =  /home/datasets/Project_data/train ; batch size = 64\n",
            "<class 'tuple'> (64, 15, 100, 100, 3)\n"
          ],
          "name": "stdout"
        }
      ]
    },
    {
      "cell_type": "markdown",
      "metadata": {
        "id": "MXYoZqJ8lAfX"
      },
      "source": [
        "## Model\n",
        "Here you make the model using different functionalities that Keras provides. Remember to use `Conv3D` and `MaxPooling3D` and not `Conv2D` and `Maxpooling2D` for a 3D convolution model. You would want to use `TimeDistributed` while building a Conv2D + RNN model. Also remember that the last layer is the softmax. Design the network in such a way that the model is able to give good accuracy on the least number of parameters so that it can fit in the memory of the webcam."
      ]
    },
    {
      "cell_type": "code",
      "metadata": {
        "id": "9cVHp76Ml3qg"
      },
      "source": [
        "y,z = 100,100"
      ],
      "execution_count": 5,
      "outputs": []
    },
    {
      "cell_type": "code",
      "metadata": {
        "id": "4Ha72FmRlAfX"
      },
      "source": [
        "#######\n",
        "####   Conv3d Model: Accuracy 74/83 (val), batch_size=64\n",
        "#######\n",
        "\n",
        "from tensorflow.keras.models import Sequential\n",
        "from tensorflow.keras.layers import Dense, GRU, Dropout, Flatten, BatchNormalization, Activation, Conv3D, MaxPooling3D\n",
        "from tensorflow.keras.callbacks import ModelCheckpoint, ReduceLROnPlateau\n",
        "from tensorflow.keras.regularizers import L2 #vs l2\n",
        "from tensorflow.keras import optimizers\n",
        "\n",
        "#write your model here\n",
        "model = Sequential()\n",
        "\n",
        "model.add(Conv3D(64, (3, 3, 3) , padding = \"SAME\",\n",
        "                        input_shape=(x, y, z, 3))) #### Large batch_size might not fit params into memory\n",
        "model.add(Activation('relu'))\n",
        "model.add(Conv3D(32, (3, 3, 3), padding = \"SAME\"))\n",
        "model.add(Activation('relu'))\n",
        "model.add(MaxPooling3D(pool_size=(2, 2, 2)))\n",
        "model.add(Dropout(0.5))\n",
        "\n",
        "model.add(Conv3D(16, (3, 3, 3), padding = \"SAME\"))\n",
        "model.add(Activation('relu'))\n",
        "# model.add(Conv3D(16, (3, 3, 3), padding = \"SAME\"))\n",
        "# model.add(Activation('relu'))\n",
        "model.add(MaxPooling3D(pool_size=(2, 2, 2)))\n",
        "model.add(Dropout(0.5))\n",
        "\n",
        "# model.add(Conv3D(32, (3, 3, 3), padding = \"SAME\"))\n",
        "# model.add(Activation('relu'))\n",
        "# model.add(Conv3D(8, (3, 3, 3), padding = \"SAME\"))\n",
        "# model.add(Activation('relu'))\n",
        "# model.add(MaxPooling3D(pool_size=(1, 2, 2)))\n",
        "# model.add(Dropout(0.5))\n",
        "\n",
        "# model.add(Conv3D(32, (3, 3, 3), padding = \"SAME\"))\n",
        "# model.add(Activation('relu'))\n",
        "# model.add(Conv3D(8, (3, 3, 3), padding = \"SAME\"))\n",
        "# model.add(Activation('relu'))\n",
        "# model.add(MaxPooling3D(pool_size=(1, 2, 2)))\n",
        "# model.add(Dropout(0.5))\n",
        "\n",
        "model.add(Flatten())\n",
        "model.add(Dense(512, kernel_regularizer = L2(0.1)))\n",
        "model.add(Activation('relu'))\n",
        "model.add(Dropout(0.5))\n",
        "model.add(Dense(5, kernel_regularizer = L2(0.1)))  #use W_regularizer if .tf.keras.layers.core.Dense\n",
        "model.add(Activation('softmax'))\n"
      ],
      "execution_count": 6,
      "outputs": []
    },
    {
      "cell_type": "markdown",
      "metadata": {
        "id": "31kx8J7klAfY"
      },
      "source": [
        "Now that you have written the model, the next step is to `compile` the model. When you print the `summary` of the model, you'll see the total number of parameters you have to train."
      ]
    },
    {
      "cell_type": "code",
      "metadata": {
        "scrolled": true,
        "colab": {
          "base_uri": "https://localhost:8080/"
        },
        "id": "BNezF44ZlAfY",
        "outputId": "67de4fa9-a04e-46c3-eb95-57edc20660bf"
      },
      "source": [
        "learning_rate = 0.001\n",
        "optimiser = optimizers.Adam(lr=learning_rate, clipvalue=1.0)#write your optimizer\n",
        "model.compile(optimizer=optimiser, loss='categorical_crossentropy', metrics=['categorical_accuracy'])\n",
        "print (model.summary())"
      ],
      "execution_count": 7,
      "outputs": [
        {
          "output_type": "stream",
          "text": [
            "Model: \"sequential_1\"\n",
            "_________________________________________________________________\n",
            "Layer (type)                 Output Shape              Param #   \n",
            "=================================================================\n",
            "conv3d (Conv3D)              (None, 15, 100, 100, 64)  5248      \n",
            "_________________________________________________________________\n",
            "activation (Activation)      (None, 15, 100, 100, 64)  0         \n",
            "_________________________________________________________________\n",
            "conv3d_1 (Conv3D)            (None, 15, 100, 100, 32)  55328     \n",
            "_________________________________________________________________\n",
            "activation_1 (Activation)    (None, 15, 100, 100, 32)  0         \n",
            "_________________________________________________________________\n",
            "max_pooling3d (MaxPooling3D) (None, 7, 50, 50, 32)     0         \n",
            "_________________________________________________________________\n",
            "dropout (Dropout)            (None, 7, 50, 50, 32)     0         \n",
            "_________________________________________________________________\n",
            "conv3d_2 (Conv3D)            (None, 7, 50, 50, 16)     13840     \n",
            "_________________________________________________________________\n",
            "activation_2 (Activation)    (None, 7, 50, 50, 16)     0         \n",
            "_________________________________________________________________\n",
            "max_pooling3d_1 (MaxPooling3 (None, 3, 25, 25, 16)     0         \n",
            "_________________________________________________________________\n",
            "dropout_1 (Dropout)          (None, 3, 25, 25, 16)     0         \n",
            "_________________________________________________________________\n",
            "flatten (Flatten)            (None, 30000)             0         \n",
            "_________________________________________________________________\n",
            "dense (Dense)                (None, 512)               15360512  \n",
            "_________________________________________________________________\n",
            "activation_3 (Activation)    (None, 512)               0         \n",
            "_________________________________________________________________\n",
            "dropout_2 (Dropout)          (None, 512)               0         \n",
            "_________________________________________________________________\n",
            "dense_1 (Dense)              (None, 5)                 2565      \n",
            "_________________________________________________________________\n",
            "activation_4 (Activation)    (None, 5)                 0         \n",
            "=================================================================\n",
            "Total params: 15,437,493\n",
            "Trainable params: 15,437,493\n",
            "Non-trainable params: 0\n",
            "_________________________________________________________________\n",
            "None\n"
          ],
          "name": "stdout"
        },
        {
          "output_type": "stream",
          "text": [
            "/usr/local/lib/python3.7/dist-packages/tensorflow/python/keras/optimizer_v2/optimizer_v2.py:375: UserWarning: The `lr` argument is deprecated, use `learning_rate` instead.\n",
            "  \"The `lr` argument is deprecated, use `learning_rate` instead.\")\n"
          ],
          "name": "stderr"
        }
      ]
    },
    {
      "cell_type": "markdown",
      "metadata": {
        "id": "UPsPM8eQlAfZ"
      },
      "source": [
        "Let us create the `train_generator` and the `val_generator` which will be used in `.fit_generator`."
      ]
    },
    {
      "cell_type": "code",
      "metadata": {
        "id": "HKjBfCNZlAfZ"
      },
      "source": [
        "train_generator = generator(train_path, train_doc, batch_size)\n",
        "val_generator = generator(val_path, val_doc, batch_size)\n",
        "# a = next(val_generator)\n",
        "# print(a[0].shape,type(a[1][0][0]))"
      ],
      "execution_count": null,
      "outputs": []
    },
    {
      "cell_type": "code",
      "metadata": {
        "id": "ie98VC2xlAfZ"
      },
      "source": [
        "model_name = 'model_init' + '_' + str(curr_dt_time).replace(' ','').replace(':','_') + '/'\n",
        "    \n",
        "if not os.path.exists(model_name):\n",
        "    os.mkdir(model_name)\n",
        "        \n",
        "filepath = model_name + 'model-{epoch:05d}-{loss:.3f}-{categorical_accuracy:.3f}-{val_loss:.3f}-{val_categorical_accuracy:.3f}.h5'\n",
        "\n",
        "checkpoint = ModelCheckpoint(filepath, monitor='val_loss', verbose=1, save_best_only=False, save_weights_only=False, mode='auto',save_freq = \"epoch\")\n",
        "\n",
        "LR = ReduceLROnPlateau(monitor='val_loss', factor=0.2, verbose=1, patience=3)# write the REducelronplateau code here\n",
        "callbacks_list = [checkpoint, LR]"
      ],
      "execution_count": null,
      "outputs": []
    },
    {
      "cell_type": "markdown",
      "metadata": {
        "id": "6IX5eYUdlAfa"
      },
      "source": [
        "The `steps_per_epoch` and `validation_steps` are used by `fit` method to decide the number of next() calls it need to make."
      ]
    },
    {
      "cell_type": "code",
      "metadata": {
        "id": "VmtybJ7VlAfa"
      },
      "source": [
        "if (num_train_sequences%batch_size) == 0:\n",
        "    steps_per_epoch = int(num_train_sequences/batch_size)\n",
        "else:\n",
        "    steps_per_epoch = (num_train_sequences//batch_size) + 1\n",
        "\n",
        "if (num_val_sequences%batch_size) == 0:\n",
        "    validation_steps = int(num_val_sequences/batch_size)\n",
        "else:\n",
        "    validation_steps = (num_val_sequences//batch_size) + 1"
      ],
      "execution_count": null,
      "outputs": []
    },
    {
      "cell_type": "markdown",
      "metadata": {
        "id": "WobZWGVolAfa"
      },
      "source": [
        "Let us now fit the model. This will start training the model and with the help of the checkpoints, you'll be able to save the model at the end of each epoch."
      ]
    },
    {
      "cell_type": "code",
      "metadata": {
        "id": "kmRAAj1ilAfb",
        "outputId": "e346967f-1fc6-422c-9499-a8251bb8db35"
      },
      "source": [
        "model.fit(train_generator, steps_per_epoch=steps_per_epoch, epochs=num_epochs, verbose=True, \n",
        "                    callbacks=callbacks_list, validation_data=val_generator, \n",
        "                    validation_steps=validation_steps, class_weight=None, workers=1, initial_epoch=0)"
      ],
      "execution_count": null,
      "outputs": [
        {
          "output_type": "stream",
          "text": [
            "Source path =  /home/datasets/Project_data/train ; batch size = 64\n",
            "Epoch 1/50\n",
            "11/11 [==============================] - ETA: 0s - loss: 22.1696 - categorical_accuracy: 0.1946Source path =  /home/datasets/Project_data/val ; batch size = 64\n",
            "\n",
            "Epoch 00001: saving model to model_init_2021-06-2711_18_46.352023/model-00001-22.170-0.195-18.091-0.210.h5\n",
            "11/11 [==============================] - 84s 8s/step - loss: 22.1696 - categorical_accuracy: 0.1946 - val_loss: 18.0909 - val_categorical_accuracy: 0.2100\n",
            "Epoch 2/50\n",
            "11/11 [==============================] - ETA: 0s - loss: 15.5164 - categorical_accuracy: 0.2081\n",
            "Epoch 00002: saving model to model_init_2021-06-2711_18_46.352023/model-00002-15.516-0.208-12.400-0.230.h5\n",
            "11/11 [==============================] - 83s 8s/step - loss: 15.5164 - categorical_accuracy: 0.2081 - val_loss: 12.4001 - val_categorical_accuracy: 0.2300\n",
            "Epoch 3/50\n",
            "11/11 [==============================] - ETA: 0s - loss: 10.5544 - categorical_accuracy: 0.2127\n",
            "Epoch 00003: saving model to model_init_2021-06-2711_18_46.352023/model-00003-10.554-0.213-8.393-0.210.h5\n",
            "11/11 [==============================] - 87s 8s/step - loss: 10.5544 - categorical_accuracy: 0.2127 - val_loss: 8.3934 - val_categorical_accuracy: 0.2100\n",
            "Epoch 4/50\n",
            "11/11 [==============================] - ETA: 0s - loss: 7.1701 - categorical_accuracy: 0.2398\n",
            "Epoch 00004: saving model to model_init_2021-06-2711_18_46.352023/model-00004-7.170-0.240-5.771-0.230.h5\n",
            "11/11 [==============================] - 76s 7s/step - loss: 7.1701 - categorical_accuracy: 0.2398 - val_loss: 5.7712 - val_categorical_accuracy: 0.2300\n",
            "Epoch 5/50\n",
            "11/11 [==============================] - ETA: 0s - loss: 4.9992 - categorical_accuracy: 0.2323\n",
            "Epoch 00005: saving model to model_init_2021-06-2711_18_46.352023/model-00005-4.999-0.232-4.137-0.210.h5\n",
            "11/11 [==============================] - 82s 7s/step - loss: 4.9992 - categorical_accuracy: 0.2323 - val_loss: 4.1371 - val_categorical_accuracy: 0.2100\n",
            "Epoch 6/50\n",
            "11/11 [==============================] - ETA: 0s - loss: 3.6660 - categorical_accuracy: 0.2081\n",
            "Epoch 00006: saving model to model_init_2021-06-2711_18_46.352023/model-00006-3.666-0.208-3.156-0.210.h5\n",
            "11/11 [==============================] - 79s 7s/step - loss: 3.6660 - categorical_accuracy: 0.2081 - val_loss: 3.1559 - val_categorical_accuracy: 0.2100\n",
            "Epoch 7/50\n",
            "11/11 [==============================] - ETA: 0s - loss: 2.8853 - categorical_accuracy: 0.1991\n",
            "Epoch 00007: saving model to model_init_2021-06-2711_18_46.352023/model-00007-2.885-0.199-2.588-0.210.h5\n",
            "11/11 [==============================] - 83s 8s/step - loss: 2.8853 - categorical_accuracy: 0.1991 - val_loss: 2.5885 - val_categorical_accuracy: 0.2100\n",
            "Epoch 8/50\n",
            "11/11 [==============================] - ETA: 0s - loss: 2.4231 - categorical_accuracy: 0.1840\n",
            "Epoch 00008: saving model to model_init_2021-06-2711_18_46.352023/model-00008-2.423-0.184-2.252-0.220.h5\n",
            "11/11 [==============================] - 80s 7s/step - loss: 2.4231 - categorical_accuracy: 0.1840 - val_loss: 2.2517 - val_categorical_accuracy: 0.2200\n",
            "Epoch 9/50\n",
            "11/11 [==============================] - ETA: 0s - loss: 2.1465 - categorical_accuracy: 0.2112\n",
            "Epoch 00009: saving model to model_init_2021-06-2711_18_46.352023/model-00009-2.146-0.211-2.052-0.210.h5\n",
            "11/11 [==============================] - 86s 8s/step - loss: 2.1465 - categorical_accuracy: 0.2112 - val_loss: 2.0516 - val_categorical_accuracy: 0.2100\n",
            "Epoch 10/50\n",
            "11/11 [==============================] - ETA: 0s - loss: 1.9892 - categorical_accuracy: 0.2142\n",
            "Epoch 00010: saving model to model_init_2021-06-2711_18_46.352023/model-00010-1.989-0.214-1.938-0.250.h5\n",
            "11/11 [==============================] - 81s 7s/step - loss: 1.9892 - categorical_accuracy: 0.2142 - val_loss: 1.9380 - val_categorical_accuracy: 0.2500\n",
            "Epoch 11/50\n",
            "11/11 [==============================] - ETA: 0s - loss: 1.8970 - categorical_accuracy: 0.2217\n",
            "Epoch 00011: saving model to model_init_2021-06-2711_18_46.352023/model-00011-1.897-0.222-1.862-0.290.h5\n",
            "11/11 [==============================] - 91s 8s/step - loss: 1.8970 - categorical_accuracy: 0.2217 - val_loss: 1.8617 - val_categorical_accuracy: 0.2900\n",
            "Epoch 12/50\n",
            "11/11 [==============================] - ETA: 0s - loss: 1.8226 - categorical_accuracy: 0.2594\n",
            "Epoch 00012: saving model to model_init_2021-06-2711_18_46.352023/model-00012-1.823-0.259-1.796-0.410.h5\n",
            "11/11 [==============================] - 75s 7s/step - loss: 1.8226 - categorical_accuracy: 0.2594 - val_loss: 1.7960 - val_categorical_accuracy: 0.4100\n",
            "Epoch 13/50\n",
            "11/11 [==============================] - ETA: 0s - loss: 1.7651 - categorical_accuracy: 0.2413\n",
            "Epoch 00013: saving model to model_init_2021-06-2711_18_46.352023/model-00013-1.765-0.241-1.737-0.300.h5\n",
            "11/11 [==============================] - 79s 7s/step - loss: 1.7651 - categorical_accuracy: 0.2413 - val_loss: 1.7374 - val_categorical_accuracy: 0.3000\n",
            "Epoch 14/50\n",
            "11/11 [==============================] - ETA: 0s - loss: 1.7099 - categorical_accuracy: 0.3047\n",
            "Epoch 00014: saving model to model_init_2021-06-2711_18_46.352023/model-00014-1.710-0.305-1.710-0.410.h5\n",
            "11/11 [==============================] - 80s 7s/step - loss: 1.7099 - categorical_accuracy: 0.3047 - val_loss: 1.7102 - val_categorical_accuracy: 0.4100\n",
            "Epoch 15/50\n",
            "11/11 [==============================] - ETA: 0s - loss: 1.6581 - categorical_accuracy: 0.3258\n",
            "Epoch 00015: saving model to model_init_2021-06-2711_18_46.352023/model-00015-1.658-0.326-1.624-0.460.h5\n",
            "11/11 [==============================] - 81s 7s/step - loss: 1.6581 - categorical_accuracy: 0.3258 - val_loss: 1.6243 - val_categorical_accuracy: 0.4600\n",
            "Epoch 16/50\n",
            "11/11 [==============================] - ETA: 0s - loss: 1.5834 - categorical_accuracy: 0.4027\n",
            "Epoch 00016: saving model to model_init_2021-06-2711_18_46.352023/model-00016-1.583-0.403-1.457-0.490.h5\n",
            "11/11 [==============================] - 90s 8s/step - loss: 1.5834 - categorical_accuracy: 0.4027 - val_loss: 1.4573 - val_categorical_accuracy: 0.4900\n",
            "Epoch 17/50\n",
            "11/11 [==============================] - ETA: 0s - loss: 1.5344 - categorical_accuracy: 0.4178\n",
            "Epoch 00017: saving model to model_init_2021-06-2711_18_46.352023/model-00017-1.534-0.418-1.494-0.510.h5\n",
            "11/11 [==============================] - 78s 7s/step - loss: 1.5344 - categorical_accuracy: 0.4178 - val_loss: 1.4937 - val_categorical_accuracy: 0.5100\n",
            "Epoch 18/50\n",
            "11/11 [==============================] - ETA: 0s - loss: 1.4709 - categorical_accuracy: 0.4510\n",
            "Epoch 00018: saving model to model_init_2021-06-2711_18_46.352023/model-00018-1.471-0.451-1.345-0.490.h5\n",
            "11/11 [==============================] - 73s 7s/step - loss: 1.4709 - categorical_accuracy: 0.4510 - val_loss: 1.3445 - val_categorical_accuracy: 0.4900\n",
            "Epoch 19/50\n",
            "11/11 [==============================] - ETA: 0s - loss: 1.4550 - categorical_accuracy: 0.4691\n",
            "Epoch 00019: saving model to model_init_2021-06-2711_18_46.352023/model-00019-1.455-0.469-1.387-0.580.h5\n",
            "11/11 [==============================] - 89s 8s/step - loss: 1.4550 - categorical_accuracy: 0.4691 - val_loss: 1.3873 - val_categorical_accuracy: 0.5800\n",
            "Epoch 20/50\n",
            "11/11 [==============================] - ETA: 0s - loss: 1.4208 - categorical_accuracy: 0.4766\n",
            "Epoch 00020: saving model to model_init_2021-06-2711_18_46.352023/model-00020-1.421-0.477-1.399-0.520.h5\n",
            "11/11 [==============================] - 81s 7s/step - loss: 1.4208 - categorical_accuracy: 0.4766 - val_loss: 1.3989 - val_categorical_accuracy: 0.5200\n",
            "Epoch 21/50\n",
            "11/11 [==============================] - ETA: 0s - loss: 1.3514 - categorical_accuracy: 0.5249\n",
            "Epoch 00021: saving model to model_init_2021-06-2711_18_46.352023/model-00021-1.351-0.525-1.294-0.620.h5\n",
            "11/11 [==============================] - 88s 8s/step - loss: 1.3514 - categorical_accuracy: 0.5249 - val_loss: 1.2941 - val_categorical_accuracy: 0.6200\n",
            "Epoch 22/50\n",
            "11/11 [==============================] - ETA: 0s - loss: 1.3316 - categorical_accuracy: 0.5370\n",
            "Epoch 00022: saving model to model_init_2021-06-2711_18_46.352023/model-00022-1.332-0.537-1.262-0.620.h5\n",
            "11/11 [==============================] - 81s 7s/step - loss: 1.3316 - categorical_accuracy: 0.5370 - val_loss: 1.2620 - val_categorical_accuracy: 0.6200\n",
            "Epoch 23/50\n",
            "11/11 [==============================] - ETA: 0s - loss: 1.3005 - categorical_accuracy: 0.5566\n",
            "Epoch 00023: saving model to model_init_2021-06-2711_18_46.352023/model-00023-1.300-0.557-1.292-0.600.h5\n",
            "11/11 [==============================] - 81s 7s/step - loss: 1.3005 - categorical_accuracy: 0.5566 - val_loss: 1.2924 - val_categorical_accuracy: 0.6000\n",
            "Epoch 24/50\n",
            "11/11 [==============================] - ETA: 0s - loss: 1.2868 - categorical_accuracy: 0.5852\n",
            "Epoch 00024: saving model to model_init_2021-06-2711_18_46.352023/model-00024-1.287-0.585-1.309-0.640.h5\n",
            "11/11 [==============================] - 79s 7s/step - loss: 1.2868 - categorical_accuracy: 0.5852 - val_loss: 1.3094 - val_categorical_accuracy: 0.6400\n",
            "Epoch 25/50\n",
            "11/11 [==============================] - ETA: 0s - loss: 1.2612 - categorical_accuracy: 0.5867\n",
            "Epoch 00025: saving model to model_init_2021-06-2711_18_46.352023/model-00025-1.261-0.587-1.255-0.650.h5\n",
            "11/11 [==============================] - 85s 8s/step - loss: 1.2612 - categorical_accuracy: 0.5867 - val_loss: 1.2547 - val_categorical_accuracy: 0.6500\n",
            "Epoch 26/50\n",
            "11/11 [==============================] - ETA: 0s - loss: 1.2720 - categorical_accuracy: 0.6139\n",
            "Epoch 00026: saving model to model_init_2021-06-2711_18_46.352023/model-00026-1.272-0.614-1.188-0.750.h5\n",
            "11/11 [==============================] - 77s 7s/step - loss: 1.2720 - categorical_accuracy: 0.6139 - val_loss: 1.1879 - val_categorical_accuracy: 0.7500\n",
            "Epoch 27/50\n",
            "11/11 [==============================] - ETA: 0s - loss: 1.2247 - categorical_accuracy: 0.6154\n",
            "Epoch 00027: saving model to model_init_2021-06-2711_18_46.352023/model-00027-1.225-0.615-1.259-0.730.h5\n",
            "11/11 [==============================] - 72s 7s/step - loss: 1.2247 - categorical_accuracy: 0.6154 - val_loss: 1.2592 - val_categorical_accuracy: 0.7300\n",
            "Epoch 28/50\n",
            "11/11 [==============================] - ETA: 0s - loss: 1.1645 - categorical_accuracy: 0.6305\n",
            "Epoch 00028: saving model to model_init_2021-06-2711_18_46.352023/model-00028-1.165-0.630-1.108-0.710.h5\n",
            "11/11 [==============================] - 70s 6s/step - loss: 1.1645 - categorical_accuracy: 0.6305 - val_loss: 1.1085 - val_categorical_accuracy: 0.7100\n",
            "Epoch 29/50\n",
            "11/11 [==============================] - ETA: 0s - loss: 1.1538 - categorical_accuracy: 0.6516\n",
            "Epoch 00029: saving model to model_init_2021-06-2711_18_46.352023/model-00029-1.154-0.652-1.084-0.740.h5\n",
            "11/11 [==============================] - 90s 8s/step - loss: 1.1538 - categorical_accuracy: 0.6516 - val_loss: 1.0842 - val_categorical_accuracy: 0.7400\n",
            "Epoch 30/50\n",
            "11/11 [==============================] - ETA: 0s - loss: 1.1166 - categorical_accuracy: 0.6652\n",
            "Epoch 00030: saving model to model_init_2021-06-2711_18_46.352023/model-00030-1.117-0.665-0.992-0.770.h5\n",
            "11/11 [==============================] - 91s 8s/step - loss: 1.1166 - categorical_accuracy: 0.6652 - val_loss: 0.9919 - val_categorical_accuracy: 0.7700\n",
            "Epoch 31/50\n",
            "11/11 [==============================] - ETA: 0s - loss: 1.1379 - categorical_accuracy: 0.6802\n",
            "Epoch 00031: saving model to model_init_2021-06-2711_18_46.352023/model-00031-1.138-0.680-1.098-0.680.h5\n",
            "11/11 [==============================] - 91s 8s/step - loss: 1.1379 - categorical_accuracy: 0.6802 - val_loss: 1.0980 - val_categorical_accuracy: 0.6800\n",
            "Epoch 32/50\n",
            "11/11 [==============================] - ETA: 0s - loss: 1.2325 - categorical_accuracy: 0.6365\n",
            "Epoch 00032: saving model to model_init_2021-06-2711_18_46.352023/model-00032-1.232-0.637-1.286-0.650.h5\n",
            "11/11 [==============================] - 93s 8s/step - loss: 1.2325 - categorical_accuracy: 0.6365 - val_loss: 1.2857 - val_categorical_accuracy: 0.6500\n",
            "Epoch 33/50\n",
            "11/11 [==============================] - ETA: 0s - loss: 1.1526 - categorical_accuracy: 0.6637\n",
            "Epoch 00033: saving model to model_init_2021-06-2711_18_46.352023/model-00033-1.153-0.664-1.056-0.760.h5\n",
            "\n",
            "Epoch 00033: ReduceLROnPlateau reducing learning rate to 0.00020000000949949026.\n",
            "11/11 [==============================] - 90s 8s/step - loss: 1.1526 - categorical_accuracy: 0.6637 - val_loss: 1.0562 - val_categorical_accuracy: 0.7600\n",
            "Epoch 34/50\n",
            "11/11 [==============================] - ETA: 0s - loss: 1.0733 - categorical_accuracy: 0.6742\n",
            "Epoch 00034: saving model to model_init_2021-06-2711_18_46.352023/model-00034-1.073-0.674-1.038-0.740.h5\n",
            "11/11 [==============================] - 80s 7s/step - loss: 1.0733 - categorical_accuracy: 0.6742 - val_loss: 1.0379 - val_categorical_accuracy: 0.7400\n",
            "Epoch 35/50\n",
            "11/11 [==============================] - ETA: 0s - loss: 1.0670 - categorical_accuracy: 0.6893\n",
            "Epoch 00035: saving model to model_init_2021-06-2711_18_46.352023/model-00035-1.067-0.689-1.003-0.770.h5\n",
            "11/11 [==============================] - 82s 7s/step - loss: 1.0670 - categorical_accuracy: 0.6893 - val_loss: 1.0034 - val_categorical_accuracy: 0.7700\n",
            "Epoch 36/50\n",
            "11/11 [==============================] - ETA: 0s - loss: 0.9899 - categorical_accuracy: 0.7104\n",
            "Epoch 00036: saving model to model_init_2021-06-2711_18_46.352023/model-00036-0.990-0.710-0.987-0.740.h5\n",
            "11/11 [==============================] - 88s 8s/step - loss: 0.9899 - categorical_accuracy: 0.7104 - val_loss: 0.9871 - val_categorical_accuracy: 0.7400\n",
            "Epoch 37/50\n",
            "11/11 [==============================] - ETA: 0s - loss: 0.9401 - categorical_accuracy: 0.7421\n",
            "Epoch 00037: saving model to model_init_2021-06-2711_18_46.352023/model-00037-0.940-0.742-0.935-0.810.h5\n",
            "11/11 [==============================] - 83s 8s/step - loss: 0.9401 - categorical_accuracy: 0.7421 - val_loss: 0.9352 - val_categorical_accuracy: 0.8100\n",
            "Epoch 38/50\n",
            "11/11 [==============================] - ETA: 0s - loss: 0.9310 - categorical_accuracy: 0.7270\n",
            "Epoch 00038: saving model to model_init_2021-06-2711_18_46.352023/model-00038-0.931-0.727-0.922-0.790.h5\n",
            "11/11 [==============================] - 79s 7s/step - loss: 0.9310 - categorical_accuracy: 0.7270 - val_loss: 0.9215 - val_categorical_accuracy: 0.7900\n",
            "Epoch 39/50\n",
            "11/11 [==============================] - ETA: 0s - loss: 0.9181 - categorical_accuracy: 0.7360\n",
            "Epoch 00039: saving model to model_init_2021-06-2711_18_46.352023/model-00039-0.918-0.736-0.901-0.800.h5\n",
            "11/11 [==============================] - 83s 8s/step - loss: 0.9181 - categorical_accuracy: 0.7360 - val_loss: 0.9007 - val_categorical_accuracy: 0.8000\n",
            "Epoch 40/50\n",
            "11/11 [==============================] - ETA: 0s - loss: 0.8985 - categorical_accuracy: 0.7496\n",
            "Epoch 00040: saving model to model_init_2021-06-2711_18_46.352023/model-00040-0.899-0.750-0.831-0.830.h5\n",
            "11/11 [==============================] - 68s 6s/step - loss: 0.8985 - categorical_accuracy: 0.7496 - val_loss: 0.8315 - val_categorical_accuracy: 0.8300\n",
            "Epoch 41/50\n",
            "11/11 [==============================] - ETA: 0s - loss: 0.8800 - categorical_accuracy: 0.7541\n",
            "Epoch 00041: saving model to model_init_2021-06-2711_18_46.352023/model-00041-0.880-0.754-0.854-0.820.h5\n",
            "11/11 [==============================] - 71s 6s/step - loss: 0.8800 - categorical_accuracy: 0.7541 - val_loss: 0.8540 - val_categorical_accuracy: 0.8200\n",
            "Epoch 42/50\n",
            "11/11 [==============================] - ETA: 0s - loss: 0.8967 - categorical_accuracy: 0.7255\n",
            "Epoch 00042: saving model to model_init_2021-06-2711_18_46.352023/model-00042-0.897-0.725-0.853-0.840.h5\n",
            "11/11 [==============================] - 68s 6s/step - loss: 0.8967 - categorical_accuracy: 0.7255 - val_loss: 0.8534 - val_categorical_accuracy: 0.8400\n",
            "Epoch 43/50\n",
            "11/11 [==============================] - ETA: 0s - loss: 0.8876 - categorical_accuracy: 0.7481\n",
            "Epoch 00043: saving model to model_init_2021-06-2711_18_46.352023/model-00043-0.888-0.748-0.852-0.770.h5\n",
            "\n",
            "Epoch 00043: ReduceLROnPlateau reducing learning rate to 4.0000001899898055e-05.\n",
            "11/11 [==============================] - 71s 6s/step - loss: 0.8876 - categorical_accuracy: 0.7481 - val_loss: 0.8517 - val_categorical_accuracy: 0.7700\n",
            "Epoch 44/50\n",
            "11/11 [==============================] - ETA: 0s - loss: 0.8489 - categorical_accuracy: 0.7511\n",
            "Epoch 00044: saving model to model_init_2021-06-2711_18_46.352023/model-00044-0.849-0.751-0.891-0.760.h5\n",
            "11/11 [==============================] - 69s 6s/step - loss: 0.8489 - categorical_accuracy: 0.7511 - val_loss: 0.8909 - val_categorical_accuracy: 0.7600\n",
            "Epoch 45/50\n",
            "11/11 [==============================] - ETA: 0s - loss: 0.8295 - categorical_accuracy: 0.7496\n",
            "Epoch 00045: saving model to model_init_2021-06-2711_18_46.352023/model-00045-0.830-0.750-0.828-0.800.h5\n",
            "11/11 [==============================] - 71s 6s/step - loss: 0.8295 - categorical_accuracy: 0.7496 - val_loss: 0.8276 - val_categorical_accuracy: 0.8000\n",
            "Epoch 46/50\n",
            "11/11 [==============================] - ETA: 0s - loss: 0.8454 - categorical_accuracy: 0.7421\n",
            "Epoch 00046: saving model to model_init_2021-06-2711_18_46.352023/model-00046-0.845-0.742-0.865-0.760.h5\n",
            "11/11 [==============================] - 69s 6s/step - loss: 0.8454 - categorical_accuracy: 0.7421 - val_loss: 0.8652 - val_categorical_accuracy: 0.7600\n",
            "Epoch 47/50\n",
            "11/11 [==============================] - ETA: 0s - loss: 0.8194 - categorical_accuracy: 0.7481\n",
            "Epoch 00047: saving model to model_init_2021-06-2711_18_46.352023/model-00047-0.819-0.748-0.824-0.820.h5\n",
            "11/11 [==============================] - 71s 6s/step - loss: 0.8194 - categorical_accuracy: 0.7481 - val_loss: 0.8239 - val_categorical_accuracy: 0.8200\n",
            "Epoch 48/50\n",
            "11/11 [==============================] - ETA: 0s - loss: 0.8115 - categorical_accuracy: 0.7541\n",
            "Epoch 00048: saving model to model_init_2021-06-2711_18_46.352023/model-00048-0.812-0.754-0.789-0.810.h5\n",
            "11/11 [==============================] - 69s 6s/step - loss: 0.8115 - categorical_accuracy: 0.7541 - val_loss: 0.7886 - val_categorical_accuracy: 0.8100\n",
            "Epoch 49/50\n",
            "11/11 [==============================] - ETA: 0s - loss: 0.8175 - categorical_accuracy: 0.7406\n",
            "Epoch 00049: saving model to model_init_2021-06-2711_18_46.352023/model-00049-0.817-0.741-0.812-0.820.h5\n",
            "11/11 [==============================] - 72s 7s/step - loss: 0.8175 - categorical_accuracy: 0.7406 - val_loss: 0.8119 - val_categorical_accuracy: 0.8200\n",
            "Epoch 50/50\n",
            "11/11 [==============================] - ETA: 0s - loss: 0.8508 - categorical_accuracy: 0.7406\n",
            "Epoch 00050: saving model to model_init_2021-06-2711_18_46.352023/model-00050-0.851-0.741-0.753-0.830.h5\n",
            "11/11 [==============================] - 70s 6s/step - loss: 0.8508 - categorical_accuracy: 0.7406 - val_loss: 0.7529 - val_categorical_accuracy: 0.8300\n"
          ],
          "name": "stdout"
        },
        {
          "output_type": "execute_result",
          "data": {
            "text/plain": [
              "<tensorflow.python.keras.callbacks.History at 0x7f8bb76629e8>"
            ]
          },
          "metadata": {
            "tags": []
          },
          "execution_count": 13
        }
      ]
    },
    {
      "cell_type": "code",
      "metadata": {
        "id": "Zx3pt_dOlAfb",
        "outputId": "8e0d3943-5385-47c4-d60a-39e7ea97e198"
      },
      "source": [
        "# !ls -ltrh /home/dl_content/'Upgrad DL'/'Gesture Recognition Assignment'/model_init_2021-*\n",
        "# !du -ah /home | grep -v \"/$\" | sort -rh | head -6 \n",
        "# !rm -rf /home/.local/share/Trash/files\n",
        "# !df -h"
      ],
      "execution_count": null,
      "outputs": [
        {
          "output_type": "stream",
          "text": [
            "Filesystem      Size  Used Avail Use% Mounted on\n",
            "overlay          10G   92K   10G   1% /\n",
            "tmpfs            64M     0   64M   0% /dev\n",
            "tmpfs           126G     0  126G   0% /sys/fs/cgroup\n",
            "/dev/nvme0n1     10G  5.8G  4.3G  58% /datasets\n",
            "tmpfs           126G  720K  126G   1% /dev/shm\n",
            "tmpfs           126G   12K  126G   1% /proc/driver/nvidia\n",
            "/dev/sda2       3.5T  395G  2.9T  12% /usr/bin/nvidia-smi\n",
            "tmpfs            26G  4.1M   26G   1% /run/nvidia-persistenced/socket\n",
            "udev            126G     0  126G   0% /dev/nvidia0\n",
            "tmpfs           126G     0  126G   0% /proc/asound\n",
            "tmpfs           126G     0  126G   0% /proc/acpi\n",
            "tmpfs           126G     0  126G   0% /proc/scsi\n",
            "tmpfs           126G     0  126G   0% /sys/firmware\n"
          ],
          "name": "stdout"
        }
      ]
    },
    {
      "cell_type": "markdown",
      "metadata": {
        "id": "nLqpDCLklAfc"
      },
      "source": [
        "### CNN-RNN Model"
      ]
    },
    {
      "cell_type": "code",
      "metadata": {
        "id": "t-BOwI14lAfc"
      },
      "source": [
        "########\n",
        "####   CNN-RNN Model: Accuray 94/83(val) , batch_size = 32\n",
        "########\n",
        "\n",
        "\n",
        "from tensorflow.keras.models import Sequential\n",
        "from tensorflow.keras.layers import Dense,TimeDistributed, LSTM, GRU, Dropout, Flatten, BatchNormalization, Activation, Conv2D,Conv3D, MaxPooling2D, MaxPooling3D\n",
        "from tensorflow.keras.callbacks import ModelCheckpoint, ReduceLROnPlateau\n",
        "from tensorflow.keras.regularizers import L2 #vs l2\n",
        "from tensorflow.keras import optimizers\n",
        "\n",
        "#write your model here\n",
        "model = Sequential()\n",
        "\n",
        "## TimeDistributed automaticaly incorporates x=15, when model .build\n",
        "\n",
        "model.add(TimeDistributed(Conv2D(32, (3, 3) , padding = \"SAME\",\n",
        "                        input_shape=(y, z, 3)))) #### Large batch_size might not fit params into memory\n",
        "model.add(TimeDistributed(Activation('relu')))\n",
        "model.add(TimeDistributed(Conv2D(32, ( 3, 3), padding = \"SAME\")))\n",
        "model.add(TimeDistributed(Activation('relu')))\n",
        "model.add(TimeDistributed(MaxPooling2D(pool_size=(2, 2))))\n",
        "model.add(TimeDistributed(Dropout(0.5)))\n",
        "\n",
        "# model.add(TimeDistributed(Conv2D(64, (3, 3) , padding = \"SAME\"))) \n",
        "# model.add(TimeDistributed(Activation('relu')))\n",
        "# model.add(TimeDistributed(Conv2D(64, ( 3, 3), padding = \"SAME\")))\n",
        "# model.add(TimeDistributed(Activation('relu')))\n",
        "# model.add(TimeDistributed(MaxPooling2D(pool_size=(2, 2))))\n",
        "# model.add(TimeDistributed(Dropout(0.5)))\n",
        "\n",
        "# model.add(TimeDistributed(Conv2D(32, (3, 3) , padding = \"SAME\"))) \n",
        "# model.add(TimeDistributed(Activation('relu')))\n",
        "# model.add(TimeDistributed(Conv2D(32, ( 3, 3), padding = \"SAME\")))\n",
        "# model.add(TimeDistributed(Activation('relu')))\n",
        "# model.add(TimeDistributed(MaxPooling2D(pool_size=(2, 2))))\n",
        "# model.add(TimeDistributed(Dropout(0.5)))\n",
        "\n",
        "model.add(TimeDistributed(Flatten()))\n",
        "model.add(LSTM(32, \n",
        "#                input_shape = [None,x]\n",
        "#                 activation=\"relu\",\n",
        "#                 dropout = 0.5\n",
        "              ))    \n",
        "model.add(Dropout(0.5))\n",
        "\n",
        "## number of params - 74240 = 4 set of wts * ( 128 output  * ( 16 emb inputdim + 1 bias) +   128 output^2)\n",
        "\n",
        "# Layer 5 - Dense FFN with Dropout\n",
        "model.add(BatchNormalization())\n",
        "model.add(Dense(128))\n",
        "model.add(Dropout(0.5))\n",
        "# model.add(BatchNormalization())\n",
        "\n",
        "model.add(Dense(5, \n",
        "#                 kernel_initializer = weights,\n",
        "                    name='output'))\n",
        "model.add(Activation('softmax'))\n",
        "\n",
        "\n"
      ],
      "execution_count": null,
      "outputs": []
    },
    {
      "cell_type": "code",
      "metadata": {
        "id": "VC8iPMxVlAfc",
        "outputId": "8fa1d1f7-5b7b-4818-c904-812f250d68f8"
      },
      "source": [
        "learning_rate = 0.001\n",
        "optimiser = optimizers.Adam(lr=learning_rate, clipvalue=1.0)#write your optimizer\n",
        "model.compile(optimizer=optimiser, loss='categorical_crossentropy', metrics=['categorical_accuracy'])\n",
        "\n",
        "model.build(input_shape = [None, x ,y, z ,3]) ##### specify seq\n",
        "\n",
        "print (model.summary())"
      ],
      "execution_count": null,
      "outputs": [
        {
          "output_type": "stream",
          "text": [
            "Model: \"sequential\"\n",
            "_________________________________________________________________\n",
            "Layer (type)                 Output Shape              Param #   \n",
            "=================================================================\n",
            "time_distributed (TimeDistri (None, 15, 100, 100, 32)  896       \n",
            "_________________________________________________________________\n",
            "time_distributed_1 (TimeDist (None, 15, 100, 100, 32)  0         \n",
            "_________________________________________________________________\n",
            "time_distributed_2 (TimeDist (None, 15, 100, 100, 32)  9248      \n",
            "_________________________________________________________________\n",
            "time_distributed_3 (TimeDist (None, 15, 100, 100, 32)  0         \n",
            "_________________________________________________________________\n",
            "time_distributed_4 (TimeDist (None, 15, 50, 50, 32)    0         \n",
            "_________________________________________________________________\n",
            "time_distributed_5 (TimeDist (None, 15, 50, 50, 32)    0         \n",
            "_________________________________________________________________\n",
            "time_distributed_6 (TimeDist (None, 15, 80000)         0         \n",
            "_________________________________________________________________\n",
            "lstm (LSTM)                  (None, 32)                10244224  \n",
            "_________________________________________________________________\n",
            "dropout_1 (Dropout)          (None, 32)                0         \n",
            "_________________________________________________________________\n",
            "batch_normalization (BatchNo (None, 32)                128       \n",
            "_________________________________________________________________\n",
            "dense (Dense)                (None, 128)               4224      \n",
            "_________________________________________________________________\n",
            "dropout_2 (Dropout)          (None, 128)               0         \n",
            "_________________________________________________________________\n",
            "output (Dense)               (None, 5)                 645       \n",
            "_________________________________________________________________\n",
            "activation_2 (Activation)    (None, 5)                 0         \n",
            "=================================================================\n",
            "Total params: 10,259,365\n",
            "Trainable params: 10,259,301\n",
            "Non-trainable params: 64\n",
            "_________________________________________________________________\n",
            "None\n"
          ],
          "name": "stdout"
        }
      ]
    },
    {
      "cell_type": "code",
      "metadata": {
        "id": "i2gMVnLAlAfd"
      },
      "source": [
        "batch_size = 32"
      ],
      "execution_count": null,
      "outputs": []
    },
    {
      "cell_type": "code",
      "metadata": {
        "id": "MaTF0UQKlAfd"
      },
      "source": [
        "# train_ds = tf.data.Dataset.from_generator(train_generator.generate, output_types=(tf.float32, tf.int32))\n",
        "# train_ds = train_ds.map(lambda x,y : (x,y)).prefetch(buffer_size=1000)\n",
        "# train_ds = train_ds.batch(batch_size)\n",
        "\n",
        "# val_ds = tf.data.Dataset.from_generator(val_generator.generate, output_types=(tf.float32, tf.int32))\n",
        "# val_ds = val_ds.map(lambda x,y : (x,y)).prefetch(buffer_size=1000)\n",
        "# # dataset = dataset.map(lambda x,y : (x,y), num_parallel_calls=NUM_THREADS).prefetch(buffer_size=1000)\n",
        "# val_ds = val_ds.batch(batch_size)\n"
      ],
      "execution_count": null,
      "outputs": []
    },
    {
      "cell_type": "code",
      "metadata": {
        "id": "WrAryJRVlAfd"
      },
      "source": [
        "train_generator = generator(train_path, train_doc, batch_size)\n",
        "val_generator = generator(val_path, val_doc, batch_size)"
      ],
      "execution_count": null,
      "outputs": []
    },
    {
      "cell_type": "code",
      "metadata": {
        "id": "cXaKX2XllAfe"
      },
      "source": [
        "model_name = 'model_init' + '_' + str(curr_dt_time).replace(' ','').replace(':','_') + '/'\n",
        "    \n",
        "if not os.path.exists(model_name):\n",
        "    os.mkdir(model_name)\n",
        "        \n",
        "filepath = model_name + 'model-{epoch:05d}-{loss:.3f}-{categorical_accuracy:.3f}-{val_loss:.3f}-{val_categorical_accuracy:.3f}.h5'\n",
        "\n",
        "checkpoint = ModelCheckpoint(filepath, monitor='val_loss', verbose=1, save_best_only=False, save_weights_only=False, mode='auto',save_freq = \"epoch\")\n",
        "\n",
        "LR = ReduceLROnPlateau(monitor='val_loss', factor=0.2, verbose=1, patience=3)# write the REducelronplateau code here\n",
        "callbacks_list = [checkpoint, LR]"
      ],
      "execution_count": null,
      "outputs": []
    },
    {
      "cell_type": "code",
      "metadata": {
        "id": "LLOhAXBTlAfe"
      },
      "source": [
        "if (num_train_sequences%batch_size) == 0:\n",
        "    steps_per_epoch = int(num_train_sequences/batch_size)\n",
        "else:\n",
        "    steps_per_epoch = (num_train_sequences//batch_size) + 1\n",
        "\n",
        "if (num_val_sequences%batch_size) == 0:\n",
        "    validation_steps = int(num_val_sequences/batch_size)\n",
        "else:\n",
        "    validation_steps = (num_val_sequences//batch_size) + 1"
      ],
      "execution_count": null,
      "outputs": []
    },
    {
      "cell_type": "code",
      "metadata": {
        "id": "_ecmTYuUlAfe",
        "outputId": "c577a6fb-e4f1-4e7b-be46-27dd720f5b4e"
      },
      "source": [
        "model.fit(train_generator, steps_per_epoch=steps_per_epoch, epochs=num_epochs, verbose=True, \n",
        "                    callbacks=callbacks_list, validation_data=val_generator, \n",
        "                    validation_steps=validation_steps, class_weight=None, workers=1, initial_epoch=0)"
      ],
      "execution_count": null,
      "outputs": [
        {
          "output_type": "stream",
          "text": [
            "Source path =  /home/datasets/Project_data/train ; batch size = 32\n",
            "Epoch 1/50\n",
            "21/21 [==============================] - ETA: 0s - loss: 1.8296 - categorical_accuracy: 0.2413Source path =  /home/datasets/Project_data/val ; batch size = 32\n",
            "\n",
            "Epoch 00001: saving model to model_init_2021-06-2715_20_34.220461/model-00001-1.830-0.241-1.603-0.180.h5\n",
            "21/21 [==============================] - 71s 3s/step - loss: 1.8296 - categorical_accuracy: 0.2413 - val_loss: 1.6034 - val_categorical_accuracy: 0.1800\n",
            "Epoch 2/50\n",
            "21/21 [==============================] - ETA: 0s - loss: 1.6787 - categorical_accuracy: 0.2142\n",
            "Epoch 00002: saving model to model_init_2021-06-2715_20_34.220461/model-00002-1.679-0.214-1.593-0.220.h5\n",
            "21/21 [==============================] - 73s 3s/step - loss: 1.6787 - categorical_accuracy: 0.2142 - val_loss: 1.5929 - val_categorical_accuracy: 0.2200\n",
            "Epoch 3/50\n",
            "21/21 [==============================] - ETA: 0s - loss: 1.5964 - categorical_accuracy: 0.2534\n",
            "Epoch 00003: saving model to model_init_2021-06-2715_20_34.220461/model-00003-1.596-0.253-1.580-0.270.h5\n",
            "21/21 [==============================] - 71s 3s/step - loss: 1.5964 - categorical_accuracy: 0.2534 - val_loss: 1.5804 - val_categorical_accuracy: 0.2700\n",
            "Epoch 4/50\n",
            "21/21 [==============================] - ETA: 0s - loss: 1.5753 - categorical_accuracy: 0.2564\n",
            "Epoch 00004: saving model to model_init_2021-06-2715_20_34.220461/model-00004-1.575-0.256-1.585-0.220.h5\n",
            "21/21 [==============================] - 69s 3s/step - loss: 1.5753 - categorical_accuracy: 0.2564 - val_loss: 1.5849 - val_categorical_accuracy: 0.2200\n",
            "Epoch 5/50\n",
            "21/21 [==============================] - ETA: 0s - loss: 1.5171 - categorical_accuracy: 0.3062\n",
            "Epoch 00005: saving model to model_init_2021-06-2715_20_34.220461/model-00005-1.517-0.306-1.508-0.480.h5\n",
            "21/21 [==============================] - 72s 3s/step - loss: 1.5171 - categorical_accuracy: 0.3062 - val_loss: 1.5078 - val_categorical_accuracy: 0.4800\n",
            "Epoch 6/50\n",
            "21/21 [==============================] - ETA: 0s - loss: 1.4464 - categorical_accuracy: 0.3846\n",
            "Epoch 00006: saving model to model_init_2021-06-2715_20_34.220461/model-00006-1.446-0.385-1.538-0.380.h5\n",
            "21/21 [==============================] - 72s 3s/step - loss: 1.4464 - categorical_accuracy: 0.3846 - val_loss: 1.5383 - val_categorical_accuracy: 0.3800\n",
            "Epoch 7/50\n",
            "21/21 [==============================] - ETA: 0s - loss: 1.2652 - categorical_accuracy: 0.4676\n",
            "Epoch 00007: saving model to model_init_2021-06-2715_20_34.220461/model-00007-1.265-0.468-1.392-0.580.h5\n",
            "21/21 [==============================] - 75s 4s/step - loss: 1.2652 - categorical_accuracy: 0.4676 - val_loss: 1.3916 - val_categorical_accuracy: 0.5800\n",
            "Epoch 8/50\n",
            "21/21 [==============================] - ETA: 0s - loss: 1.1560 - categorical_accuracy: 0.5279\n",
            "Epoch 00008: saving model to model_init_2021-06-2715_20_34.220461/model-00008-1.156-0.528-1.237-0.500.h5\n",
            "21/21 [==============================] - 73s 3s/step - loss: 1.1560 - categorical_accuracy: 0.5279 - val_loss: 1.2368 - val_categorical_accuracy: 0.5000\n",
            "Epoch 9/50\n",
            "21/21 [==============================] - ETA: 0s - loss: 1.0160 - categorical_accuracy: 0.5928\n",
            "Epoch 00009: saving model to model_init_2021-06-2715_20_34.220461/model-00009-1.016-0.593-1.182-0.530.h5\n",
            "21/21 [==============================] - 76s 4s/step - loss: 1.0160 - categorical_accuracy: 0.5928 - val_loss: 1.1817 - val_categorical_accuracy: 0.5300\n",
            "Epoch 10/50\n",
            "21/21 [==============================] - ETA: 0s - loss: 0.8551 - categorical_accuracy: 0.6501\n",
            "Epoch 00010: saving model to model_init_2021-06-2715_20_34.220461/model-00010-0.855-0.650-0.958-0.690.h5\n",
            "21/21 [==============================] - 75s 4s/step - loss: 0.8551 - categorical_accuracy: 0.6501 - val_loss: 0.9580 - val_categorical_accuracy: 0.6900\n",
            "Epoch 11/50\n",
            "21/21 [==============================] - ETA: 0s - loss: 0.7059 - categorical_accuracy: 0.7602\n",
            "Epoch 00011: saving model to model_init_2021-06-2715_20_34.220461/model-00011-0.706-0.760-0.968-0.610.h5\n",
            "21/21 [==============================] - 78s 4s/step - loss: 0.7059 - categorical_accuracy: 0.7602 - val_loss: 0.9684 - val_categorical_accuracy: 0.6100\n",
            "Epoch 12/50\n",
            "21/21 [==============================] - ETA: 0s - loss: 0.6269 - categorical_accuracy: 0.7541\n",
            "Epoch 00012: saving model to model_init_2021-06-2715_20_34.220461/model-00012-0.627-0.754-0.810-0.690.h5\n",
            "21/21 [==============================] - 74s 4s/step - loss: 0.6269 - categorical_accuracy: 0.7541 - val_loss: 0.8096 - val_categorical_accuracy: 0.6900\n",
            "Epoch 13/50\n",
            "21/21 [==============================] - ETA: 0s - loss: 0.5389 - categorical_accuracy: 0.7964\n",
            "Epoch 00013: saving model to model_init_2021-06-2715_20_34.220461/model-00013-0.539-0.796-0.984-0.690.h5\n",
            "21/21 [==============================] - 73s 3s/step - loss: 0.5389 - categorical_accuracy: 0.7964 - val_loss: 0.9836 - val_categorical_accuracy: 0.6900\n",
            "Epoch 14/50\n",
            "21/21 [==============================] - ETA: 0s - loss: 0.4966 - categorical_accuracy: 0.8205\n",
            "Epoch 00014: saving model to model_init_2021-06-2715_20_34.220461/model-00014-0.497-0.821-0.751-0.770.h5\n",
            "21/21 [==============================] - 76s 4s/step - loss: 0.4966 - categorical_accuracy: 0.8205 - val_loss: 0.7513 - val_categorical_accuracy: 0.7700\n",
            "Epoch 15/50\n",
            "21/21 [==============================] - ETA: 0s - loss: 0.4398 - categorical_accuracy: 0.8477\n",
            "Epoch 00015: saving model to model_init_2021-06-2715_20_34.220461/model-00015-0.440-0.848-0.848-0.740.h5\n",
            "21/21 [==============================] - 76s 4s/step - loss: 0.4398 - categorical_accuracy: 0.8477 - val_loss: 0.8478 - val_categorical_accuracy: 0.7400\n",
            "Epoch 16/50\n",
            "21/21 [==============================] - ETA: 0s - loss: 0.3188 - categorical_accuracy: 0.8944\n",
            "Epoch 00016: saving model to model_init_2021-06-2715_20_34.220461/model-00016-0.319-0.894-0.787-0.770.h5\n",
            "21/21 [==============================] - 75s 4s/step - loss: 0.3188 - categorical_accuracy: 0.8944 - val_loss: 0.7874 - val_categorical_accuracy: 0.7700\n",
            "Epoch 17/50\n",
            "21/21 [==============================] - ETA: 0s - loss: 0.3391 - categorical_accuracy: 0.8944\n",
            "Epoch 00017: saving model to model_init_2021-06-2715_20_34.220461/model-00017-0.339-0.894-0.741-0.780.h5\n",
            "21/21 [==============================] - 76s 4s/step - loss: 0.3391 - categorical_accuracy: 0.8944 - val_loss: 0.7411 - val_categorical_accuracy: 0.7800\n",
            "Epoch 18/50\n",
            "21/21 [==============================] - ETA: 0s - loss: 0.3075 - categorical_accuracy: 0.8854\n",
            "Epoch 00018: saving model to model_init_2021-06-2715_20_34.220461/model-00018-0.308-0.885-1.030-0.650.h5\n",
            "21/21 [==============================] - 77s 4s/step - loss: 0.3075 - categorical_accuracy: 0.8854 - val_loss: 1.0301 - val_categorical_accuracy: 0.6500\n",
            "Epoch 19/50\n",
            "21/21 [==============================] - ETA: 0s - loss: 0.3111 - categorical_accuracy: 0.8959\n",
            "Epoch 00019: saving model to model_init_2021-06-2715_20_34.220461/model-00019-0.311-0.896-1.065-0.760.h5\n",
            "21/21 [==============================] - 76s 4s/step - loss: 0.3111 - categorical_accuracy: 0.8959 - val_loss: 1.0653 - val_categorical_accuracy: 0.7600\n",
            "Epoch 20/50\n",
            "21/21 [==============================] - ETA: 0s - loss: 0.2949 - categorical_accuracy: 0.8824\n",
            "Epoch 00020: saving model to model_init_2021-06-2715_20_34.220461/model-00020-0.295-0.882-0.647-0.770.h5\n",
            "21/21 [==============================] - 69s 3s/step - loss: 0.2949 - categorical_accuracy: 0.8824 - val_loss: 0.6473 - val_categorical_accuracy: 0.7700\n",
            "Epoch 21/50\n",
            "21/21 [==============================] - ETA: 0s - loss: 0.2223 - categorical_accuracy: 0.9306\n",
            "Epoch 00021: saving model to model_init_2021-06-2715_20_34.220461/model-00021-0.222-0.931-0.687-0.740.h5\n",
            "21/21 [==============================] - 74s 4s/step - loss: 0.2223 - categorical_accuracy: 0.9306 - val_loss: 0.6873 - val_categorical_accuracy: 0.7400\n",
            "Epoch 22/50\n",
            "21/21 [==============================] - ETA: 0s - loss: 0.2439 - categorical_accuracy: 0.9216\n",
            "Epoch 00022: saving model to model_init_2021-06-2715_20_34.220461/model-00022-0.244-0.922-1.021-0.680.h5\n",
            "21/21 [==============================] - 77s 4s/step - loss: 0.2439 - categorical_accuracy: 0.9216 - val_loss: 1.0208 - val_categorical_accuracy: 0.6800\n",
            "Epoch 23/50\n",
            "21/21 [==============================] - ETA: 0s - loss: 0.2404 - categorical_accuracy: 0.9155\n",
            "Epoch 00023: saving model to model_init_2021-06-2715_20_34.220461/model-00023-0.240-0.916-1.261-0.690.h5\n",
            "\n",
            "Epoch 00023: ReduceLROnPlateau reducing learning rate to 0.00020000000949949026.\n",
            "21/21 [==============================] - 79s 4s/step - loss: 0.2404 - categorical_accuracy: 0.9155 - val_loss: 1.2606 - val_categorical_accuracy: 0.6900\n",
            "Epoch 24/50\n",
            "21/21 [==============================] - ETA: 0s - loss: 0.2192 - categorical_accuracy: 0.9231\n",
            "Epoch 00024: saving model to model_init_2021-06-2715_20_34.220461/model-00024-0.219-0.923-0.754-0.750.h5\n",
            "21/21 [==============================] - 74s 4s/step - loss: 0.2192 - categorical_accuracy: 0.9231 - val_loss: 0.7535 - val_categorical_accuracy: 0.7500\n",
            "Epoch 25/50\n",
            "21/21 [==============================] - ETA: 0s - loss: 0.1729 - categorical_accuracy: 0.9427\n",
            "Epoch 00025: saving model to model_init_2021-06-2715_20_34.220461/model-00025-0.173-0.943-0.761-0.790.h5\n",
            "21/21 [==============================] - 77s 4s/step - loss: 0.1729 - categorical_accuracy: 0.9427 - val_loss: 0.7606 - val_categorical_accuracy: 0.7900\n",
            "Epoch 26/50\n",
            "21/21 [==============================] - ETA: 0s - loss: 0.1883 - categorical_accuracy: 0.9367\n",
            "Epoch 00026: saving model to model_init_2021-06-2715_20_34.220461/model-00026-0.188-0.937-0.610-0.800.h5\n",
            "21/21 [==============================] - 76s 4s/step - loss: 0.1883 - categorical_accuracy: 0.9367 - val_loss: 0.6097 - val_categorical_accuracy: 0.8000\n",
            "Epoch 27/50\n",
            "21/21 [==============================] - ETA: 0s - loss: 0.1508 - categorical_accuracy: 0.9487\n",
            "Epoch 00027: saving model to model_init_2021-06-2715_20_34.220461/model-00027-0.151-0.949-0.949-0.730.h5\n",
            "21/21 [==============================] - 72s 3s/step - loss: 0.1508 - categorical_accuracy: 0.9487 - val_loss: 0.9492 - val_categorical_accuracy: 0.7300\n",
            "Epoch 28/50\n",
            "21/21 [==============================] - ETA: 0s - loss: 0.1512 - categorical_accuracy: 0.9502\n",
            "Epoch 00028: saving model to model_init_2021-06-2715_20_34.220461/model-00028-0.151-0.950-0.800-0.800.h5\n",
            "21/21 [==============================] - 69s 3s/step - loss: 0.1512 - categorical_accuracy: 0.9502 - val_loss: 0.7998 - val_categorical_accuracy: 0.8000\n",
            "Epoch 29/50\n",
            "21/21 [==============================] - ETA: 0s - loss: 0.1396 - categorical_accuracy: 0.9472\n",
            "Epoch 00029: saving model to model_init_2021-06-2715_20_34.220461/model-00029-0.140-0.947-0.813-0.760.h5\n",
            "\n",
            "Epoch 00029: ReduceLROnPlateau reducing learning rate to 4.0000001899898055e-05.\n",
            "21/21 [==============================] - 74s 4s/step - loss: 0.1396 - categorical_accuracy: 0.9472 - val_loss: 0.8127 - val_categorical_accuracy: 0.7600\n",
            "Epoch 30/50\n",
            "21/21 [==============================] - ETA: 0s - loss: 0.1473 - categorical_accuracy: 0.9502\n",
            "Epoch 00030: saving model to model_init_2021-06-2715_20_34.220461/model-00030-0.147-0.950-0.793-0.760.h5\n",
            "21/21 [==============================] - 74s 4s/step - loss: 0.1473 - categorical_accuracy: 0.9502 - val_loss: 0.7933 - val_categorical_accuracy: 0.7600\n",
            "Epoch 31/50\n",
            "21/21 [==============================] - ETA: 0s - loss: 0.1570 - categorical_accuracy: 0.9487\n",
            "Epoch 00031: saving model to model_init_2021-06-2715_20_34.220461/model-00031-0.157-0.949-0.532-0.830.h5\n",
            "21/21 [==============================] - 76s 4s/step - loss: 0.1570 - categorical_accuracy: 0.9487 - val_loss: 0.5320 - val_categorical_accuracy: 0.8300\n",
            "Epoch 32/50\n",
            "21/21 [==============================] - ETA: 0s - loss: 0.1442 - categorical_accuracy: 0.9548\n",
            "Epoch 00032: saving model to model_init_2021-06-2715_20_34.220461/model-00032-0.144-0.955-0.738-0.770.h5\n",
            "21/21 [==============================] - 73s 3s/step - loss: 0.1442 - categorical_accuracy: 0.9548 - val_loss: 0.7377 - val_categorical_accuracy: 0.7700\n",
            "Epoch 33/50\n",
            "21/21 [==============================] - ETA: 0s - loss: 0.1757 - categorical_accuracy: 0.9427\n",
            "Epoch 00033: saving model to model_init_2021-06-2715_20_34.220461/model-00033-0.176-0.943-0.785-0.770.h5\n",
            "21/21 [==============================] - 74s 4s/step - loss: 0.1757 - categorical_accuracy: 0.9427 - val_loss: 0.7854 - val_categorical_accuracy: 0.7700\n",
            "Epoch 34/50\n",
            "21/21 [==============================] - ETA: 0s - loss: 0.1169 - categorical_accuracy: 0.9638\n",
            "Epoch 00034: saving model to model_init_2021-06-2715_20_34.220461/model-00034-0.117-0.964-0.601-0.810.h5\n",
            "\n",
            "Epoch 00034: ReduceLROnPlateau reducing learning rate to 8.000000525498762e-06.\n",
            "21/21 [==============================] - 72s 3s/step - loss: 0.1169 - categorical_accuracy: 0.9638 - val_loss: 0.6012 - val_categorical_accuracy: 0.8100\n",
            "Epoch 35/50\n",
            "21/21 [==============================] - ETA: 0s - loss: 0.1545 - categorical_accuracy: 0.9472\n",
            "Epoch 00035: saving model to model_init_2021-06-2715_20_34.220461/model-00035-0.154-0.947-0.866-0.760.h5\n",
            "21/21 [==============================] - 74s 4s/step - loss: 0.1545 - categorical_accuracy: 0.9472 - val_loss: 0.8658 - val_categorical_accuracy: 0.7600\n",
            "Epoch 36/50\n",
            "21/21 [==============================] - ETA: 0s - loss: 0.1573 - categorical_accuracy: 0.9442\n",
            "Epoch 00036: saving model to model_init_2021-06-2715_20_34.220461/model-00036-0.157-0.944-0.769-0.770.h5\n",
            "21/21 [==============================] - 69s 3s/step - loss: 0.1573 - categorical_accuracy: 0.9442 - val_loss: 0.7688 - val_categorical_accuracy: 0.7700\n",
            "Epoch 37/50\n",
            "21/21 [==============================] - ETA: 0s - loss: 0.1557 - categorical_accuracy: 0.9532\n",
            "Epoch 00037: saving model to model_init_2021-06-2715_20_34.220461/model-00037-0.156-0.953-0.777-0.770.h5\n",
            "\n",
            "Epoch 00037: ReduceLROnPlateau reducing learning rate to 1.6000001778593287e-06.\n",
            "21/21 [==============================] - 74s 4s/step - loss: 0.1557 - categorical_accuracy: 0.9532 - val_loss: 0.7774 - val_categorical_accuracy: 0.7700\n",
            "Epoch 38/50\n",
            "21/21 [==============================] - ETA: 0s - loss: 0.1252 - categorical_accuracy: 0.9548\n",
            "Epoch 00038: saving model to model_init_2021-06-2715_20_34.220461/model-00038-0.125-0.955-0.850-0.740.h5\n",
            "21/21 [==============================] - 74s 4s/step - loss: 0.1252 - categorical_accuracy: 0.9548 - val_loss: 0.8503 - val_categorical_accuracy: 0.7400\n",
            "Epoch 39/50\n",
            "21/21 [==============================] - ETA: 0s - loss: 0.1350 - categorical_accuracy: 0.9563\n",
            "Epoch 00039: saving model to model_init_2021-06-2715_20_34.220461/model-00039-0.135-0.956-0.769-0.780.h5\n",
            "21/21 [==============================] - 74s 4s/step - loss: 0.1350 - categorical_accuracy: 0.9563 - val_loss: 0.7692 - val_categorical_accuracy: 0.7800\n",
            "Epoch 40/50\n",
            "21/21 [==============================] - ETA: 0s - loss: 0.1596 - categorical_accuracy: 0.9563\n",
            "Epoch 00040: saving model to model_init_2021-06-2715_20_34.220461/model-00040-0.160-0.956-0.772-0.770.h5\n",
            "\n",
            "Epoch 00040: ReduceLROnPlateau reducing learning rate to 3.200000264769187e-07.\n",
            "21/21 [==============================] - 72s 3s/step - loss: 0.1596 - categorical_accuracy: 0.9563 - val_loss: 0.7720 - val_categorical_accuracy: 0.7700\n",
            "Epoch 41/50\n",
            "21/21 [==============================] - ETA: 0s - loss: 0.1518 - categorical_accuracy: 0.9517\n",
            "Epoch 00041: saving model to model_init_2021-06-2715_20_34.220461/model-00041-0.152-0.952-0.774-0.770.h5\n",
            "21/21 [==============================] - 74s 4s/step - loss: 0.1518 - categorical_accuracy: 0.9517 - val_loss: 0.7736 - val_categorical_accuracy: 0.7700\n",
            "Epoch 42/50\n",
            "21/21 [==============================] - ETA: 0s - loss: 0.1441 - categorical_accuracy: 0.9548\n",
            "Epoch 00042: saving model to model_init_2021-06-2715_20_34.220461/model-00042-0.144-0.955-0.911-0.740.h5\n",
            "21/21 [==============================] - 74s 4s/step - loss: 0.1441 - categorical_accuracy: 0.9548 - val_loss: 0.9107 - val_categorical_accuracy: 0.7400\n",
            "Epoch 43/50\n",
            "21/21 [==============================] - ETA: 0s - loss: 0.1534 - categorical_accuracy: 0.9517\n",
            "Epoch 00043: saving model to model_init_2021-06-2715_20_34.220461/model-00043-0.153-0.952-0.649-0.820.h5\n",
            "\n",
            "Epoch 00043: ReduceLROnPlateau reducing learning rate to 6.400000529538374e-08.\n",
            "21/21 [==============================] - 74s 4s/step - loss: 0.1534 - categorical_accuracy: 0.9517 - val_loss: 0.6492 - val_categorical_accuracy: 0.8200\n",
            "Epoch 44/50\n",
            "21/21 [==============================] - ETA: 0s - loss: 0.1610 - categorical_accuracy: 0.9457\n",
            "Epoch 00044: saving model to model_init_2021-06-2715_20_34.220461/model-00044-0.161-0.946-0.746-0.790.h5\n",
            "21/21 [==============================] - 71s 3s/step - loss: 0.1610 - categorical_accuracy: 0.9457 - val_loss: 0.7463 - val_categorical_accuracy: 0.7900\n",
            "Epoch 45/50\n",
            "21/21 [==============================] - ETA: 0s - loss: 0.1600 - categorical_accuracy: 0.9472\n",
            "Epoch 00045: saving model to model_init_2021-06-2715_20_34.220461/model-00045-0.160-0.947-0.773-0.770.h5\n",
            "21/21 [==============================] - 75s 4s/step - loss: 0.1600 - categorical_accuracy: 0.9472 - val_loss: 0.7727 - val_categorical_accuracy: 0.7700\n",
            "Epoch 46/50\n",
            "21/21 [==============================] - ETA: 0s - loss: 0.1536 - categorical_accuracy: 0.9548\n",
            "Epoch 00046: saving model to model_init_2021-06-2715_20_34.220461/model-00046-0.154-0.955-0.685-0.790.h5\n",
            "\n",
            "Epoch 00046: ReduceLROnPlateau reducing learning rate to 1.2800001059076749e-08.\n",
            "21/21 [==============================] - 72s 3s/step - loss: 0.1536 - categorical_accuracy: 0.9548 - val_loss: 0.6851 - val_categorical_accuracy: 0.7900\n",
            "Epoch 47/50\n",
            "21/21 [==============================] - ETA: 0s - loss: 0.1659 - categorical_accuracy: 0.9457\n",
            "Epoch 00047: saving model to model_init_2021-06-2715_20_34.220461/model-00047-0.166-0.946-0.814-0.710.h5\n",
            "21/21 [==============================] - 70s 3s/step - loss: 0.1659 - categorical_accuracy: 0.9457 - val_loss: 0.8140 - val_categorical_accuracy: 0.7100\n",
            "Epoch 48/50\n",
            "21/21 [==============================] - ETA: 0s - loss: 0.1395 - categorical_accuracy: 0.9563\n",
            "Epoch 00048: saving model to model_init_2021-06-2715_20_34.220461/model-00048-0.139-0.956-0.752-0.790.h5\n",
            "21/21 [==============================] - 68s 3s/step - loss: 0.1395 - categorical_accuracy: 0.9563 - val_loss: 0.7521 - val_categorical_accuracy: 0.7900\n",
            "Epoch 49/50\n",
            "21/21 [==============================] - ETA: 0s - loss: 0.1296 - categorical_accuracy: 0.9608\n",
            "Epoch 00049: saving model to model_init_2021-06-2715_20_34.220461/model-00049-0.130-0.961-0.772-0.770.h5\n",
            "\n",
            "Epoch 00049: ReduceLROnPlateau reducing learning rate to 2.5600002118153498e-09.\n",
            "21/21 [==============================] - 70s 3s/step - loss: 0.1296 - categorical_accuracy: 0.9608 - val_loss: 0.7717 - val_categorical_accuracy: 0.7700\n",
            "Epoch 50/50\n",
            "21/21 [==============================] - ETA: 0s - loss: 0.1678 - categorical_accuracy: 0.9351\n",
            "Epoch 00050: saving model to model_init_2021-06-2715_20_34.220461/model-00050-0.168-0.935-0.845-0.730.h5\n",
            "21/21 [==============================] - 73s 3s/step - loss: 0.1678 - categorical_accuracy: 0.9351 - val_loss: 0.8452 - val_categorical_accuracy: 0.7300\n"
          ],
          "name": "stdout"
        },
        {
          "output_type": "execute_result",
          "data": {
            "text/plain": [
              "<tensorflow.python.keras.callbacks.History at 0x7f1fac646b00>"
            ]
          },
          "metadata": {
            "tags": []
          },
          "execution_count": 13
        }
      ]
    },
    {
      "cell_type": "markdown",
      "metadata": {
        "id": "4PqepBJHlAfe"
      },
      "source": [
        "### CNN_RNN with transfer learning"
      ]
    },
    {
      "cell_type": "code",
      "metadata": {
        "id": "kOt38OAjlAff"
      },
      "source": [
        "####\n",
        "# CNN-RNN with Transfer learning\n",
        "####\n",
        "\n",
        "from tensorflow.keras.models import Sequential, Model\n",
        "from tensorflow.keras.layers import GlobalAveragePooling2D, Dense,TimeDistributed, LSTM, GRU, Dropout, Flatten, BatchNormalization, Activation, Conv2D,Conv3D, MaxPooling2D, MaxPooling3D\n",
        "from tensorflow.keras.callbacks import ModelCheckpoint, ReduceLROnPlateau\n",
        "from tensorflow.keras.regularizers import L2 #vs l2\n",
        "from tensorflow.keras import optimizers\n",
        "from tensorflow.keras.applications import ResNet50\n",
        "from tensorflow.keras.applications.resnet50 import preprocess_input\n",
        "\n",
        "#write your model here\n",
        "model = Sequential()\n",
        "\n",
        "base_model = ResNet50(weights='imagenet', include_top=False)\n",
        "# base_model.summary()    \n",
        "# base_model.layers.pop() ## removing 4x4x2048 layers\n",
        "# base_model = Sequential(base_model.layers[:-2])\n",
        "base_model = Model(base_model.input, base_model.layers[6].output)\n",
        "# base_model.summary()\n",
        "# As we are using ResNet model only for feature extraction and not adjusting the weights\n",
        "# we freeze the layers in base model\n",
        "for layer in base_model.layers:\n",
        "    layer.trainable = False\n",
        "\n",
        "# Adding our own layer \n",
        "model.add(TimeDistributed(base_model))\n",
        "\n",
        "# model.add(TimeDistributed(Conv2D(128, (3, 3) , padding = \"SAME\",\n",
        "#                         input_shape=(y, z, 3)))) #### Large batch_size might not fit params into memory\n",
        "# model.add(TimeDistributed(Activation('relu')))\n",
        "# model.add(TimeDistributed(Conv2D(128, ( 3, 3), padding = \"SAME\")))\n",
        "# model.add(TimeDistributed(Activation('relu')))\n",
        "# model.add(TimeDistributed(MaxPooling2D(pool_size=(2, 2))))\n",
        "# model.add(TimeDistributed(Dropout(0.5)))\n",
        "\n",
        "# model.add(TimeDistributed(Conv2D(64, (3, 3) , padding = \"SAME\"))) \n",
        "# model.add(TimeDistributed(Activation('relu')))\n",
        "# model.add(TimeDistributed(Conv2D(64, ( 3, 3), padding = \"SAME\")))\n",
        "# model.add(TimeDistributed(Activation('relu')))\n",
        "# model.add(TimeDistributed(MaxPooling2D(pool_size=(2, 2))))\n",
        "# model.add(TimeDistributed(Dropout(0.5)))\n",
        "\n",
        "## reduce filters from 256 -> 32\n",
        "model.add(TimeDistributed(Conv2D(32, (3, 3) , padding = \"SAME\"))) \n",
        "model.add(TimeDistributed(Activation('relu')))\n",
        "# model.add(TimeDistributed(Conv2D(32, ( 3, 3), padding = \"SAME\")))\n",
        "# model.add(TimeDistributed(Activation('relu')))\n",
        "model.add(TimeDistributed(MaxPooling2D(pool_size=(2, 2))))\n",
        "model.add(TimeDistributed(Dropout(0.5)))\n",
        "\n",
        "# model.add(pretrained)\n",
        "model.add(TimeDistributed(Flatten()))\n",
        "model.add(LSTM(32\n",
        "#                input_shape = [None,x]\n",
        "#                 activation=\"relu\",\n",
        "#                 dropout = 0.5\n",
        "              ))    \n",
        "model.add(Dropout(0.5))\n",
        "\n",
        "## number of params - 74240 = 4 set of wts * ( 128 output  * ( 16 emb inputdim + 1 bias) +   128 output^2)\n",
        "\n",
        "# Layer 5 - Dense FFN with Dropout\n",
        "model.add(BatchNormalization())\n",
        "model.add(Dense(128))\n",
        "model.add(Dropout(0.5))\n",
        "# model.add(BatchNormalization())\n",
        "model.add(Dense(5, \n",
        "#                 kernel_initializer = weights,\n",
        "                    name='output'))\n",
        "model.add(Activation('softmax'))\n",
        "\n"
      ],
      "execution_count": null,
      "outputs": []
    },
    {
      "cell_type": "code",
      "metadata": {
        "id": "jev5rXPzlAff"
      },
      "source": [
        "learning_rate = 0.001\n",
        "optimiser = optimizers.Adam(lr=learning_rate, clipvalue=1.0)#write your optimizer\n",
        "model.compile(optimizer=optimiser, loss='categorical_crossentropy', metrics=['categorical_accuracy'])\n",
        "\n",
        "model.build(input_shape = [None, x ,y, z ,3]) ##### specify seq\n",
        "\n",
        "print (model.summary())"
      ],
      "execution_count": null,
      "outputs": []
    },
    {
      "cell_type": "code",
      "metadata": {
        "id": "7Y1pZ_FJlAfg"
      },
      "source": [
        "batch_size = 32"
      ],
      "execution_count": null,
      "outputs": []
    },
    {
      "cell_type": "code",
      "metadata": {
        "id": "PWYH8Sr0lAfg"
      },
      "source": [
        "train_generator = generator(train_path, train_doc, batch_size)\n",
        "val_generator = generator(val_path, val_doc, batch_size)"
      ],
      "execution_count": null,
      "outputs": []
    },
    {
      "cell_type": "code",
      "metadata": {
        "id": "DC6MJ8PIlAfg"
      },
      "source": [
        "model_name = 'model_init' + '_' + str(curr_dt_time).replace(' ','').replace(':','_') + '/'\n",
        "    \n",
        "if not os.path.exists(model_name):\n",
        "    os.mkdir(model_name)\n",
        "        \n",
        "filepath = model_name + 'model-{epoch:05d}-{loss:.3f}-{categorical_accuracy:.3f}-{val_loss:.3f}-{val_categorical_accuracy:.3f}.h5'\n",
        "\n",
        "checkpoint = ModelCheckpoint(filepath, monitor='val_loss', verbose=1, save_best_only=False, save_weights_only=False, mode='auto',save_freq = \"epoch\")\n",
        "\n",
        "LR = ReduceLROnPlateau(monitor='val_loss', factor=0.2, verbose=1, patience=3)# write the REducelronplateau code here\n",
        "callbacks_list = [checkpoint, LR]"
      ],
      "execution_count": null,
      "outputs": []
    },
    {
      "cell_type": "code",
      "metadata": {
        "id": "9EvzMGWElAfg"
      },
      "source": [
        "if (num_train_sequences%batch_size) == 0:\n",
        "    steps_per_epoch = int(num_train_sequences/batch_size)\n",
        "else:\n",
        "    steps_per_epoch = (num_train_sequences//batch_size) + 1\n",
        "\n",
        "if (num_val_sequences%batch_size) == 0:\n",
        "    validation_steps = int(num_val_sequences/batch_size)\n",
        "else:\n",
        "    validation_steps = (num_val_sequences//batch_size) + 1\n",
        "    \n",
        "model.fit(train_generator, steps_per_epoch=steps_per_epoch, epochs=num_epochs, verbose=True, \n",
        "                    callbacks=callbacks_list, validation_data=val_generator, \n",
        "                    validation_steps=validation_steps, class_weight=None, workers=1, initial_epoch=0)"
      ],
      "execution_count": null,
      "outputs": []
    },
    {
      "cell_type": "code",
      "metadata": {
        "id": "HKmAaef3lAfh"
      },
      "source": [
        ""
      ],
      "execution_count": null,
      "outputs": []
    }
  ]
}